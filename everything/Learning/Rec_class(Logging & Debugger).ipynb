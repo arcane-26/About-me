{
 "cells": [
  {
   "cell_type": "code",
   "execution_count": 1,
   "id": "60174962",
   "metadata": {},
   "outputs": [],
   "source": [
    "# using print() fuction temorarily print the required data in the console at the time of exection and then the data is erased\n",
    "# using print function is not a good pratice "
   ]
  },
  {
   "cell_type": "code",
   "execution_count": 5,
   "id": "f0663fd7",
   "metadata": {},
   "outputs": [
    {
     "name": "stdout",
     "output_type": "stream",
     "text": [
      "I am watching\n"
     ]
    }
   ],
   "source": [
    "print(\"I am watching\")"
   ]
  },
  {
   "cell_type": "code",
   "execution_count": 2,
   "id": "16795e1d",
   "metadata": {},
   "outputs": [],
   "source": [
    "# logging module in python allows us to keep the record of data that have been executed in the runtime "
   ]
  },
  {
   "cell_type": "code",
   "execution_count": null,
   "id": "5ab6bd9c",
   "metadata": {},
   "outputs": [],
   "source": []
  },
  {
   "cell_type": "code",
   "execution_count": null,
   "id": "9eebbdf5",
   "metadata": {},
   "outputs": [],
   "source": []
  },
  {
   "cell_type": "markdown",
   "id": "630cc003",
   "metadata": {},
   "source": [
    "Levels in logging module\n",
    "* NOTSET\n",
    "* DEBUG\n",
    "* INFO\n",
    "* WARNING\n",
    "* ERROR\n",
    "* CRITICAL"
   ]
  },
  {
   "cell_type": "code",
   "execution_count": null,
   "id": "efc2bbee",
   "metadata": {},
   "outputs": [],
   "source": []
  },
  {
   "cell_type": "code",
   "execution_count": 11,
   "id": "f292a8d1",
   "metadata": {},
   "outputs": [],
   "source": [
    "# from the above levles, whichever level is set inside the basiconfig parameter the remaining below level can be called \n",
    "# for example if we set level=logging.INFO then warning,error,critical can be called by logging module, notset and debug can't\n",
    "# be called because they are above the INFO level"
   ]
  },
  {
   "cell_type": "code",
   "execution_count": null,
   "id": "6c354a39",
   "metadata": {},
   "outputs": [],
   "source": []
  },
  {
   "cell_type": "code",
   "execution_count": null,
   "id": "4d539a2e",
   "metadata": {},
   "outputs": [],
   "source": []
  },
  {
   "cell_type": "code",
   "execution_count": 1,
   "id": "ed270b4c",
   "metadata": {},
   "outputs": [],
   "source": [
    "import logging"
   ]
  },
  {
   "cell_type": "code",
   "execution_count": 51,
   "id": "49a8aafc",
   "metadata": {},
   "outputs": [],
   "source": [
    "logging.basicConfig(filename='test.log', level=logging.INFO)"
   ]
  },
  {
   "cell_type": "code",
   "execution_count": 52,
   "id": "974cb7ef",
   "metadata": {},
   "outputs": [],
   "source": [
    "logging.info(\"I am walking\")"
   ]
  },
  {
   "cell_type": "code",
   "execution_count": 53,
   "id": "e2a8b6d7",
   "metadata": {},
   "outputs": [],
   "source": [
    "logging.info(\"Graduate Aptitude Test in Engineering\")"
   ]
  },
  {
   "cell_type": "code",
   "execution_count": 54,
   "id": "4ddddd8b",
   "metadata": {},
   "outputs": [],
   "source": [
    "logging.warning(\"this is warning message\")"
   ]
  },
  {
   "cell_type": "code",
   "execution_count": 55,
   "id": "051549e0",
   "metadata": {},
   "outputs": [],
   "source": [
    "logging.error(\"this is error message\")"
   ]
  },
  {
   "cell_type": "code",
   "execution_count": 56,
   "id": "31d1c7fb",
   "metadata": {},
   "outputs": [],
   "source": [
    "logging.critical(\"this is critical message\")"
   ]
  },
  {
   "cell_type": "code",
   "execution_count": 57,
   "id": "1c5e858a",
   "metadata": {},
   "outputs": [],
   "source": [
    "logging.shutdown()"
   ]
  },
  {
   "cell_type": "code",
   "execution_count": 58,
   "id": "0bc467f3",
   "metadata": {},
   "outputs": [],
   "source": [
    "# we can also specify the format in which we want to store the data in the log\n",
    "# suppose if we want to store the data with 'time' i.e at what time it was executed we can do that "
   ]
  },
  {
   "cell_type": "code",
   "execution_count": null,
   "id": "813c274f",
   "metadata": {},
   "outputs": [],
   "source": []
  },
  {
   "cell_type": "code",
   "execution_count": 59,
   "id": "f3dc7d56",
   "metadata": {},
   "outputs": [],
   "source": [
    "# format = %(asctime)s %(message)s -----> this specifies the format of the logging 's' in last means in string format "
   ]
  },
  {
   "cell_type": "code",
   "execution_count": 1,
   "id": "f04fa6ee",
   "metadata": {},
   "outputs": [],
   "source": [
    "import logging"
   ]
  },
  {
   "cell_type": "code",
   "execution_count": 2,
   "id": "21ea7e1b",
   "metadata": {},
   "outputs": [],
   "source": [
    "logging.basicConfig(filename='random.log', level=logging.DEBUG, format='%(asctime)s %(message)s')"
   ]
  },
  {
   "cell_type": "code",
   "execution_count": 3,
   "id": "a4e16708",
   "metadata": {},
   "outputs": [],
   "source": [
    "logging.info(\"This is info message\")"
   ]
  },
  {
   "cell_type": "code",
   "execution_count": 4,
   "id": "db424cf2",
   "metadata": {},
   "outputs": [],
   "source": [
    "logging.shutdown()"
   ]
  },
  {
   "cell_type": "code",
   "execution_count": null,
   "id": "3993e22b",
   "metadata": {},
   "outputs": [],
   "source": []
  },
  {
   "cell_type": "code",
   "execution_count": 6,
   "id": "8a989bf2",
   "metadata": {},
   "outputs": [],
   "source": [
    "# remember that when we create want to create a new log file we have to RESTART THE KERNAL then only log file will be created\n",
    "# else whatever we call changes will be made in previous log file"
   ]
  },
  {
   "cell_type": "code",
   "execution_count": 6,
   "id": "fe4bfd8a",
   "metadata": {},
   "outputs": [],
   "source": [
    "logging.basicConfig(filename=\"ashish.log\", level=logging.DEBUG, format='%(asctime)s %(name)s %(levelname)s')"
   ]
  },
  {
   "cell_type": "code",
   "execution_count": 7,
   "id": "caceee37",
   "metadata": {},
   "outputs": [],
   "source": [
    "logging.info(\"my name is ashish\")"
   ]
  },
  {
   "cell_type": "code",
   "execution_count": 6,
   "id": "dea35252",
   "metadata": {},
   "outputs": [],
   "source": [
    "logging.shutdown()"
   ]
  },
  {
   "cell_type": "code",
   "execution_count": null,
   "id": "a86c55e7",
   "metadata": {},
   "outputs": [],
   "source": []
  },
  {
   "cell_type": "code",
   "execution_count": null,
   "id": "fe3abed7",
   "metadata": {},
   "outputs": [],
   "source": []
  },
  {
   "cell_type": "code",
   "execution_count": 1,
   "id": "20e197dc",
   "metadata": {},
   "outputs": [],
   "source": [
    "import logging"
   ]
  },
  {
   "cell_type": "code",
   "execution_count": 2,
   "id": "d4ef8c31",
   "metadata": {},
   "outputs": [],
   "source": [
    "logging.basicConfig(filename='details.log', level=logging.DEBUG, format='%(asctime)s %(name)s %(levelname)s %(message)s')"
   ]
  },
  {
   "cell_type": "code",
   "execution_count": null,
   "id": "8e90f0a0",
   "metadata": {},
   "outputs": [],
   "source": []
  },
  {
   "cell_type": "code",
   "execution_count": 4,
   "id": "0e285219",
   "metadata": {},
   "outputs": [],
   "source": [
    "l=[1,2,3,4,[34,56,32,56],'ashish','pabitra']"
   ]
  },
  {
   "cell_type": "code",
   "execution_count": 5,
   "id": "21f69645",
   "metadata": {},
   "outputs": [],
   "source": [
    "l_int=[]\n",
    "l_str=[]\n",
    "\n",
    "logging.info(\"entering inside list to check each element of list\")\n",
    "for i in l:\n",
    "    \n",
    "    if type(i)==list:\n",
    "        logging.info(\"If type of ith element is list perform this block of code \")\n",
    "        \n",
    "        for j in i:\n",
    "            logging.info(\"iterating inside ith list and appending the element to the new list\")\n",
    "            l_int.append(j)\n",
    "            \n",
    "    \n",
    "    elif type(i)==int:\n",
    "        logging.info(\"if ith element is integer appending to new list\")\n",
    "        l_int.append(i)\n",
    "          \n",
    "    else:\n",
    "        logging.info(\"If all the above block is false the executing else block and appending remaining element to 2nd new list\") \n",
    "        l_str.append(i)\n",
    "        "
   ]
  },
  {
   "cell_type": "code",
   "execution_count": 6,
   "id": "3efd83d4",
   "metadata": {},
   "outputs": [
    {
     "data": {
      "text/plain": [
       "[1, 2, 3, 4, 34, 56, 32, 56]"
      ]
     },
     "execution_count": 6,
     "metadata": {},
     "output_type": "execute_result"
    }
   ],
   "source": [
    "l_int"
   ]
  },
  {
   "cell_type": "code",
   "execution_count": 7,
   "id": "8431d411",
   "metadata": {},
   "outputs": [
    {
     "data": {
      "text/plain": [
       "['ashish', 'pabitra']"
      ]
     },
     "execution_count": 7,
     "metadata": {},
     "output_type": "execute_result"
    }
   ],
   "source": [
    "l_str"
   ]
  },
  {
   "cell_type": "code",
   "execution_count": null,
   "id": "44ecdf1f",
   "metadata": {},
   "outputs": [],
   "source": []
  },
  {
   "cell_type": "code",
   "execution_count": null,
   "id": "27e01237",
   "metadata": {},
   "outputs": [],
   "source": []
  },
  {
   "cell_type": "code",
   "execution_count": null,
   "id": "83953842",
   "metadata": {},
   "outputs": [],
   "source": []
  },
  {
   "cell_type": "code",
   "execution_count": null,
   "id": "8b725a51",
   "metadata": {},
   "outputs": [],
   "source": []
  },
  {
   "cell_type": "code",
   "execution_count": null,
   "id": "48ad02f2",
   "metadata": {},
   "outputs": [],
   "source": []
  },
  {
   "cell_type": "code",
   "execution_count": null,
   "id": "9bd67094",
   "metadata": {},
   "outputs": [],
   "source": []
  },
  {
   "cell_type": "code",
   "execution_count": null,
   "id": "54d488a1",
   "metadata": {},
   "outputs": [],
   "source": []
  },
  {
   "cell_type": "code",
   "execution_count": null,
   "id": "15b3c2a0",
   "metadata": {},
   "outputs": [],
   "source": []
  },
  {
   "cell_type": "code",
   "execution_count": null,
   "id": "d92ecb0c",
   "metadata": {},
   "outputs": [],
   "source": []
  },
  {
   "cell_type": "code",
   "execution_count": null,
   "id": "6833da50",
   "metadata": {},
   "outputs": [],
   "source": []
  },
  {
   "cell_type": "code",
   "execution_count": null,
   "id": "a0540452",
   "metadata": {},
   "outputs": [],
   "source": []
  },
  {
   "cell_type": "code",
   "execution_count": null,
   "id": "da46a925",
   "metadata": {},
   "outputs": [],
   "source": []
  },
  {
   "cell_type": "code",
   "execution_count": null,
   "id": "14252a20",
   "metadata": {},
   "outputs": [],
   "source": []
  },
  {
   "cell_type": "code",
   "execution_count": null,
   "id": "acb32fc4",
   "metadata": {},
   "outputs": [],
   "source": []
  }
 ],
 "metadata": {
  "kernelspec": {
   "display_name": "Python 3 (ipykernel)",
   "language": "python",
   "name": "python3"
  },
  "language_info": {
   "codemirror_mode": {
    "name": "ipython",
    "version": 3
   },
   "file_extension": ".py",
   "mimetype": "text/x-python",
   "name": "python",
   "nbconvert_exporter": "python",
   "pygments_lexer": "ipython3",
   "version": "3.8.10"
  }
 },
 "nbformat": 4,
 "nbformat_minor": 5
}
