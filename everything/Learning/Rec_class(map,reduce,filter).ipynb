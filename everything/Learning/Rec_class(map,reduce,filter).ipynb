{
 "cells": [
  {
   "cell_type": "markdown",
   "id": "945e6b2b",
   "metadata": {},
   "source": [
    "# map() fuction"
   ]
  },
  {
   "cell_type": "code",
   "execution_count": null,
   "id": "8982b699",
   "metadata": {},
   "outputs": [],
   "source": []
  },
  {
   "cell_type": "code",
   "execution_count": 32,
   "id": "5b53923f",
   "metadata": {},
   "outputs": [],
   "source": [
    "# map() ---> takes two parameters fuction, and *iterables \n",
    "\n",
    "# we can create a fuction keeping in mind of only one elemets and map that funtion with each element of iteables\n",
    "\n",
    "# syntax\n",
    "# map(<function>,*iterbles)"
   ]
  },
  {
   "cell_type": "code",
   "execution_count": 7,
   "id": "e6af7fab",
   "metadata": {},
   "outputs": [],
   "source": [
    "def sq(x):\n",
    "    return x**2"
   ]
  },
  {
   "cell_type": "code",
   "execution_count": 8,
   "id": "ead7e6aa",
   "metadata": {},
   "outputs": [],
   "source": [
    "l=[2,4,5,6]"
   ]
  },
  {
   "cell_type": "code",
   "execution_count": 9,
   "id": "6aacfd27",
   "metadata": {},
   "outputs": [
    {
     "data": {
      "text/plain": [
       "<map at 0x2861e1a4130>"
      ]
     },
     "execution_count": 9,
     "metadata": {},
     "output_type": "execute_result"
    }
   ],
   "source": [
    "map(sq,l)"
   ]
  },
  {
   "cell_type": "code",
   "execution_count": 10,
   "id": "f16ed800",
   "metadata": {},
   "outputs": [
    {
     "data": {
      "text/plain": [
       "[4, 16, 25, 36]"
      ]
     },
     "execution_count": 10,
     "metadata": {},
     "output_type": "execute_result"
    }
   ],
   "source": [
    "list(map(sq,l))"
   ]
  },
  {
   "cell_type": "code",
   "execution_count": null,
   "id": "710324c6",
   "metadata": {},
   "outputs": [],
   "source": []
  },
  {
   "cell_type": "code",
   "execution_count": null,
   "id": "4e2e30d6",
   "metadata": {},
   "outputs": [],
   "source": []
  },
  {
   "cell_type": "code",
   "execution_count": null,
   "id": "3c36c908",
   "metadata": {},
   "outputs": [],
   "source": []
  },
  {
   "cell_type": "code",
   "execution_count": null,
   "id": "175b2d9d",
   "metadata": {},
   "outputs": [],
   "source": []
  },
  {
   "cell_type": "code",
   "execution_count": 17,
   "id": "6d020c30",
   "metadata": {},
   "outputs": [],
   "source": [
    "l=[2,3,4,5]\n",
    "s=[4,6,8,10]"
   ]
  },
  {
   "cell_type": "code",
   "execution_count": 18,
   "id": "45a42f34",
   "metadata": {},
   "outputs": [],
   "source": [
    "add=lambda a,b:a+b"
   ]
  },
  {
   "cell_type": "code",
   "execution_count": 19,
   "id": "4fd9ba21",
   "metadata": {},
   "outputs": [
    {
     "data": {
      "text/plain": [
       "[6, 9, 12, 15]"
      ]
     },
     "execution_count": 19,
     "metadata": {},
     "output_type": "execute_result"
    }
   ],
   "source": [
    "list(map(add,l,s))"
   ]
  },
  {
   "cell_type": "code",
   "execution_count": null,
   "id": "85061d3b",
   "metadata": {},
   "outputs": [],
   "source": []
  },
  {
   "cell_type": "code",
   "execution_count": null,
   "id": "c5e11b5f",
   "metadata": {},
   "outputs": [],
   "source": []
  },
  {
   "cell_type": "code",
   "execution_count": 20,
   "id": "d29f4f18",
   "metadata": {},
   "outputs": [],
   "source": [
    "a=[12,34,56,78,99]"
   ]
  },
  {
   "cell_type": "code",
   "execution_count": 21,
   "id": "101c93d5",
   "metadata": {},
   "outputs": [
    {
     "data": {
      "text/plain": [
       "[13, 35, 57, 79, 100]"
      ]
     },
     "execution_count": 21,
     "metadata": {},
     "output_type": "execute_result"
    }
   ],
   "source": [
    "list(map(lambda x:x+1,a))"
   ]
  },
  {
   "cell_type": "code",
   "execution_count": null,
   "id": "9f40a3f5",
   "metadata": {},
   "outputs": [],
   "source": []
  },
  {
   "cell_type": "code",
   "execution_count": 22,
   "id": "64adca20",
   "metadata": {},
   "outputs": [],
   "source": [
    "c=(1,2,3,4)\n",
    "d=(2,3,4,5)"
   ]
  },
  {
   "cell_type": "code",
   "execution_count": 23,
   "id": "30f4c5ef",
   "metadata": {},
   "outputs": [
    {
     "data": {
      "text/plain": [
       "[2, 6, 12, 20]"
      ]
     },
     "execution_count": 23,
     "metadata": {},
     "output_type": "execute_result"
    }
   ],
   "source": [
    "list(map(lambda a,b:a*b,c,d))"
   ]
  },
  {
   "cell_type": "code",
   "execution_count": 25,
   "id": "054893b8",
   "metadata": {},
   "outputs": [
    {
     "data": {
      "text/plain": [
       "(5, 8, 11, 14)"
      ]
     },
     "execution_count": 25,
     "metadata": {},
     "output_type": "execute_result"
    }
   ],
   "source": [
    "tuple(map(lambda a,b:a+(2*b),c,d))"
   ]
  },
  {
   "cell_type": "code",
   "execution_count": null,
   "id": "9307811a",
   "metadata": {},
   "outputs": [],
   "source": []
  },
  {
   "cell_type": "code",
   "execution_count": 28,
   "id": "8b31c0c5",
   "metadata": {},
   "outputs": [],
   "source": [
    "c=(1,2,3,4)\n",
    "d={2,4,5,6}"
   ]
  },
  {
   "cell_type": "code",
   "execution_count": 29,
   "id": "77734287",
   "metadata": {},
   "outputs": [
    {
     "data": {
      "text/plain": [
       "[3, 6, 8, 10]"
      ]
     },
     "execution_count": 29,
     "metadata": {},
     "output_type": "execute_result"
    }
   ],
   "source": [
    "list(map(lambda a,b:a+b,c,d))"
   ]
  },
  {
   "cell_type": "code",
   "execution_count": null,
   "id": "f0f5e281",
   "metadata": {},
   "outputs": [],
   "source": []
  },
  {
   "cell_type": "code",
   "execution_count": 30,
   "id": "e3716e7a",
   "metadata": {},
   "outputs": [],
   "source": [
    "l1=[1,2,3,4,5]\n",
    "l2=[6,7,8,9,10]"
   ]
  },
  {
   "cell_type": "code",
   "execution_count": 31,
   "id": "a68e3b59",
   "metadata": {},
   "outputs": [
    {
     "data": {
      "text/plain": [
       "[7, 9, 11, 13, 15]"
      ]
     },
     "execution_count": 31,
     "metadata": {},
     "output_type": "execute_result"
    }
   ],
   "source": [
    "list(map(lambda x,y:x+y,l1,l2))"
   ]
  },
  {
   "cell_type": "code",
   "execution_count": null,
   "id": "65f8c224",
   "metadata": {},
   "outputs": [],
   "source": []
  },
  {
   "cell_type": "code",
   "execution_count": null,
   "id": "97e17490",
   "metadata": {},
   "outputs": [],
   "source": []
  },
  {
   "cell_type": "code",
   "execution_count": null,
   "id": "f0550472",
   "metadata": {},
   "outputs": [],
   "source": []
  },
  {
   "cell_type": "code",
   "execution_count": 33,
   "id": "3f0ed18a",
   "metadata": {},
   "outputs": [],
   "source": [
    "s=\"pwskills\""
   ]
  },
  {
   "cell_type": "code",
   "execution_count": 34,
   "id": "74f7663c",
   "metadata": {},
   "outputs": [
    {
     "data": {
      "text/plain": [
       "['P', 'W', 'S', 'K', 'I', 'L', 'L', 'S']"
      ]
     },
     "execution_count": 34,
     "metadata": {},
     "output_type": "execute_result"
    }
   ],
   "source": [
    "list(map(lambda a: a.upper(),s))"
   ]
  },
  {
   "cell_type": "code",
   "execution_count": null,
   "id": "af8a9004",
   "metadata": {},
   "outputs": [],
   "source": []
  },
  {
   "cell_type": "code",
   "execution_count": null,
   "id": "e113e753",
   "metadata": {},
   "outputs": [],
   "source": []
  },
  {
   "cell_type": "code",
   "execution_count": null,
   "id": "d8ec13d8",
   "metadata": {},
   "outputs": [],
   "source": []
  },
  {
   "cell_type": "code",
   "execution_count": 35,
   "id": "fc39028c",
   "metadata": {},
   "outputs": [],
   "source": [
    "a=[2,4,6,8]\n"
   ]
  },
  {
   "cell_type": "code",
   "execution_count": 37,
   "id": "a27ea333",
   "metadata": {},
   "outputs": [
    {
     "data": {
      "text/plain": [
       "[1, 2, 3, 4]"
      ]
     },
     "execution_count": 37,
     "metadata": {},
     "output_type": "execute_result"
    }
   ],
   "source": [
    "list(map(lambda x:x//2,a))"
   ]
  },
  {
   "cell_type": "code",
   "execution_count": null,
   "id": "bb65e235",
   "metadata": {},
   "outputs": [],
   "source": []
  },
  {
   "cell_type": "code",
   "execution_count": null,
   "id": "c929c611",
   "metadata": {},
   "outputs": [],
   "source": []
  },
  {
   "cell_type": "code",
   "execution_count": null,
   "id": "d3d4aa42",
   "metadata": {},
   "outputs": [],
   "source": []
  },
  {
   "cell_type": "code",
   "execution_count": null,
   "id": "f7fec0e2",
   "metadata": {},
   "outputs": [],
   "source": []
  },
  {
   "cell_type": "markdown",
   "id": "66c13f20",
   "metadata": {},
   "source": [
    "# reduce() function"
   ]
  },
  {
   "cell_type": "code",
   "execution_count": null,
   "id": "3e2198a1",
   "metadata": {},
   "outputs": [],
   "source": [
    "# reduce() is not a inbuilt fuction in python se we have to from functools\n",
    "\n",
    "# reduce() function returns a single value \n",
    "# like map function it also take two parametes \n",
    "# fuction and *iterables"
   ]
  },
  {
   "cell_type": "code",
   "execution_count": null,
   "id": "262a4bff",
   "metadata": {},
   "outputs": [],
   "source": []
  },
  {
   "cell_type": "code",
   "execution_count": null,
   "id": "ab7d60a2",
   "metadata": {},
   "outputs": [],
   "source": []
  },
  {
   "cell_type": "code",
   "execution_count": 38,
   "id": "efaa9aa1",
   "metadata": {},
   "outputs": [],
   "source": [
    "from functools import reduce"
   ]
  },
  {
   "cell_type": "code",
   "execution_count": 39,
   "id": "dda67b3c",
   "metadata": {},
   "outputs": [],
   "source": [
    "l=[1,2,3,4,5]"
   ]
  },
  {
   "cell_type": "code",
   "execution_count": 42,
   "id": "9a2b4b5f",
   "metadata": {},
   "outputs": [
    {
     "data": {
      "text/plain": [
       "15"
      ]
     },
     "execution_count": 42,
     "metadata": {},
     "output_type": "execute_result"
    }
   ],
   "source": [
    "reduce(lambda x,y:x+y,l)"
   ]
  },
  {
   "cell_type": "code",
   "execution_count": 43,
   "id": "3f8154d0",
   "metadata": {},
   "outputs": [
    {
     "data": {
      "text/plain": [
       "120"
      ]
     },
     "execution_count": 43,
     "metadata": {},
     "output_type": "execute_result"
    }
   ],
   "source": [
    "reduce(lambda x,y:x*y,l)"
   ]
  },
  {
   "cell_type": "code",
   "execution_count": 46,
   "id": "547199e6",
   "metadata": {},
   "outputs": [],
   "source": [
    "# we can only pass two parameter inside the fuction that is inside reduce function\n",
    "# if we take three parameters it will raise type error\n",
    "# we can only take two parametes"
   ]
  },
  {
   "cell_type": "code",
   "execution_count": 45,
   "id": "e733e1f7",
   "metadata": {},
   "outputs": [
    {
     "ename": "TypeError",
     "evalue": "<lambda>() missing 1 required positional argument: 'z'",
     "output_type": "error",
     "traceback": [
      "\u001b[1;31m---------------------------------------------------------------------------\u001b[0m",
      "\u001b[1;31mTypeError\u001b[0m                                 Traceback (most recent call last)",
      "Cell \u001b[1;32mIn[45], line 1\u001b[0m\n\u001b[1;32m----> 1\u001b[0m \u001b[43mreduce\u001b[49m\u001b[43m(\u001b[49m\u001b[38;5;28;43;01mlambda\u001b[39;49;00m\u001b[43m \u001b[49m\u001b[43mx\u001b[49m\u001b[43m,\u001b[49m\u001b[43my\u001b[49m\u001b[43m,\u001b[49m\u001b[43mz\u001b[49m\u001b[43m:\u001b[49m\u001b[43mx\u001b[49m\u001b[38;5;241;43m+\u001b[39;49m\u001b[43my\u001b[49m\u001b[38;5;241;43m+\u001b[39;49m\u001b[43mz\u001b[49m\u001b[43m,\u001b[49m\u001b[43ml\u001b[49m\u001b[43m)\u001b[49m\n",
      "\u001b[1;31mTypeError\u001b[0m: <lambda>() missing 1 required positional argument: 'z'"
     ]
    }
   ],
   "source": [
    "reduce(lambda x,y,z:x+y+z,l)"
   ]
  },
  {
   "cell_type": "code",
   "execution_count": null,
   "id": "ec6d6eca",
   "metadata": {},
   "outputs": [],
   "source": []
  },
  {
   "cell_type": "code",
   "execution_count": 47,
   "id": "57e88870",
   "metadata": {},
   "outputs": [
    {
     "ename": "TypeError",
     "evalue": "reduce() of empty sequence with no initial value",
     "output_type": "error",
     "traceback": [
      "\u001b[1;31m---------------------------------------------------------------------------\u001b[0m",
      "\u001b[1;31mTypeError\u001b[0m                                 Traceback (most recent call last)",
      "Cell \u001b[1;32mIn[47], line 1\u001b[0m\n\u001b[1;32m----> 1\u001b[0m \u001b[43mreduce\u001b[49m\u001b[43m(\u001b[49m\u001b[38;5;28;43;01mlambda\u001b[39;49;00m\u001b[43m \u001b[49m\u001b[43ma\u001b[49m\u001b[43m,\u001b[49m\u001b[43mb\u001b[49m\u001b[43m:\u001b[49m\u001b[43ma\u001b[49m\u001b[38;5;241;43m+\u001b[39;49m\u001b[43mb\u001b[49m\u001b[43m,\u001b[49m\u001b[43m[\u001b[49m\u001b[43m]\u001b[49m\u001b[43m)\u001b[49m\n",
      "\u001b[1;31mTypeError\u001b[0m: reduce() of empty sequence with no initial value"
     ]
    }
   ],
   "source": [
    "reduce(lambda a,b:a+b,[])"
   ]
  },
  {
   "cell_type": "code",
   "execution_count": null,
   "id": "a0b13abf",
   "metadata": {},
   "outputs": [],
   "source": []
  },
  {
   "cell_type": "code",
   "execution_count": 49,
   "id": "0064674f",
   "metadata": {},
   "outputs": [],
   "source": [
    "# exception case in reduce fuction"
   ]
  },
  {
   "cell_type": "code",
   "execution_count": 50,
   "id": "ae390e9e",
   "metadata": {},
   "outputs": [
    {
     "data": {
      "text/plain": [
       "1"
      ]
     },
     "execution_count": 50,
     "metadata": {},
     "output_type": "execute_result"
    }
   ],
   "source": [
    "reduce(lambda a,b:a+b,[1])"
   ]
  },
  {
   "cell_type": "code",
   "execution_count": 53,
   "id": "6b3f2a2f",
   "metadata": {},
   "outputs": [],
   "source": [
    "l=[12,4,53,22,71,19,89]"
   ]
  },
  {
   "cell_type": "code",
   "execution_count": 54,
   "id": "4c1e4e61",
   "metadata": {},
   "outputs": [
    {
     "data": {
      "text/plain": [
       "89"
      ]
     },
     "execution_count": 54,
     "metadata": {},
     "output_type": "execute_result"
    }
   ],
   "source": [
    "reduce(lambda x,y: x if x>y else y,l)"
   ]
  },
  {
   "cell_type": "code",
   "execution_count": null,
   "id": "8e5290d1",
   "metadata": {},
   "outputs": [],
   "source": []
  },
  {
   "cell_type": "code",
   "execution_count": 67,
   "id": "5dcf8aa1",
   "metadata": {},
   "outputs": [],
   "source": [
    "# we can avoid writing this big fuction insted we can use reduce filter to get the output"
   ]
  },
  {
   "cell_type": "code",
   "execution_count": 68,
   "id": "9fed48b5",
   "metadata": {},
   "outputs": [],
   "source": [
    "def great(l):\n",
    "    great=0\n",
    "    i=0\n",
    "    while i<(len(l)-1):\n",
    "        if l[i]>l[i+1]:\n",
    "            great=l[i]\n",
    "        else:\n",
    "            great=l[i+1]\n",
    "        i=i+1\n",
    "    return great\n",
    "        "
   ]
  },
  {
   "cell_type": "code",
   "execution_count": 69,
   "id": "cbb3615f",
   "metadata": {},
   "outputs": [
    {
     "data": {
      "text/plain": [
       "[12, 4, 53, 22, 71, 19, 89]"
      ]
     },
     "execution_count": 69,
     "metadata": {},
     "output_type": "execute_result"
    }
   ],
   "source": [
    "l"
   ]
  },
  {
   "cell_type": "code",
   "execution_count": 70,
   "id": "77504a42",
   "metadata": {},
   "outputs": [
    {
     "data": {
      "text/plain": [
       "89"
      ]
     },
     "execution_count": 70,
     "metadata": {},
     "output_type": "execute_result"
    }
   ],
   "source": [
    "great(l)"
   ]
  },
  {
   "cell_type": "code",
   "execution_count": null,
   "id": "67b17487",
   "metadata": {},
   "outputs": [],
   "source": []
  },
  {
   "cell_type": "code",
   "execution_count": null,
   "id": "9ab22fd0",
   "metadata": {},
   "outputs": [],
   "source": []
  },
  {
   "cell_type": "code",
   "execution_count": null,
   "id": "0e43089a",
   "metadata": {},
   "outputs": [],
   "source": []
  },
  {
   "cell_type": "code",
   "execution_count": null,
   "id": "c264ae80",
   "metadata": {},
   "outputs": [],
   "source": []
  },
  {
   "cell_type": "code",
   "execution_count": null,
   "id": "0d71b61c",
   "metadata": {},
   "outputs": [],
   "source": []
  },
  {
   "cell_type": "code",
   "execution_count": null,
   "id": "0e0d358c",
   "metadata": {},
   "outputs": [],
   "source": []
  },
  {
   "cell_type": "markdown",
   "id": "36d74ca6",
   "metadata": {},
   "source": [
    "# filter() fuction"
   ]
  },
  {
   "cell_type": "code",
   "execution_count": 72,
   "id": "0af73957",
   "metadata": {},
   "outputs": [],
   "source": [
    "# filter fuction is used to filter out a list according to given codition in fuction parameter of filter fuction\n",
    "# like map fuction it also take two parameters (fuction,*iterables)\n",
    "# we make a fuction with certain condition which will filter out *iterables according to condition"
   ]
  },
  {
   "cell_type": "code",
   "execution_count": null,
   "id": "103126e7",
   "metadata": {},
   "outputs": [],
   "source": []
  },
  {
   "cell_type": "code",
   "execution_count": 73,
   "id": "4ffd5f1f",
   "metadata": {},
   "outputs": [],
   "source": [
    "# using filter fuction to filter out even elements from the list"
   ]
  },
  {
   "cell_type": "code",
   "execution_count": 74,
   "id": "96b0339a",
   "metadata": {},
   "outputs": [
    {
     "data": {
      "text/plain": [
       "[12, 4, 53, 22, 71, 19, 89]"
      ]
     },
     "execution_count": 74,
     "metadata": {},
     "output_type": "execute_result"
    }
   ],
   "source": [
    "l"
   ]
  },
  {
   "cell_type": "code",
   "execution_count": 78,
   "id": "51fe4ea6",
   "metadata": {},
   "outputs": [
    {
     "data": {
      "text/plain": [
       "[12, 4, 22]"
      ]
     },
     "execution_count": 78,
     "metadata": {},
     "output_type": "execute_result"
    }
   ],
   "source": [
    "list(filter(lambda x: x%2==0,l))"
   ]
  },
  {
   "cell_type": "code",
   "execution_count": null,
   "id": "82c25cb3",
   "metadata": {},
   "outputs": [],
   "source": []
  },
  {
   "cell_type": "code",
   "execution_count": 79,
   "id": "dd269792",
   "metadata": {},
   "outputs": [],
   "source": [
    "l1=[-1,2,3,5,-3,-12,6]"
   ]
  },
  {
   "cell_type": "code",
   "execution_count": 80,
   "id": "907c00e8",
   "metadata": {},
   "outputs": [
    {
     "data": {
      "text/plain": [
       "[-1, -3, -12]"
      ]
     },
     "execution_count": 80,
     "metadata": {},
     "output_type": "execute_result"
    }
   ],
   "source": [
    "list(filter(lambda x: x<0,l1))"
   ]
  },
  {
   "cell_type": "code",
   "execution_count": 90,
   "id": "c61001a1",
   "metadata": {},
   "outputs": [],
   "source": [
    "l2=[\"mathematics\",\"vishwasariya\",\"ashish\",\"Dhananjay\",\"laptop\"]"
   ]
  },
  {
   "cell_type": "code",
   "execution_count": 92,
   "id": "b3a4de8f",
   "metadata": {},
   "outputs": [
    {
     "data": {
      "text/plain": [
       "['mathematics', 'vishwasariya', 'Dhananjay']"
      ]
     },
     "execution_count": 92,
     "metadata": {},
     "output_type": "execute_result"
    }
   ],
   "source": [
    "list(filter(lambda x: len(x)>6 ,l2))"
   ]
  },
  {
   "cell_type": "code",
   "execution_count": null,
   "id": "defc2f92",
   "metadata": {},
   "outputs": [],
   "source": []
  },
  {
   "cell_type": "code",
   "execution_count": null,
   "id": "307f2249",
   "metadata": {},
   "outputs": [],
   "source": []
  },
  {
   "cell_type": "code",
   "execution_count": 95,
   "id": "6c472337",
   "metadata": {},
   "outputs": [],
   "source": [
    "numbers=[1,2,3,4,5]\n"
   ]
  },
  {
   "cell_type": "code",
   "execution_count": 96,
   "id": "808ccb92",
   "metadata": {},
   "outputs": [],
   "source": [
    "squared_num=map(lambda x:x**2,numbers)"
   ]
  },
  {
   "cell_type": "code",
   "execution_count": 97,
   "id": "7a6470a5",
   "metadata": {},
   "outputs": [
    {
     "name": "stdout",
     "output_type": "stream",
     "text": [
      "<map object at 0x000002861E41CDF0>\n"
     ]
    }
   ],
   "source": [
    "print(squared_num)"
   ]
  },
  {
   "cell_type": "code",
   "execution_count": 98,
   "id": "42fd80e1",
   "metadata": {},
   "outputs": [
    {
     "name": "stdout",
     "output_type": "stream",
     "text": [
      "[1, 4, 9, 16, 25]\n"
     ]
    }
   ],
   "source": [
    "print(list(squared_num))"
   ]
  },
  {
   "cell_type": "code",
   "execution_count": null,
   "id": "13ab0ab7",
   "metadata": {},
   "outputs": [],
   "source": []
  }
 ],
 "metadata": {
  "kernelspec": {
   "display_name": "Python 3 (ipykernel)",
   "language": "python",
   "name": "python3"
  },
  "language_info": {
   "codemirror_mode": {
    "name": "ipython",
    "version": 3
   },
   "file_extension": ".py",
   "mimetype": "text/x-python",
   "name": "python",
   "nbconvert_exporter": "python",
   "pygments_lexer": "ipython3",
   "version": "3.8.10"
  }
 },
 "nbformat": 4,
 "nbformat_minor": 5
}
