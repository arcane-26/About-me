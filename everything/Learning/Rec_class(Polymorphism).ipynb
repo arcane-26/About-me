{
 "cells": [
  {
   "cell_type": "code",
   "execution_count": 1,
   "id": "6f1331a9",
   "metadata": {},
   "outputs": [],
   "source": [
    "def test(a,b):\n",
    "    return a+b"
   ]
  },
  {
   "cell_type": "code",
   "execution_count": 2,
   "id": "82089041",
   "metadata": {},
   "outputs": [
    {
     "data": {
      "text/plain": [
       "8"
      ]
     },
     "execution_count": 2,
     "metadata": {},
     "output_type": "execute_result"
    }
   ],
   "source": [
    "test(3,5)"
   ]
  },
  {
   "cell_type": "code",
   "execution_count": 5,
   "id": "0785d989",
   "metadata": {},
   "outputs": [
    {
     "data": {
      "text/plain": [
       "'sudh kumar'"
      ]
     },
     "execution_count": 5,
     "metadata": {},
     "output_type": "execute_result"
    }
   ],
   "source": [
    "test(\"sudh \",\"kumar\")"
   ]
  },
  {
   "cell_type": "code",
   "execution_count": 6,
   "id": "7d59ca46",
   "metadata": {},
   "outputs": [
    {
     "data": {
      "text/plain": [
       "[1, 2, 3, 4, 45, 67, 32, 63]"
      ]
     },
     "execution_count": 6,
     "metadata": {},
     "output_type": "execute_result"
    }
   ],
   "source": [
    "test([1,2,3,4],[45,67,32,63])"
   ]
  },
  {
   "cell_type": "code",
   "execution_count": null,
   "id": "ffa3dc6f",
   "metadata": {},
   "outputs": [],
   "source": []
  },
  {
   "cell_type": "code",
   "execution_count": 7,
   "id": "21a9b318",
   "metadata": {},
   "outputs": [],
   "source": [
    "# we can see that the fuction is same but the data type on which we are perfomring are different, this gives us the idea abou\n",
    "# polymorphism "
   ]
  },
  {
   "cell_type": "code",
   "execution_count": null,
   "id": "a0717578",
   "metadata": {},
   "outputs": [],
   "source": []
  },
  {
   "cell_type": "code",
   "execution_count": 11,
   "id": "64fc7464",
   "metadata": {},
   "outputs": [],
   "source": [
    "class data_science:\n",
    "    def syllabus(self):\n",
    "        print(\"this is my syllabus for data science masters\")"
   ]
  },
  {
   "cell_type": "code",
   "execution_count": 12,
   "id": "24df6103",
   "metadata": {},
   "outputs": [],
   "source": [
    "class web_dev:\n",
    "    def syllabus(self):\n",
    "        print(\"this is my syllabus for web dev\")"
   ]
  },
  {
   "cell_type": "code",
   "execution_count": 16,
   "id": "d86f1709",
   "metadata": {},
   "outputs": [],
   "source": [
    "def class_parser(a):\n",
    "    for i in a:\n",
    "        i.syllabus()"
   ]
  },
  {
   "cell_type": "code",
   "execution_count": 17,
   "id": "0097031c",
   "metadata": {},
   "outputs": [],
   "source": [
    "data=data_science()"
   ]
  },
  {
   "cell_type": "code",
   "execution_count": 18,
   "id": "94152de5",
   "metadata": {},
   "outputs": [],
   "source": [
    "web=web_dev()"
   ]
  },
  {
   "cell_type": "code",
   "execution_count": 19,
   "id": "8f78d47b",
   "metadata": {},
   "outputs": [],
   "source": [
    "obj=[data,web]"
   ]
  },
  {
   "cell_type": "code",
   "execution_count": 20,
   "id": "29238f5f",
   "metadata": {},
   "outputs": [
    {
     "name": "stdout",
     "output_type": "stream",
     "text": [
      "this is my syllabus for data science masters\n",
      "this is my syllabus for web dev\n"
     ]
    }
   ],
   "source": [
    "class_parser(obj)"
   ]
  },
  {
   "cell_type": "code",
   "execution_count": null,
   "id": "991d9593",
   "metadata": {},
   "outputs": [],
   "source": []
  },
  {
   "cell_type": "code",
   "execution_count": null,
   "id": "264e00b6",
   "metadata": {},
   "outputs": [],
   "source": [
    "# we can see that we have syllabus fun. present in both classes and when we are calling this fuction outside the class\n",
    "# it is will give the response according to situation\n",
    "# for example in class_parser function, we pass the list of objects made from above two class and both have syllabus function\n",
    "# and as we run the for loop inside the class_parser function, python will see the object of which class is first in the list \n",
    "# and the syllabus function of that class will get executed , and syllabus function will again get execute but now the situation\n",
    "# is different and now it will run for object of webdev class\n",
    "\n",
    "# hence we can see that \"syllabus\" function is performing differently in different situations\n",
    "\n",
    "# This phenomena is called polymorphism"
   ]
  },
  {
   "cell_type": "code",
   "execution_count": null,
   "id": "f513f1b5",
   "metadata": {},
   "outputs": [],
   "source": []
  },
  {
   "cell_type": "code",
   "execution_count": null,
   "id": "ad35a234",
   "metadata": {},
   "outputs": [],
   "source": []
  },
  {
   "cell_type": "code",
   "execution_count": null,
   "id": "7a866b7e",
   "metadata": {},
   "outputs": [],
   "source": []
  },
  {
   "cell_type": "code",
   "execution_count": null,
   "id": "3434a9b7",
   "metadata": {},
   "outputs": [],
   "source": []
  },
  {
   "cell_type": "code",
   "execution_count": null,
   "id": "6b272ab1",
   "metadata": {},
   "outputs": [],
   "source": []
  },
  {
   "cell_type": "code",
   "execution_count": null,
   "id": "4d493b9e",
   "metadata": {},
   "outputs": [],
   "source": []
  },
  {
   "cell_type": "code",
   "execution_count": null,
   "id": "a735a4b2",
   "metadata": {},
   "outputs": [],
   "source": []
  }
 ],
 "metadata": {
  "kernelspec": {
   "display_name": "Python 3 (ipykernel)",
   "language": "python",
   "name": "python3"
  },
  "language_info": {
   "codemirror_mode": {
    "name": "ipython",
    "version": 3
   },
   "file_extension": ".py",
   "mimetype": "text/x-python",
   "name": "python",
   "nbconvert_exporter": "python",
   "pygments_lexer": "ipython3",
   "version": "3.8.10"
  }
 },
 "nbformat": 4,
 "nbformat_minor": 5
}
