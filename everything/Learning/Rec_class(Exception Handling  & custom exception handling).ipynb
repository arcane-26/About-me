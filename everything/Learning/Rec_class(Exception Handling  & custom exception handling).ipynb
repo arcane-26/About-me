{
 "cells": [
  {
   "cell_type": "code",
   "execution_count": 1,
   "id": "43941691",
   "metadata": {},
   "outputs": [],
   "source": [
    "a=9"
   ]
  },
  {
   "cell_type": "code",
   "execution_count": 2,
   "id": "b1ac5797",
   "metadata": {},
   "outputs": [
    {
     "ename": "ZeroDivisionError",
     "evalue": "division by zero",
     "output_type": "error",
     "traceback": [
      "\u001b[1;31m---------------------------------------------------------------------------\u001b[0m",
      "\u001b[1;31mZeroDivisionError\u001b[0m                         Traceback (most recent call last)",
      "Cell \u001b[1;32mIn[2], line 1\u001b[0m\n\u001b[1;32m----> 1\u001b[0m \u001b[43ma\u001b[49m\u001b[38;5;241;43m/\u001b[39;49m\u001b[38;5;241;43m0\u001b[39;49m\n",
      "\u001b[1;31mZeroDivisionError\u001b[0m: division by zero"
     ]
    }
   ],
   "source": [
    "a/0"
   ]
  },
  {
   "cell_type": "code",
   "execution_count": null,
   "id": "585f2bb9",
   "metadata": {},
   "outputs": [],
   "source": [
    "# the 'abc.txt' file don't exist in system hence this will give error hence all the code after that we not run we have to \n",
    "# handle the error so that our code should not stop \n",
    "# so the concept of exception handling comes in the place\n"
   ]
  },
  {
   "cell_type": "code",
   "execution_count": 6,
   "id": "90afe0a2",
   "metadata": {},
   "outputs": [
    {
     "ename": "FileNotFoundError",
     "evalue": "[Errno 2] No such file or directory: 'abc.txt'",
     "output_type": "error",
     "traceback": [
      "\u001b[1;31m---------------------------------------------------------------------------\u001b[0m",
      "\u001b[1;31mFileNotFoundError\u001b[0m                         Traceback (most recent call last)",
      "Cell \u001b[1;32mIn[6], line 1\u001b[0m\n\u001b[1;32m----> 1\u001b[0m f\u001b[38;5;241m=\u001b[39m\u001b[38;5;28;43mopen\u001b[39;49m\u001b[43m(\u001b[49m\u001b[38;5;124;43m'\u001b[39;49m\u001b[38;5;124;43mabc.txt\u001b[39;49m\u001b[38;5;124;43m'\u001b[39;49m\u001b[43m,\u001b[49m\u001b[38;5;124;43m'\u001b[39;49m\u001b[38;5;124;43mr\u001b[39;49m\u001b[38;5;124;43m'\u001b[39;49m\u001b[43m)\u001b[49m\n\u001b[0;32m      2\u001b[0m \u001b[38;5;241m8\u001b[39m\u001b[38;5;241m*\u001b[39m\u001b[38;5;241m3\u001b[39m\n",
      "File \u001b[1;32mc:\\users\\pabit\\appdata\\local\\programs\\python\\python38\\lib\\site-packages\\IPython\\core\\interactiveshell.py:282\u001b[0m, in \u001b[0;36m_modified_open\u001b[1;34m(file, *args, **kwargs)\u001b[0m\n\u001b[0;32m    275\u001b[0m \u001b[38;5;28;01mif\u001b[39;00m file \u001b[38;5;129;01min\u001b[39;00m {\u001b[38;5;241m0\u001b[39m, \u001b[38;5;241m1\u001b[39m, \u001b[38;5;241m2\u001b[39m}:\n\u001b[0;32m    276\u001b[0m     \u001b[38;5;28;01mraise\u001b[39;00m \u001b[38;5;167;01mValueError\u001b[39;00m(\n\u001b[0;32m    277\u001b[0m         \u001b[38;5;124mf\u001b[39m\u001b[38;5;124m\"\u001b[39m\u001b[38;5;124mIPython won\u001b[39m\u001b[38;5;124m'\u001b[39m\u001b[38;5;124mt let you open fd=\u001b[39m\u001b[38;5;132;01m{\u001b[39;00mfile\u001b[38;5;132;01m}\u001b[39;00m\u001b[38;5;124m by default \u001b[39m\u001b[38;5;124m\"\u001b[39m\n\u001b[0;32m    278\u001b[0m         \u001b[38;5;124m\"\u001b[39m\u001b[38;5;124mas it is likely to crash IPython. If you know what you are doing, \u001b[39m\u001b[38;5;124m\"\u001b[39m\n\u001b[0;32m    279\u001b[0m         \u001b[38;5;124m\"\u001b[39m\u001b[38;5;124myou can use builtins\u001b[39m\u001b[38;5;124m'\u001b[39m\u001b[38;5;124m open.\u001b[39m\u001b[38;5;124m\"\u001b[39m\n\u001b[0;32m    280\u001b[0m     )\n\u001b[1;32m--> 282\u001b[0m \u001b[38;5;28;01mreturn\u001b[39;00m \u001b[43mio_open\u001b[49m\u001b[43m(\u001b[49m\u001b[43mfile\u001b[49m\u001b[43m,\u001b[49m\u001b[43m \u001b[49m\u001b[38;5;241;43m*\u001b[39;49m\u001b[43margs\u001b[49m\u001b[43m,\u001b[49m\u001b[43m \u001b[49m\u001b[38;5;241;43m*\u001b[39;49m\u001b[38;5;241;43m*\u001b[39;49m\u001b[43mkwargs\u001b[49m\u001b[43m)\u001b[49m\n",
      "\u001b[1;31mFileNotFoundError\u001b[0m: [Errno 2] No such file or directory: 'abc.txt'"
     ]
    }
   ],
   "source": [
    "f=open('abc.txt','r')\n",
    "8*3"
   ]
  },
  {
   "cell_type": "code",
   "execution_count": null,
   "id": "1851b057",
   "metadata": {},
   "outputs": [],
   "source": []
  },
  {
   "cell_type": "code",
   "execution_count": 7,
   "id": "5b383ad5",
   "metadata": {},
   "outputs": [],
   "source": [
    "# exception handling is done insde the block \n",
    "# there are two block 'try' and 'except'\n",
    "\n",
    "# programmers write code inside 'try' block because they take the consideration of worst case seneraio and expect that the \n",
    "# code inside try block may give error, so with 'try' block 'excpect' block is also necessary for in case the error occured\n",
    "# excpect block will tell about the error\n",
    "\n",
    "# the most important advantage of using try-except is that if in case error occurs the program will not stop at that time,\n",
    "# it will execute all the code below try-except "
   ]
  },
  {
   "cell_type": "code",
   "execution_count": 8,
   "id": "affc9f32",
   "metadata": {},
   "outputs": [
    {
     "name": "stdout",
     "output_type": "stream",
     "text": [
      "inside exception block [Errno 2] No such file or directory: 'abc.txt'\n"
     ]
    },
    {
     "data": {
      "text/plain": [
       "36"
      ]
     },
     "execution_count": 8,
     "metadata": {},
     "output_type": "execute_result"
    }
   ],
   "source": [
    "try:\n",
    "    f=open('abc.txt','r')\n",
    "except Exception as e:\n",
    "    print(\"inside exception block\",e)\n",
    "    \n",
    "9*4"
   ]
  },
  {
   "cell_type": "code",
   "execution_count": null,
   "id": "998f65c4",
   "metadata": {},
   "outputs": [],
   "source": []
  },
  {
   "cell_type": "code",
   "execution_count": null,
   "id": "a5b8427e",
   "metadata": {},
   "outputs": [],
   "source": []
  },
  {
   "cell_type": "markdown",
   "id": "4bbcd07c",
   "metadata": {},
   "source": [
    "# try-except used with else block"
   ]
  },
  {
   "cell_type": "code",
   "execution_count": null,
   "id": "ad2cdf82",
   "metadata": {},
   "outputs": [],
   "source": []
  },
  {
   "cell_type": "code",
   "execution_count": 16,
   "id": "097233a0",
   "metadata": {},
   "outputs": [
    {
     "name": "stdout",
     "output_type": "stream",
     "text": [
      "above code gave error ---> 'str' object cannot be interpreted as an integer\n"
     ]
    },
    {
     "data": {
      "text/plain": [
       "72"
      ]
     },
     "execution_count": 16,
     "metadata": {},
     "output_type": "execute_result"
    }
   ],
   "source": [
    "try:\n",
    "    for i in range('a'):\n",
    "        print(i)\n",
    "except Exception as e:\n",
    "    print(\"above code gave error --->\", e)\n",
    "else:\n",
    "    print(\"sucessfull!\")\n",
    "    \n",
    "8*9"
   ]
  },
  {
   "cell_type": "code",
   "execution_count": 14,
   "id": "03cb4b67",
   "metadata": {},
   "outputs": [],
   "source": [
    "# since the else block failed to excute and control go the 'except' block \n",
    "# this will not execut 'else' block\n",
    "\n",
    "# else block will only execute when 'try' block will be executed sucessfully"
   ]
  },
  {
   "cell_type": "code",
   "execution_count": null,
   "id": "a2667cc0",
   "metadata": {},
   "outputs": [],
   "source": []
  },
  {
   "cell_type": "code",
   "execution_count": 19,
   "id": "5f9b658e",
   "metadata": {},
   "outputs": [
    {
     "name": "stdout",
     "output_type": "stream",
     "text": [
      "0\n",
      "1\n",
      "2\n",
      "3\n",
      "4\n",
      "above code executed sucessfully\n"
     ]
    }
   ],
   "source": [
    "try:\n",
    "    for i in range(5):\n",
    "        print (i)\n",
    "except Exception as e:\n",
    "    print(\"above code gave error---->\".e)\n",
    "else:\n",
    "    print('above code executed sucessfully')"
   ]
  },
  {
   "cell_type": "code",
   "execution_count": null,
   "id": "d6c4feab",
   "metadata": {},
   "outputs": [],
   "source": []
  },
  {
   "cell_type": "code",
   "execution_count": null,
   "id": "313eb535",
   "metadata": {},
   "outputs": [],
   "source": []
  },
  {
   "cell_type": "markdown",
   "id": "f32d25ed",
   "metadata": {},
   "source": [
    "# finally block with try and except"
   ]
  },
  {
   "cell_type": "code",
   "execution_count": null,
   "id": "db60daa7",
   "metadata": {},
   "outputs": [],
   "source": []
  },
  {
   "cell_type": "code",
   "execution_count": 20,
   "id": "3cb1ebbc",
   "metadata": {},
   "outputs": [],
   "source": [
    "# the code in 'finally' block will execute irrespective of weather the 'try' block will execute of not"
   ]
  },
  {
   "cell_type": "code",
   "execution_count": 21,
   "id": "774c8300",
   "metadata": {},
   "outputs": [
    {
     "name": "stdout",
     "output_type": "stream",
     "text": [
      "The above file do not exist -----> [Errno 2] No such file or directory: 'abc.txt'\n",
      "This block will print in any case\n"
     ]
    }
   ],
   "source": [
    "try:\n",
    "    f=open('abc.txt','r')\n",
    "except Exception as e:\n",
    "    print('The above file do not exist ----->',e)\n",
    "finally:\n",
    "    print(\"This block will print in any case\")"
   ]
  },
  {
   "cell_type": "code",
   "execution_count": null,
   "id": "3e78330c",
   "metadata": {},
   "outputs": [],
   "source": []
  },
  {
   "cell_type": "code",
   "execution_count": null,
   "id": "fa87db66",
   "metadata": {},
   "outputs": [],
   "source": []
  },
  {
   "cell_type": "code",
   "execution_count": 23,
   "id": "80e9ae60",
   "metadata": {},
   "outputs": [
    {
     "name": "stdout",
     "output_type": "stream",
     "text": [
      "this block will print\n"
     ]
    },
    {
     "ename": "ZeroDivisionError",
     "evalue": "division by zero",
     "output_type": "error",
     "traceback": [
      "\u001b[1;31m---------------------------------------------------------------------------\u001b[0m",
      "\u001b[1;31mZeroDivisionError\u001b[0m                         Traceback (most recent call last)",
      "Cell \u001b[1;32mIn[23], line 3\u001b[0m\n\u001b[0;32m      1\u001b[0m \u001b[38;5;28;01mtry\u001b[39;00m:\n\u001b[0;32m      2\u001b[0m     a\u001b[38;5;241m=\u001b[39m\u001b[38;5;241m1\u001b[39m\n\u001b[1;32m----> 3\u001b[0m     \u001b[38;5;28mprint\u001b[39m(\u001b[43ma\u001b[49m\u001b[38;5;241;43m/\u001b[39;49m\u001b[38;5;241;43m0\u001b[39;49m)\n\u001b[0;32m      4\u001b[0m \u001b[38;5;28;01mfinally\u001b[39;00m:\n\u001b[0;32m      5\u001b[0m     \u001b[38;5;28mprint\u001b[39m(\u001b[38;5;124m\"\u001b[39m\u001b[38;5;124mthis block will print\u001b[39m\u001b[38;5;124m\"\u001b[39m)\n",
      "\u001b[1;31mZeroDivisionError\u001b[0m: division by zero"
     ]
    }
   ],
   "source": [
    "try:\n",
    "    a=1\n",
    "    print(a/0)\n",
    "finally:\n",
    "    print(\"this block will print\")"
   ]
  },
  {
   "cell_type": "code",
   "execution_count": null,
   "id": "f0f98eb2",
   "metadata": {},
   "outputs": [],
   "source": []
  },
  {
   "cell_type": "code",
   "execution_count": null,
   "id": "b30051cd",
   "metadata": {},
   "outputs": [],
   "source": []
  },
  {
   "cell_type": "markdown",
   "id": "56107a76",
   "metadata": {},
   "source": [
    "# custom exception handling"
   ]
  },
  {
   "cell_type": "code",
   "execution_count": 24,
   "id": "8ee7cbea",
   "metadata": {},
   "outputs": [],
   "source": [
    "# we can also create our own excption error class"
   ]
  },
  {
   "cell_type": "code",
   "execution_count": 25,
   "id": "db83b8f6",
   "metadata": {},
   "outputs": [
    {
     "name": "stdout",
     "output_type": "stream",
     "text": [
      "enter age: -223\n"
     ]
    }
   ],
   "source": [
    "n=int(input(\"enter age: \"))"
   ]
  },
  {
   "cell_type": "code",
   "execution_count": 26,
   "id": "90554578",
   "metadata": {},
   "outputs": [],
   "source": [
    "# we can see that the entered age is wrong and if we think logically, the age can never be negative , python don't undestand \n",
    "# this age logic by humans it only see's wether user entry is integer or not and -223 is integer\n",
    "\n",
    "\n",
    "# we want python to give the above entry as error so we have to create an custom exception for that\n",
    "# we we create an another class and inherit 'Exception class' in it"
   ]
  },
  {
   "cell_type": "code",
   "execution_count": 27,
   "id": "98a6905e",
   "metadata": {},
   "outputs": [],
   "source": [
    "class raise_error(Exception):\n",
    "    def __init__(self,msg):\n",
    "        self.msg=msg"
   ]
  },
  {
   "cell_type": "code",
   "execution_count": 30,
   "id": "6120b3dd",
   "metadata": {},
   "outputs": [],
   "source": [
    "def errors(m):\n",
    "    if m<0:\n",
    "        raise raise_error(\"age cannot be negative\")\n",
    "    elif m>200:\n",
    "        raise raise_error(\"age cannot be this high\")\n",
    "    else:\n",
    "        print(\"valid age\")"
   ]
  },
  {
   "cell_type": "code",
   "execution_count": null,
   "id": "0a8de193",
   "metadata": {},
   "outputs": [],
   "source": []
  },
  {
   "cell_type": "code",
   "execution_count": 33,
   "id": "e0bf4c04",
   "metadata": {},
   "outputs": [
    {
     "name": "stdout",
     "output_type": "stream",
     "text": [
      "enter your age: -32\n",
      "age cannot be negative\n"
     ]
    }
   ],
   "source": [
    "try:\n",
    "    age=int(input(\"enter your age: \"))\n",
    "    errors(age)\n",
    "except raise_error as e:\n",
    "    print(e)\n"
   ]
  },
  {
   "cell_type": "code",
   "execution_count": null,
   "id": "29bd3e59",
   "metadata": {},
   "outputs": [],
   "source": []
  },
  {
   "cell_type": "code",
   "execution_count": null,
   "id": "5287e6d6",
   "metadata": {},
   "outputs": [],
   "source": []
  },
  {
   "cell_type": "code",
   "execution_count": null,
   "id": "5096bae9",
   "metadata": {},
   "outputs": [],
   "source": []
  },
  {
   "cell_type": "code",
   "execution_count": 34,
   "id": "b0c4e568",
   "metadata": {},
   "outputs": [
    {
     "name": "stdout",
     "output_type": "stream",
     "text": [
      "enter pin: 123\n",
      "successful\n"
     ]
    }
   ],
   "source": [
    "class new_exception(Exception):\n",
    "    \n",
    "    def __init__(self,msg):\n",
    "        self.msg=msg\n",
    "\n",
    "def errors(i):\n",
    "    if type(i)==str:\n",
    "        raise new_exception('invalid format')\n",
    "    elif type(i)==float:\n",
    "        raise new_exception('pin cannot be decimal')\n",
    "    else:\n",
    "        print(\"successful\")\n",
    "    \n",
    "\n",
    "\n",
    "\n",
    "try:\n",
    "    password=int(input('enter pin: '))\n",
    "    errors(password)\n",
    "except new_exception as e:\n",
    "    print(e)\n"
   ]
  },
  {
   "cell_type": "code",
   "execution_count": null,
   "id": "b4350b44",
   "metadata": {},
   "outputs": [],
   "source": []
  },
  {
   "cell_type": "code",
   "execution_count": null,
   "id": "8f871b27",
   "metadata": {},
   "outputs": [],
   "source": []
  },
  {
   "cell_type": "markdown",
   "id": "37c21369",
   "metadata": {},
   "source": []
  },
  {
   "cell_type": "code",
   "execution_count": 2,
   "id": "2f3aad6f",
   "metadata": {},
   "outputs": [
    {
     "name": "stdout",
     "output_type": "stream",
     "text": [
      "division by zero\n"
     ]
    }
   ],
   "source": [
    "try:\n",
    "    a=10\n",
    "    print(a/0)\n",
    "except ZeroDivisionError as e:\n",
    "    print(e)"
   ]
  },
  {
   "cell_type": "code",
   "execution_count": null,
   "id": "09ce0f30",
   "metadata": {},
   "outputs": [],
   "source": []
  },
  {
   "cell_type": "code",
   "execution_count": 3,
   "id": "a51e008a",
   "metadata": {},
   "outputs": [
    {
     "name": "stdout",
     "output_type": "stream",
     "text": [
      "invalid literal for int() with base 10: 'sudh'\n"
     ]
    }
   ],
   "source": [
    "try:\n",
    "    int(\"sudh\")\n",
    "except (TypeError,ValueError) as e:\n",
    "    print(e)"
   ]
  },
  {
   "cell_type": "code",
   "execution_count": null,
   "id": "d043166c",
   "metadata": {},
   "outputs": [],
   "source": []
  },
  {
   "cell_type": "code",
   "execution_count": 4,
   "id": "f684ab1a",
   "metadata": {},
   "outputs": [
    {
     "name": "stdout",
     "output_type": "stream",
     "text": [
      "string cannot be converted into int datatype\n"
     ]
    }
   ],
   "source": [
    "try:\n",
    "    int('ashish')\n",
    "except:\n",
    "    print(\"string cannot be converted into int datatype\")"
   ]
  },
  {
   "cell_type": "code",
   "execution_count": null,
   "id": "dc7461d1",
   "metadata": {},
   "outputs": [],
   "source": []
  },
  {
   "cell_type": "code",
   "execution_count": 10,
   "id": "c4aae1cb",
   "metadata": {},
   "outputs": [
    {
     "name": "stdout",
     "output_type": "stream",
     "text": [
      "No module named 'ashish'\n"
     ]
    },
    {
     "data": {
      "text/plain": [
       "3.3333333333333335"
      ]
     },
     "execution_count": 10,
     "metadata": {},
     "output_type": "execute_result"
    }
   ],
   "source": [
    "try:\n",
    "    import ashish\n",
    "except ImportError as e: \n",
    "    print(e)\n",
    "    \n",
    "    \n",
    "    \n",
    "10/3"
   ]
  },
  {
   "cell_type": "code",
   "execution_count": null,
   "id": "e136238f",
   "metadata": {},
   "outputs": [],
   "source": []
  },
  {
   "cell_type": "code",
   "execution_count": 13,
   "id": "84baf037",
   "metadata": {},
   "outputs": [
    {
     "name": "stdout",
     "output_type": "stream",
     "text": [
      "'key'\n"
     ]
    },
    {
     "data": {
      "text/plain": [
       "27"
      ]
     },
     "execution_count": 13,
     "metadata": {},
     "output_type": "execute_result"
    }
   ],
   "source": [
    "try:\n",
    "    d={'name':'ashish', 1:[2,3,4,5]}\n",
    "    print(d['key'])\n",
    "except KeyError as e:\n",
    "    print(e)\n",
    "    \n",
    "9*3"
   ]
  },
  {
   "cell_type": "code",
   "execution_count": null,
   "id": "66b8b49d",
   "metadata": {},
   "outputs": [],
   "source": []
  },
  {
   "cell_type": "code",
   "execution_count": 14,
   "id": "de6af8a9",
   "metadata": {},
   "outputs": [
    {
     "name": "stdout",
     "output_type": "stream",
     "text": [
      "'str' object has no attribute 'test'\n"
     ]
    },
    {
     "data": {
      "text/plain": [
       "9"
      ]
     },
     "execution_count": 14,
     "metadata": {},
     "output_type": "execute_result"
    }
   ],
   "source": [
    "try:\n",
    "    \"sudh\".test()\n",
    "except AttributeError as e:\n",
    "    print(e)\n",
    "    \n",
    "6+3"
   ]
  },
  {
   "cell_type": "code",
   "execution_count": 15,
   "id": "fb1e5817",
   "metadata": {},
   "outputs": [],
   "source": []
  },
  {
   "cell_type": "code",
   "execution_count": 16,
   "id": "04b99e1f",
   "metadata": {},
   "outputs": [
    {
     "name": "stdout",
     "output_type": "stream",
     "text": [
      "list index out of range\n"
     ]
    }
   ],
   "source": [
    "try:\n",
    "    l=[1,2,3]\n",
    "    print(l[9])\n",
    "except IndexError as e:\n",
    "    print(e)"
   ]
  },
  {
   "cell_type": "code",
   "execution_count": null,
   "id": "7eb32b36",
   "metadata": {},
   "outputs": [],
   "source": []
  },
  {
   "cell_type": "code",
   "execution_count": 17,
   "id": "2fc69894",
   "metadata": {},
   "outputs": [
    {
     "name": "stdout",
     "output_type": "stream",
     "text": [
      "unsupported operand type(s) for +: 'int' and 'str'\n"
     ]
    }
   ],
   "source": [
    "try:\n",
    "    12+'sudh'\n",
    "except TypeError as e:\n",
    "    print(e)"
   ]
  },
  {
   "cell_type": "code",
   "execution_count": null,
   "id": "ba3481c8",
   "metadata": {},
   "outputs": [],
   "source": []
  },
  {
   "cell_type": "code",
   "execution_count": 18,
   "id": "415cc236",
   "metadata": {},
   "outputs": [
    {
     "name": "stdout",
     "output_type": "stream",
     "text": [
      "[Errno 2] No such file or directory: 'ashish.txt'\n"
     ]
    }
   ],
   "source": [
    "try:\n",
    "    with open('ashish.txt','r') as f:\n",
    "        f.read()\n",
    "except FileNotFoundError as e:\n",
    "    print(e)"
   ]
  },
  {
   "cell_type": "code",
   "execution_count": null,
   "id": "82b0da9d",
   "metadata": {},
   "outputs": [],
   "source": []
  },
  {
   "cell_type": "code",
   "execution_count": 22,
   "id": "91c49a8a",
   "metadata": {},
   "outputs": [
    {
     "name": "stdout",
     "output_type": "stream",
     "text": [
      "type error------------> name 'adkfjlsa' is not defined\n"
     ]
    }
   ],
   "source": [
    "try:\n",
    "    adkfjlsa\n",
    "except NameError as e:\n",
    "    print(\"type error------------>\",e)\n",
    "except Exception as e:\n",
    "    print(e)"
   ]
  },
  {
   "cell_type": "code",
   "execution_count": 28,
   "id": "736d0208",
   "metadata": {},
   "outputs": [],
   "source": [
    "# it is good pratice to use generic keyword 'Exception' as very last block for exception handling, we should use specific\n",
    "# exception to handle the particular error first and if we dont know the error exception to handle then we can use generic \n",
    "# 'Exception' keyword to handle to error"
   ]
  },
  {
   "cell_type": "code",
   "execution_count": null,
   "id": "bef9e4cc",
   "metadata": {},
   "outputs": [],
   "source": []
  },
  {
   "cell_type": "code",
   "execution_count": 26,
   "id": "6b5e06e0",
   "metadata": {},
   "outputs": [],
   "source": [
    "def error():\n",
    "    try:\n",
    "        return 8/0\n",
    "    except ZeroDivisionError as e:\n",
    "        return e"
   ]
  },
  {
   "cell_type": "code",
   "execution_count": 27,
   "id": "90e797d7",
   "metadata": {},
   "outputs": [
    {
     "name": "stdout",
     "output_type": "stream",
     "text": [
      "division by zero\n"
     ]
    }
   ],
   "source": [
    "print(error())"
   ]
  },
  {
   "cell_type": "code",
   "execution_count": null,
   "id": "437ea7f9",
   "metadata": {},
   "outputs": [],
   "source": []
  },
  {
   "cell_type": "code",
   "execution_count": null,
   "id": "6dcc434d",
   "metadata": {},
   "outputs": [],
   "source": []
  },
  {
   "cell_type": "markdown",
   "id": "1197d7ca",
   "metadata": {},
   "source": [
    "# best pratice of exception handling"
   ]
  },
  {
   "cell_type": "code",
   "execution_count": 29,
   "id": "e1120d79",
   "metadata": {},
   "outputs": [],
   "source": [
    "# use specific exception to handle the error"
   ]
  },
  {
   "cell_type": "code",
   "execution_count": 30,
   "id": "e9d307c8",
   "metadata": {},
   "outputs": [],
   "source": [
    "# always try to write proper message "
   ]
  },
  {
   "cell_type": "code",
   "execution_count": 31,
   "id": "05199501",
   "metadata": {},
   "outputs": [],
   "source": [
    "# always log you error "
   ]
  },
  {
   "cell_type": "code",
   "execution_count": 33,
   "id": "a9fd1999",
   "metadata": {},
   "outputs": [],
   "source": [
    "# always try to avoid multiple exception handling"
   ]
  },
  {
   "cell_type": "code",
   "execution_count": 34,
   "id": "abe085ec",
   "metadata": {},
   "outputs": [],
   "source": [
    "# document all the error"
   ]
  },
  {
   "cell_type": "code",
   "execution_count": 35,
   "id": "892fc66f",
   "metadata": {},
   "outputs": [],
   "source": [
    "# cleanup all the resourses"
   ]
  },
  {
   "cell_type": "code",
   "execution_count": null,
   "id": "97746372",
   "metadata": {},
   "outputs": [],
   "source": []
  },
  {
   "cell_type": "code",
   "execution_count": 36,
   "id": "0bd2efba",
   "metadata": {},
   "outputs": [
    {
     "name": "stdout",
     "output_type": "stream",
     "text": [
      "division by zero\n"
     ]
    }
   ],
   "source": [
    "try:\n",
    "    a=8\n",
    "    print(a/0)\n",
    "except ZeroDivisionError as e:\n",
    "    print(e)"
   ]
  },
  {
   "cell_type": "code",
   "execution_count": 38,
   "id": "4147c2c3",
   "metadata": {},
   "outputs": [],
   "source": [
    "# both the code are same but above code uses specific exception to handle the error and the below code use generic exception\n",
    "# to handle the error hence \n",
    "\n",
    "# The best pratice is to handle the specific exception to handle the error"
   ]
  },
  {
   "cell_type": "code",
   "execution_count": 39,
   "id": "b3a2729a",
   "metadata": {},
   "outputs": [
    {
     "name": "stdout",
     "output_type": "stream",
     "text": [
      "division by zero\n"
     ]
    }
   ],
   "source": [
    "try:\n",
    "    a=8\n",
    "    print(a/0)\n",
    "except Exception as e:\n",
    "    print(e)"
   ]
  },
  {
   "cell_type": "code",
   "execution_count": null,
   "id": "073d7d32",
   "metadata": {},
   "outputs": [],
   "source": []
  },
  {
   "cell_type": "code",
   "execution_count": null,
   "id": "248df913",
   "metadata": {},
   "outputs": [],
   "source": []
  },
  {
   "cell_type": "code",
   "execution_count": null,
   "id": "a29f215a",
   "metadata": {},
   "outputs": [],
   "source": []
  },
  {
   "cell_type": "code",
   "execution_count": null,
   "id": "926ee58e",
   "metadata": {},
   "outputs": [],
   "source": []
  },
  {
   "cell_type": "code",
   "execution_count": 40,
   "id": "e4c29308",
   "metadata": {},
   "outputs": [
    {
     "name": "stdout",
     "output_type": "stream",
     "text": [
      "The above error have occured because division is occucing by 0 which is not possible------> division by zero\n"
     ]
    }
   ],
   "source": [
    "try:\n",
    "    a=8\n",
    "    print(a/0)\n",
    "except ZeroDivisionError as e:\n",
    "    print(\"The above error have occured because division is occucing by 0 which is not possible------>\",e)"
   ]
  },
  {
   "cell_type": "code",
   "execution_count": 41,
   "id": "759e3d13",
   "metadata": {},
   "outputs": [],
   "source": [
    "# both the code are same but the difference is that above code is written with proper message about the error and in below code\n",
    "# no msg is written\n",
    "\n",
    "# the best pratice is to write the proper message while handling the exception"
   ]
  },
  {
   "cell_type": "code",
   "execution_count": null,
   "id": "3045f882",
   "metadata": {},
   "outputs": [],
   "source": [
    "try:\n",
    "    a=8\n",
    "    print(a/0)\n",
    "except ZeroDivisionError as e:\n",
    "    print(e)"
   ]
  },
  {
   "cell_type": "code",
   "execution_count": null,
   "id": "548015e1",
   "metadata": {},
   "outputs": [],
   "source": []
  },
  {
   "cell_type": "code",
   "execution_count": null,
   "id": "33fe0c1d",
   "metadata": {},
   "outputs": [],
   "source": []
  },
  {
   "cell_type": "code",
   "execution_count": 42,
   "id": "e3f434a7",
   "metadata": {},
   "outputs": [],
   "source": [
    "import logging\n",
    "\n",
    "logging.basicConfig(filename='error.log',level=logging.ERROR)\n",
    "\n",
    "\n",
    "try:\n",
    "    a=8\n",
    "    print(a/0)\n",
    "except ZeroDivisionError as e:\n",
    "    logging.error(f\"The above error have occured because division is occucing by 0 which is not possible------>{e}\")"
   ]
  },
  {
   "attachments": {
    "image.png": {
     "image/png": "[encoded data removed]"
    }
   },
   "cell_type": "markdown",
   "id": "3da2d222",
   "metadata": {},
   "source": [
    "![image.png](attachment:image.png)"
   ]
  },
  {
   "cell_type": "code",
   "execution_count": 44,
   "id": "6cd250a1",
   "metadata": {},
   "outputs": [],
   "source": [
    "# above and below code give same result but the main difference is that in above code we are creating a log file and saving\n",
    "# the logs of error that have occured\n",
    "# this is the best pratice to do\n",
    "\n",
    "# writing below code is not good pratice, we are using print function which will just execute in runtime and after that deleted\n",
    "# from the memory and hence we will lost the data about the error"
   ]
  },
  {
   "cell_type": "code",
   "execution_count": 43,
   "id": "bbbe0e3f",
   "metadata": {},
   "outputs": [
    {
     "name": "stdout",
     "output_type": "stream",
     "text": [
      "The above error have occured because division is occucing by 0 which is not possible------> division by zero\n"
     ]
    }
   ],
   "source": [
    "try:\n",
    "    a=8\n",
    "    print(a/0)\n",
    "except ZeroDivisionError as e:\n",
    "    print(\"The above error have occured because division is occucing by 0 which is not possible------>\",e)"
   ]
  },
  {
   "cell_type": "code",
   "execution_count": null,
   "id": "c79d31d4",
   "metadata": {},
   "outputs": [],
   "source": []
  },
  {
   "cell_type": "code",
   "execution_count": null,
   "id": "0cc8d9ce",
   "metadata": {},
   "outputs": [],
   "source": []
  }
 ],
 "metadata": {
  "kernelspec": {
   "display_name": "Python 3 (ipykernel)",
   "language": "python",
   "name": "python3"
  },
  "language_info": {
   "codemirror_mode": {
    "name": "ipython",
    "version": 3
   },
   "file_extension": ".py",
   "mimetype": "text/x-python",
   "name": "python",
   "nbconvert_exporter": "python",
   "pygments_lexer": "ipython3",
   "version": "3.8.10"
  }
 },
 "nbformat": 4,
 "nbformat_minor": 5
}
