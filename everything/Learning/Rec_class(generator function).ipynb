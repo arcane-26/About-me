{
 "cells": [
  {
   "cell_type": "code",
   "execution_count": 5,
   "id": "ad387586",
   "metadata": {},
   "outputs": [
    {
     "data": {
      "text/plain": [
       "range(0, 10)"
      ]
     },
     "execution_count": 5,
     "metadata": {},
     "output_type": "execute_result"
    }
   ],
   "source": [
    "range(10)\n",
    "      "
   ]
  },
  {
   "cell_type": "code",
   "execution_count": 2,
   "id": "df6b8bbc",
   "metadata": {},
   "outputs": [
    {
     "name": "stdout",
     "output_type": "stream",
     "text": [
      "0\n",
      "1\n",
      "2\n",
      "3\n",
      "4\n",
      "5\n",
      "6\n",
      "7\n",
      "8\n",
      "9\n"
     ]
    }
   ],
   "source": [
    "for i in range(10):\n",
    "    print(i)"
   ]
  },
  {
   "cell_type": "code",
   "execution_count": 3,
   "id": "c3ae1e6a",
   "metadata": {},
   "outputs": [],
   "source": [
    "def test_fib(n):\n",
    "    a,b=0,1\n",
    "    for i in range(n):\n",
    "        yield(a)\n",
    "        a,b=b,a+b"
   ]
  },
  {
   "cell_type": "code",
   "execution_count": 4,
   "id": "93ef71ee",
   "metadata": {},
   "outputs": [
    {
     "data": {
      "text/plain": [
       "<generator object test_fib at 0x000002438F90EC80>"
      ]
     },
     "execution_count": 4,
     "metadata": {},
     "output_type": "execute_result"
    }
   ],
   "source": [
    "test_fib(10)"
   ]
  },
  {
   "cell_type": "code",
   "execution_count": 5,
   "id": "8abaff1e",
   "metadata": {},
   "outputs": [
    {
     "name": "stdout",
     "output_type": "stream",
     "text": [
      "0\n",
      "1\n",
      "1\n",
      "2\n",
      "3\n",
      "5\n",
      "8\n",
      "13\n",
      "21\n",
      "34\n"
     ]
    }
   ],
   "source": [
    "for i in test_fib(10):\n",
    "    print(i)"
   ]
  },
  {
   "cell_type": "code",
   "execution_count": 6,
   "id": "edfa70d8",
   "metadata": {},
   "outputs": [],
   "source": [
    "def a(n):\n",
    "    r=[]\n",
    "    for i in range(n):\n",
    "        r.append(i*i)\n",
    "    return r"
   ]
  },
  {
   "cell_type": "code",
   "execution_count": 8,
   "id": "454bfa17",
   "metadata": {},
   "outputs": [],
   "source": [
    "data=a(5)"
   ]
  },
  {
   "cell_type": "code",
   "execution_count": 9,
   "id": "9d706504",
   "metadata": {},
   "outputs": [
    {
     "data": {
      "text/plain": [
       "[0, 1, 4, 9, 16]"
      ]
     },
     "execution_count": 9,
     "metadata": {},
     "output_type": "execute_result"
    }
   ],
   "source": [
    "data"
   ]
  },
  {
   "cell_type": "code",
   "execution_count": 10,
   "id": "e2579525",
   "metadata": {},
   "outputs": [],
   "source": [
    "def a(n):\n",
    "    for i in range(n):\n",
    "        yield(i*i)"
   ]
  },
  {
   "cell_type": "code",
   "execution_count": 11,
   "id": "3463750d",
   "metadata": {},
   "outputs": [],
   "source": [
    "data=a(5)"
   ]
  },
  {
   "cell_type": "code",
   "execution_count": 12,
   "id": "ae581e6b",
   "metadata": {},
   "outputs": [
    {
     "data": {
      "text/plain": [
       "<generator object a at 0x000002438F9CF0B0>"
      ]
     },
     "execution_count": 12,
     "metadata": {},
     "output_type": "execute_result"
    }
   ],
   "source": [
    "data"
   ]
  },
  {
   "cell_type": "code",
   "execution_count": 13,
   "id": "f1093813",
   "metadata": {},
   "outputs": [
    {
     "name": "stdout",
     "output_type": "stream",
     "text": [
      "0\n",
      "1\n",
      "4\n",
      "9\n",
      "16\n"
     ]
    }
   ],
   "source": [
    "for num in data:\n",
    "    print(num)"
   ]
  },
  {
   "cell_type": "code",
   "execution_count": 16,
   "id": "6e017bef",
   "metadata": {},
   "outputs": [],
   "source": [
    " x=[i**2 for i in range(5)]"
   ]
  },
  {
   "cell_type": "code",
   "execution_count": 17,
   "id": "5bdb3884",
   "metadata": {},
   "outputs": [
    {
     "data": {
      "text/plain": [
       "[0, 1, 4, 9, 16]"
      ]
     },
     "execution_count": 17,
     "metadata": {},
     "output_type": "execute_result"
    }
   ],
   "source": [
    "x"
   ]
  },
  {
   "cell_type": "code",
   "execution_count": 22,
   "id": "5fee8363",
   "metadata": {},
   "outputs": [],
   "source": [
    "# in normal function first a lagre memory is ouppied for allocatin the list of [0,1,.... the it was executed to show the\n",
    "# the output\n",
    "\n",
    "# In list comprehension we use square brackets [] for list \n",
    "\n",
    "# Generator function dosent occupy large space in the memory it yeild one output at a time which is memory efficient\n",
    "\n",
    "# In list comprehension we use round brackets for () generator fuction"
   ]
  },
  {
   "cell_type": "code",
   "execution_count": null,
   "id": "a147d90b",
   "metadata": {},
   "outputs": [],
   "source": []
  },
  {
   "cell_type": "code",
   "execution_count": 18,
   "id": "4ac187ec",
   "metadata": {},
   "outputs": [],
   "source": [
    "x=(i**2 for i in range(5))"
   ]
  },
  {
   "cell_type": "code",
   "execution_count": 19,
   "id": "372df5b2",
   "metadata": {},
   "outputs": [
    {
     "data": {
      "text/plain": [
       "<generator object <genexpr> at 0x000002438F9CFC80>"
      ]
     },
     "execution_count": 19,
     "metadata": {},
     "output_type": "execute_result"
    }
   ],
   "source": [
    "x"
   ]
  },
  {
   "cell_type": "code",
   "execution_count": 20,
   "id": "e6c89b30",
   "metadata": {},
   "outputs": [
    {
     "name": "stdout",
     "output_type": "stream",
     "text": [
      "0\n",
      "1\n",
      "4\n",
      "9\n",
      "16\n"
     ]
    }
   ],
   "source": [
    "for i in x:\n",
    "    print(i)"
   ]
  },
  {
   "cell_type": "code",
   "execution_count": null,
   "id": "35bd3090",
   "metadata": {},
   "outputs": [],
   "source": []
  },
  {
   "cell_type": "code",
   "execution_count": null,
   "id": "09de0ca7",
   "metadata": {},
   "outputs": [],
   "source": []
  },
  {
   "cell_type": "code",
   "execution_count": 42,
   "id": "95dd2226",
   "metadata": {},
   "outputs": [],
   "source": [
    "def test_fib1():\n",
    "    a,b=0,1\n",
    "    while True:\n",
    "        yield(a)\n",
    "        a,b=b,a+b\n",
    "    \n",
    "        "
   ]
  },
  {
   "cell_type": "code",
   "execution_count": 43,
   "id": "ac9793ad",
   "metadata": {},
   "outputs": [],
   "source": [
    "a=test_fib1()"
   ]
  },
  {
   "cell_type": "code",
   "execution_count": 44,
   "id": "5cccba20",
   "metadata": {},
   "outputs": [
    {
     "data": {
      "text/plain": [
       "<generator object test_fib1 at 0x000002438F9F4120>"
      ]
     },
     "execution_count": 44,
     "metadata": {},
     "output_type": "execute_result"
    }
   ],
   "source": [
    "a"
   ]
  },
  {
   "cell_type": "code",
   "execution_count": 45,
   "id": "175d37d4",
   "metadata": {},
   "outputs": [
    {
     "name": "stdout",
     "output_type": "stream",
     "text": [
      "0\n",
      "1\n",
      "1\n",
      "2\n",
      "3\n",
      "5\n",
      "8\n",
      "13\n",
      "21\n",
      "34\n"
     ]
    }
   ],
   "source": [
    "for i in range(10):\n",
    "    print(next(a))"
   ]
  },
  {
   "cell_type": "code",
   "execution_count": 96,
   "id": "825eb77d",
   "metadata": {},
   "outputs": [],
   "source": [
    "s=\"ashish\""
   ]
  },
  {
   "cell_type": "code",
   "execution_count": 97,
   "id": "8738aa4f",
   "metadata": {},
   "outputs": [
    {
     "name": "stdout",
     "output_type": "stream",
     "text": [
      "a\n",
      "s\n",
      "h\n",
      "i\n",
      "s\n",
      "h\n"
     ]
    }
   ],
   "source": [
    "for i in s:\n",
    "    print(i)"
   ]
  },
  {
   "cell_type": "code",
   "execution_count": 98,
   "id": "c5ec78ae",
   "metadata": {},
   "outputs": [],
   "source": [
    "it=iter(s)"
   ]
  },
  {
   "cell_type": "code",
   "execution_count": 99,
   "id": "d363a2a7",
   "metadata": {},
   "outputs": [
    {
     "data": {
      "text/plain": [
       "<str_iterator at 0x2438fd35ca0>"
      ]
     },
     "execution_count": 99,
     "metadata": {},
     "output_type": "execute_result"
    }
   ],
   "source": [
    "it"
   ]
  },
  {
   "cell_type": "code",
   "execution_count": 100,
   "id": "b567a365",
   "metadata": {},
   "outputs": [
    {
     "data": {
      "text/plain": [
       "str_iterator"
      ]
     },
     "execution_count": 100,
     "metadata": {},
     "output_type": "execute_result"
    }
   ],
   "source": [
    "type(it)"
   ]
  },
  {
   "cell_type": "code",
   "execution_count": 101,
   "id": "e9c018d1",
   "metadata": {},
   "outputs": [
    {
     "name": "stdout",
     "output_type": "stream",
     "text": [
      "a\n",
      "s\n",
      "h\n",
      "i\n",
      "s\n",
      "h\n"
     ]
    }
   ],
   "source": [
    "for i in range(len(s)):\n",
    "    print(next(it))"
   ]
  },
  {
   "cell_type": "code",
   "execution_count": null,
   "id": "82547924",
   "metadata": {},
   "outputs": [],
   "source": []
  },
  {
   "cell_type": "code",
   "execution_count": null,
   "id": "ab8ba5e1",
   "metadata": {},
   "outputs": [],
   "source": []
  },
  {
   "cell_type": "code",
   "execution_count": 61,
   "id": "1d3d1256",
   "metadata": {},
   "outputs": [],
   "source": [
    "# There are some data type which are by default iterable  and can be converted into iterator object\n",
    "# these are list,sting ,tuple.....etc\n",
    "\n",
    "# data type which cannot be converted into iterator object are\n",
    "# int, float bool\n",
    "\n",
    "\n"
   ]
  },
  {
   "cell_type": "code",
   "execution_count": 68,
   "id": "92a0d627",
   "metadata": {},
   "outputs": [],
   "source": [
    "# iterator object is created by using iter() function and the iteration is done by using next() function\n",
    "\n",
    "# syntax\n",
    "\n",
    "# (iterator_object)=iter(iterable_variable)"
   ]
  },
  {
   "cell_type": "code",
   "execution_count": 70,
   "id": "a9030423",
   "metadata": {},
   "outputs": [],
   "source": [
    "# when generator function is created then iterator object is also created\n",
    "\n",
    "\n",
    "# def abc():            \n",
    "#     .....\n",
    "#     ....\n",
    "#     ...\n",
    "#     yield(...)\n",
    "\n",
    "# above we can see the generator function, since yield is used to for returning it became generator function \n",
    "    \n",
    "# some_varaible=abc()  ---> generator function assigned to some_variable\n",
    "\n",
    "# hence, some_variable become a iterator object"
   ]
  },
  {
   "cell_type": "code",
   "execution_count": null,
   "id": "579b52c8",
   "metadata": {},
   "outputs": [],
   "source": []
  },
  {
   "cell_type": "code",
   "execution_count": null,
   "id": "06aed0d3",
   "metadata": {},
   "outputs": [],
   "source": []
  },
  {
   "cell_type": "code",
   "execution_count": null,
   "id": "abfc41e6",
   "metadata": {},
   "outputs": [],
   "source": []
  },
  {
   "cell_type": "code",
   "execution_count": null,
   "id": "f9503122",
   "metadata": {},
   "outputs": [],
   "source": []
  },
  {
   "cell_type": "code",
   "execution_count": null,
   "id": "68eedf58",
   "metadata": {},
   "outputs": [],
   "source": []
  },
  {
   "cell_type": "code",
   "execution_count": null,
   "id": "b17d128a",
   "metadata": {},
   "outputs": [],
   "source": []
  },
  {
   "cell_type": "code",
   "execution_count": null,
   "id": "e032151d",
   "metadata": {},
   "outputs": [],
   "source": []
  },
  {
   "cell_type": "code",
   "execution_count": 118,
   "id": "b5ce53ea",
   "metadata": {},
   "outputs": [],
   "source": [
    "a=\"mathematics\""
   ]
  },
  {
   "cell_type": "code",
   "execution_count": 119,
   "id": "f12e7eaa",
   "metadata": {},
   "outputs": [],
   "source": [
    "si=iter(a)           #  ' si '----> is the iterator obeject is created using iter() fuction"
   ]
  },
  {
   "cell_type": "code",
   "execution_count": 120,
   "id": "4efca5e1",
   "metadata": {},
   "outputs": [],
   "source": [
    "#   iterration is performed on iterator object using next() function"
   ]
  },
  {
   "cell_type": "code",
   "execution_count": 121,
   "id": "e570e509",
   "metadata": {},
   "outputs": [
    {
     "name": "stdout",
     "output_type": "stream",
     "text": [
      "m\n",
      "a\n",
      "t\n",
      "h\n",
      "e\n",
      "m\n",
      "a\n",
      "t\n",
      "i\n",
      "c\n",
      "s\n"
     ]
    }
   ],
   "source": [
    "for i in range(len(a)):\n",
    "    print(next(si))"
   ]
  },
  {
   "cell_type": "code",
   "execution_count": 1,
   "id": "0a22393d",
   "metadata": {},
   "outputs": [],
   "source": [
    "def tem():\n",
    "    a=1\n",
    "    while True:\n",
    "        yield(a)\n",
    "        a=a+1"
   ]
  },
  {
   "cell_type": "code",
   "execution_count": 3,
   "id": "17b6b90e",
   "metadata": {},
   "outputs": [],
   "source": [
    "a=tem()"
   ]
  },
  {
   "cell_type": "code",
   "execution_count": 4,
   "id": "6e19d4f0",
   "metadata": {},
   "outputs": [
    {
     "name": "stdout",
     "output_type": "stream",
     "text": [
      "1\n",
      "2\n",
      "3\n",
      "4\n",
      "5\n",
      "6\n",
      "7\n",
      "8\n",
      "9\n",
      "10\n"
     ]
    }
   ],
   "source": [
    "for i in range(10):\n",
    "    print(next(a))"
   ]
  },
  {
   "cell_type": "code",
   "execution_count": null,
   "id": "742478b1",
   "metadata": {},
   "outputs": [],
   "source": []
  },
  {
   "cell_type": "code",
   "execution_count": 17,
   "id": "ab274da2",
   "metadata": {},
   "outputs": [],
   "source": [
    "def counter(n):\n",
    "    count=1\n",
    "    while count<n:\n",
    "        yield count\n",
    "        count=count+1\n",
    "        "
   ]
  },
  {
   "cell_type": "code",
   "execution_count": 25,
   "id": "1e534b01",
   "metadata": {},
   "outputs": [
    {
     "name": "stdout",
     "output_type": "stream",
     "text": [
      "1\n",
      "2\n",
      "3\n",
      "4\n",
      "5\n",
      "6\n",
      "7\n",
      "8\n",
      "9\n"
     ]
    }
   ],
   "source": [
    "it=counter(10)\n",
    "\n",
    "for i in it:\n",
    "    print(i)\n",
    "\n",
    "\n"
   ]
  },
  {
   "cell_type": "code",
   "execution_count": null,
   "id": "8432ea5c",
   "metadata": {},
   "outputs": [],
   "source": []
  },
  {
   "cell_type": "code",
   "execution_count": null,
   "id": "f529c4b6",
   "metadata": {},
   "outputs": [],
   "source": []
  },
  {
   "cell_type": "markdown",
   "id": "4e75f5f2",
   "metadata": {},
   "source": [
    "# Lambda fuction"
   ]
  },
  {
   "cell_type": "code",
   "execution_count": null,
   "id": "00de2552",
   "metadata": {},
   "outputs": [],
   "source": [
    "# lambda fuction is a anonymous fuction and one liner function which is not defined and don't have any  fuction name "
   ]
  },
  {
   "cell_type": "code",
   "execution_count": null,
   "id": "35e6c509",
   "metadata": {},
   "outputs": [],
   "source": []
  },
  {
   "cell_type": "code",
   "execution_count": 26,
   "id": "f939b92f",
   "metadata": {},
   "outputs": [],
   "source": [
    "# let consider a normal fuction for square of two numbers"
   ]
  },
  {
   "cell_type": "code",
   "execution_count": 27,
   "id": "6c9d3b50",
   "metadata": {},
   "outputs": [],
   "source": [
    "\n",
    "def sqre(n,p):\n",
    "    return n**p"
   ]
  },
  {
   "cell_type": "code",
   "execution_count": 30,
   "id": "70edae44",
   "metadata": {},
   "outputs": [
    {
     "data": {
      "text/plain": [
       "8"
      ]
     },
     "execution_count": 30,
     "metadata": {},
     "output_type": "execute_result"
    }
   ],
   "source": [
    "a=sqre(2,3)\n",
    "a"
   ]
  },
  {
   "cell_type": "code",
   "execution_count": null,
   "id": "e127d32d",
   "metadata": {},
   "outputs": [],
   "source": []
  },
  {
   "cell_type": "code",
   "execution_count": 31,
   "id": "7bdcb707",
   "metadata": {},
   "outputs": [],
   "source": [
    "# rather than above we can simply write one liner lambda fuction"
   ]
  },
  {
   "cell_type": "code",
   "execution_count": 32,
   "id": "a52dcf3e",
   "metadata": {},
   "outputs": [],
   "source": [
    "a=lambda n,p : n**p"
   ]
  },
  {
   "cell_type": "code",
   "execution_count": 33,
   "id": "01820843",
   "metadata": {},
   "outputs": [
    {
     "data": {
      "text/plain": [
       "81"
      ]
     },
     "execution_count": 33,
     "metadata": {},
     "output_type": "execute_result"
    }
   ],
   "source": [
    "a(3,4)"
   ]
  },
  {
   "cell_type": "code",
   "execution_count": 34,
   "id": "f48c608e",
   "metadata": {},
   "outputs": [],
   "source": [
    "# int the above case  'lambda' keyword is used and after that n,p parameters are passed followed by colon (:) and then\n",
    "# operation we want to perform"
   ]
  },
  {
   "cell_type": "code",
   "execution_count": 35,
   "id": "13219c5e",
   "metadata": {},
   "outputs": [],
   "source": [
    "# we assigned lambda fuction to 'a'\n",
    "# after that we called a(3,4) with arguments 3 and 4 inside parantheses which will be assigned to parameter n,p "
   ]
  },
  {
   "cell_type": "code",
   "execution_count": null,
   "id": "f9bcd7f1",
   "metadata": {},
   "outputs": [],
   "source": []
  },
  {
   "cell_type": "code",
   "execution_count": 36,
   "id": "63c01a31",
   "metadata": {},
   "outputs": [],
   "source": [
    "addition = lambda a,b: a+b"
   ]
  },
  {
   "cell_type": "code",
   "execution_count": 37,
   "id": "6f8bf03a",
   "metadata": {},
   "outputs": [
    {
     "data": {
      "text/plain": [
       "8"
      ]
     },
     "execution_count": 37,
     "metadata": {},
     "output_type": "execute_result"
    }
   ],
   "source": [
    "addition(3,5)"
   ]
  },
  {
   "cell_type": "code",
   "execution_count": 38,
   "id": "db664f8d",
   "metadata": {},
   "outputs": [],
   "source": [
    "multiplication = lambda a,b:a*b"
   ]
  },
  {
   "cell_type": "code",
   "execution_count": 39,
   "id": "f3caf605",
   "metadata": {},
   "outputs": [
    {
     "data": {
      "text/plain": [
       "12"
      ]
     },
     "execution_count": 39,
     "metadata": {},
     "output_type": "execute_result"
    }
   ],
   "source": [
    "multiplication(3,4)"
   ]
  },
  {
   "cell_type": "code",
   "execution_count": 40,
   "id": "4b02510b",
   "metadata": {},
   "outputs": [],
   "source": [
    "division = lambda a,b,c:(a+b)/c "
   ]
  },
  {
   "cell_type": "code",
   "execution_count": 41,
   "id": "7b71aa65",
   "metadata": {},
   "outputs": [
    {
     "data": {
      "text/plain": [
       "1.125"
      ]
     },
     "execution_count": 41,
     "metadata": {},
     "output_type": "execute_result"
    }
   ],
   "source": [
    "division(3,6,8)"
   ]
  },
  {
   "cell_type": "code",
   "execution_count": 42,
   "id": "0641819d",
   "metadata": {},
   "outputs": [],
   "source": [
    "c_to_f= lambda c:(9/5)*c+32"
   ]
  },
  {
   "cell_type": "code",
   "execution_count": 44,
   "id": "f403f4f0",
   "metadata": {},
   "outputs": [
    {
     "data": {
      "text/plain": [
       "95.0"
      ]
     },
     "execution_count": 44,
     "metadata": {},
     "output_type": "execute_result"
    }
   ],
   "source": [
    "c_to_f(35)"
   ]
  },
  {
   "cell_type": "code",
   "execution_count": 46,
   "id": "1671f87b",
   "metadata": {},
   "outputs": [],
   "source": [
    "find_max=lambda x,y: x if x>y else y"
   ]
  },
  {
   "cell_type": "code",
   "execution_count": 47,
   "id": "f7a43dc6",
   "metadata": {},
   "outputs": [
    {
     "data": {
      "text/plain": [
       "56"
      ]
     },
     "execution_count": 47,
     "metadata": {},
     "output_type": "execute_result"
    }
   ],
   "source": [
    "find_max(22,56)"
   ]
  },
  {
   "cell_type": "code",
   "execution_count": null,
   "id": "6fd34bd1",
   "metadata": {},
   "outputs": [],
   "source": []
  },
  {
   "cell_type": "code",
   "execution_count": 51,
   "id": "38b789f3",
   "metadata": {},
   "outputs": [],
   "source": [
    "s='ashish'"
   ]
  },
  {
   "cell_type": "code",
   "execution_count": 52,
   "id": "e94d87f8",
   "metadata": {},
   "outputs": [],
   "source": [
    "length=lambda s : len(s)"
   ]
  },
  {
   "cell_type": "code",
   "execution_count": 53,
   "id": "7520d3e6",
   "metadata": {},
   "outputs": [
    {
     "data": {
      "text/plain": [
       "6"
      ]
     },
     "execution_count": 53,
     "metadata": {},
     "output_type": "execute_result"
    }
   ],
   "source": [
    "length(s)"
   ]
  },
  {
   "cell_type": "code",
   "execution_count": null,
   "id": "4b3526c8",
   "metadata": {},
   "outputs": [],
   "source": []
  },
  {
   "cell_type": "code",
   "execution_count": null,
   "id": "bedad9bf",
   "metadata": {},
   "outputs": [],
   "source": []
  },
  {
   "cell_type": "code",
   "execution_count": null,
   "id": "12ada441",
   "metadata": {},
   "outputs": [],
   "source": []
  },
  {
   "cell_type": "code",
   "execution_count": null,
   "id": "6c9fe3b0",
   "metadata": {},
   "outputs": [],
   "source": []
  },
  {
   "cell_type": "code",
   "execution_count": null,
   "id": "e66cbd9b",
   "metadata": {},
   "outputs": [],
   "source": []
  },
  {
   "cell_type": "code",
   "execution_count": null,
   "id": "4d891864",
   "metadata": {},
   "outputs": [],
   "source": []
  },
  {
   "cell_type": "code",
   "execution_count": null,
   "id": "1a586184",
   "metadata": {},
   "outputs": [],
   "source": []
  },
  {
   "cell_type": "code",
   "execution_count": null,
   "id": "43b57e18",
   "metadata": {},
   "outputs": [],
   "source": []
  },
  {
   "cell_type": "code",
   "execution_count": null,
   "id": "86a8fed5",
   "metadata": {},
   "outputs": [],
   "source": []
  },
  {
   "cell_type": "code",
   "execution_count": null,
   "id": "eb53200d",
   "metadata": {},
   "outputs": [],
   "source": []
  },
  {
   "cell_type": "code",
   "execution_count": null,
   "id": "c2623a7d",
   "metadata": {},
   "outputs": [],
   "source": []
  },
  {
   "cell_type": "code",
   "execution_count": null,
   "id": "93541df7",
   "metadata": {},
   "outputs": [],
   "source": []
  },
  {
   "cell_type": "code",
   "execution_count": null,
   "id": "9440857e",
   "metadata": {},
   "outputs": [],
   "source": []
  },
  {
   "cell_type": "code",
   "execution_count": null,
   "id": "c7337336",
   "metadata": {},
   "outputs": [],
   "source": []
  },
  {
   "cell_type": "code",
   "execution_count": null,
   "id": "d4679483",
   "metadata": {},
   "outputs": [],
   "source": []
  },
  {
   "cell_type": "code",
   "execution_count": null,
   "id": "da91b726",
   "metadata": {},
   "outputs": [],
   "source": []
  },
  {
   "cell_type": "code",
   "execution_count": null,
   "id": "5cc7f1bf",
   "metadata": {},
   "outputs": [],
   "source": []
  },
  {
   "cell_type": "code",
   "execution_count": null,
   "id": "9e9af0a7",
   "metadata": {},
   "outputs": [],
   "source": []
  }
 ],
 "metadata": {
  "kernelspec": {
   "display_name": "Python 3 (ipykernel)",
   "language": "python",
   "name": "python3"
  },
  "language_info": {
   "codemirror_mode": {
    "name": "ipython",
    "version": 3
   },
   "file_extension": ".py",
   "mimetype": "text/x-python",
   "name": "python",
   "nbconvert_exporter": "python",
   "pygments_lexer": "ipython3",
   "version": "3.8.10"
  }
 },
 "nbformat": 4,
 "nbformat_minor": 5
}
