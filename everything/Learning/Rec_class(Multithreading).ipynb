{
 "cells": [
  {
   "cell_type": "code",
   "execution_count": 70,
   "id": "9b7f8c86",
   "metadata": {},
   "outputs": [],
   "source": [
    "from threading import*\n",
    "import time"
   ]
  },
  {
   "cell_type": "code",
   "execution_count": null,
   "id": "1fabcc6e",
   "metadata": {},
   "outputs": [],
   "source": []
  },
  {
   "cell_type": "code",
   "execution_count": 71,
   "id": "6263c400",
   "metadata": {},
   "outputs": [],
   "source": [
    "def test(a):\n",
    "    print(\"the is test class\",a)"
   ]
  },
  {
   "cell_type": "code",
   "execution_count": null,
   "id": "e38d8bcc",
   "metadata": {},
   "outputs": [],
   "source": []
  },
  {
   "cell_type": "code",
   "execution_count": 72,
   "id": "9e1939ed",
   "metadata": {},
   "outputs": [],
   "source": [
    "thread=[threading.Thread(target=test, args=(i,)) for i in range(10)]"
   ]
  },
  {
   "cell_type": "code",
   "execution_count": 73,
   "id": "598a2f71",
   "metadata": {},
   "outputs": [
    {
     "name": "stdout",
     "output_type": "stream",
     "text": [
      "the is test class 0\n",
      "the is test class 1\n",
      "the is test class 2\n",
      "the is test class 3\n",
      "the is test class 4\n",
      "the is test class 5\n",
      "the is test class 6\n",
      "the is test class 7\n",
      "the is test class 8\n",
      "the is test class 9\n"
     ]
    }
   ],
   "source": [
    "for i in thread:\n",
    "    i.start()\n",
    "    "
   ]
  },
  {
   "cell_type": "code",
   "execution_count": null,
   "id": "127420d8",
   "metadata": {},
   "outputs": [],
   "source": []
  },
  {
   "cell_type": "code",
   "execution_count": null,
   "id": "5ac2df97",
   "metadata": {},
   "outputs": [],
   "source": []
  },
  {
   "cell_type": "code",
   "execution_count": 34,
   "id": "47125fe3",
   "metadata": {},
   "outputs": [],
   "source": [
    "def data(roll):\n",
    "    print('your roll no. is: ',roll)"
   ]
  },
  {
   "cell_type": "code",
   "execution_count": 35,
   "id": "1ae2164e",
   "metadata": {},
   "outputs": [],
   "source": [
    "thread2=[threading.Thread(target=data,args=(i,))for i in range(19155001,19155115)]"
   ]
  },
  {
   "cell_type": "code",
   "execution_count": 36,
   "id": "990e1679",
   "metadata": {},
   "outputs": [
    {
     "name": "stdout",
     "output_type": "stream",
     "text": [
      "your roll no. is:  19155001\n",
      "your roll no. is:  19155002\n",
      "your roll no. is:  19155003\n",
      "your roll no. is:  19155004\n",
      "your roll no. is:  19155005\n",
      "your roll no. is:  19155006\n",
      "your roll no. is:  19155007\n",
      "your roll no. is:  19155008\n",
      "your roll no. is:  19155009\n",
      "your roll no. is:  19155010\n",
      "your roll no. is:  19155011\n",
      "your roll no. is:  19155012\n",
      "your roll no. is:  19155013\n",
      "your roll no. is:  19155014\n",
      "your roll no. is:  19155015\n",
      "your roll no. is:  19155016\n",
      "your roll no. is:  19155017\n",
      "your roll no. is:  19155018\n",
      "your roll no. is:  19155019\n",
      "your roll no. is:  19155020\n",
      "your roll no. is:  19155021\n",
      "your roll no. is:  19155022\n",
      "your roll no. is:  19155023\n",
      "your roll no. is:  19155024\n",
      "your roll no. is:  19155025\n",
      "your roll no. is:  19155026\n",
      "your roll no. is:  19155027\n",
      "your roll no. is:  19155028\n",
      "your roll no. is:  19155029\n",
      "your roll no. is:  19155030\n",
      "your roll no. is:  19155031\n",
      "your roll no. is:  19155032\n",
      "your roll no. is:  19155033\n",
      "your roll no. is:  19155034\n",
      "your roll no. is:  19155035\n",
      "your roll no. is:  19155036\n",
      "your roll no. is:  19155037\n",
      "your roll no. is:  19155038\n",
      "your roll no. is:  19155039\n",
      "your roll no. is:  19155040\n",
      "your roll no. is:  19155041\n",
      "your roll no. is:  19155042\n",
      "your roll no. is:  19155043\n",
      "your roll no. is:  19155044\n",
      "your roll no. is:  19155045\n",
      "your roll no. is:  19155046\n",
      "your roll no. is:  19155047\n",
      "your roll no. is:  19155048\n",
      "your roll no. is:  19155049\n",
      "your roll no. is:  19155050\n",
      "your roll no. is:  19155051\n",
      "your roll no. is:  19155052\n",
      "your roll no. is:  19155053\n",
      "your roll no. is:  19155054\n",
      "your roll no. is:  19155055\n",
      "your roll no. is:  19155056\n",
      "your roll no. is:  19155057\n",
      "your roll no. is:  19155058\n",
      "your roll no. is:  19155059\n",
      "your roll no. is:  19155060\n",
      "your roll no. is:  19155061\n",
      "your roll no. is:  19155062\n",
      "your roll no. is:  19155063\n",
      "your roll no. is:  19155064\n",
      "your roll no. is:  19155065\n",
      "your roll no. is:  19155066\n",
      "your roll no. is:  19155067\n",
      "your roll no. is:  19155068\n",
      "your roll no. is:  19155069\n",
      "your roll no. is:  19155070\n",
      "your roll no. is:  19155071\n",
      "your roll no. is:  19155072\n",
      "your roll no. is:  19155073\n",
      "your roll no. is:  19155074\n",
      "your roll no. is:  19155075\n",
      "your roll no. is:  19155076\n",
      "your roll no. is:  19155077\n",
      "your roll no. is:  19155078\n",
      "your roll no. is:  19155079\n",
      "your roll no. is:  19155080\n",
      "your roll no. is:  19155081\n",
      "your roll no. is:  19155082\n",
      "your roll no. is:  19155083\n",
      "your roll no. is:  19155084\n",
      "your roll no. is:  19155085\n",
      "your roll no. is:  19155086\n",
      "your roll no. is:  19155087\n",
      "your roll no. is:  19155088\n",
      "your roll no. is:  19155089\n",
      "your roll no. is:  19155090\n",
      "your roll no. is:  19155091\n",
      "your roll no. is:  19155092\n",
      "your roll no. is:  19155093\n",
      "your roll no. is:  19155094\n",
      "your roll no. is:  19155095\n",
      "your roll no. is:  19155096\n",
      "your roll no. is:  19155097\n",
      "your roll no. is:  19155098\n",
      "your roll no. is:  19155099\n",
      "your roll no. is:  19155100\n",
      "your roll no. is:  19155101\n",
      "your roll no. is:  19155102\n",
      "your roll no. is:  19155103\n",
      "your roll no. is:  19155104\n",
      "your roll no. is:  19155105\n",
      "your roll no. is:  19155106\n",
      "your roll no. is:  19155107\n",
      "your roll no. is:  19155108\n",
      "your roll no. is:  19155109\n",
      "your roll no. is:  19155110\n",
      "your roll no. is:  19155111\n",
      "your roll no. is:  19155112\n",
      "your roll no. is:  19155113\n",
      "your roll no. is:  19155114\n"
     ]
    }
   ],
   "source": [
    "for i in thread2:\n",
    "    i.start()"
   ]
  },
  {
   "cell_type": "code",
   "execution_count": null,
   "id": "407d4877",
   "metadata": {},
   "outputs": [],
   "source": []
  },
  {
   "cell_type": "code",
   "execution_count": 61,
   "id": "a57b8bed",
   "metadata": {},
   "outputs": [
    {
     "name": "stdout",
     "output_type": "stream",
     "text": [
      "1\n",
      "2\n",
      "3\n",
      "4\n",
      "5\n",
      "6\n",
      "7\n",
      "8\n",
      "9\n"
     ]
    }
   ],
   "source": [
    "#printing 100 natural numbers\n",
    "\n",
    "def natural_nums(n):\n",
    "    print(n)\n",
    "    time.sleep(0.5)\n",
    "\n",
    "    \n",
    "num=[threading.Thread(target=natural_nums,args=(i,))for i in range(1,10)]\n",
    "for i in num:\n",
    "    i.start()\n",
    "    time.sleep(0.2)\n",
    "    "
   ]
  },
  {
   "cell_type": "code",
   "execution_count": null,
   "id": "367c7d94",
   "metadata": {},
   "outputs": [],
   "source": []
  },
  {
   "cell_type": "code",
   "execution_count": 2,
   "id": "53e13fc9",
   "metadata": {},
   "outputs": [],
   "source": [
    "import threading\n",
    "import urllib.request"
   ]
  },
  {
   "cell_type": "code",
   "execution_count": 3,
   "id": "6f106163",
   "metadata": {},
   "outputs": [],
   "source": [
    "def makefile(url,filename):\n",
    "    urllib.request.urlretrieve(url,filename)"
   ]
  },
  {
   "cell_type": "code",
   "execution_count": 5,
   "id": "fccf7af2",
   "metadata": {},
   "outputs": [],
   "source": [
    "makefile('https://raw.githubusercontent.com/arcane-26/Batch_Assignments/main/example1.txt','data1.txt')"
   ]
  },
  {
   "cell_type": "code",
   "execution_count": null,
   "id": "23c41bd2",
   "metadata": {},
   "outputs": [],
   "source": []
  },
  {
   "cell_type": "code",
   "execution_count": 6,
   "id": "0e1dd288",
   "metadata": {},
   "outputs": [],
   "source": [
    "# another way "
   ]
  },
  {
   "cell_type": "code",
   "execution_count": 7,
   "id": "307de4fa",
   "metadata": {},
   "outputs": [],
   "source": [
    "urls=['https://raw.githubusercontent.com/arcane-26/Batch_Assignments/main/example1.txt','https://raw.githubusercontent.com/arcane-26/Batch_Assignments/main/example2.txt','https://raw.githubusercontent.com/arcane-26/Batch_Assignments/main/example3.txt']"
   ]
  },
  {
   "cell_type": "code",
   "execution_count": 13,
   "id": "b97b7c39",
   "metadata": {},
   "outputs": [
    {
     "data": {
      "text/plain": [
       "['https://raw.githubusercontent.com/arcane-26/Batch_Assignments/main/example1.txt',\n",
       " 'https://raw.githubusercontent.com/arcane-26/Batch_Assignments/main/example2.txt',\n",
       " 'https://raw.githubusercontent.com/arcane-26/Batch_Assignments/main/example3.txt']"
      ]
     },
     "execution_count": 13,
     "metadata": {},
     "output_type": "execute_result"
    }
   ],
   "source": [
    "urls"
   ]
  },
  {
   "cell_type": "code",
   "execution_count": null,
   "id": "1207ce87",
   "metadata": {},
   "outputs": [],
   "source": []
  },
  {
   "cell_type": "code",
   "execution_count": 8,
   "id": "a123fe68",
   "metadata": {},
   "outputs": [],
   "source": [
    "files=['data_a.txt','data_b.txt','data_c.txt']"
   ]
  },
  {
   "cell_type": "code",
   "execution_count": 14,
   "id": "fa9e0c28",
   "metadata": {},
   "outputs": [
    {
     "data": {
      "text/plain": [
       "['data_a.txt', 'data_b.txt', 'data_c.txt']"
      ]
     },
     "execution_count": 14,
     "metadata": {},
     "output_type": "execute_result"
    }
   ],
   "source": [
    "files"
   ]
  },
  {
   "cell_type": "code",
   "execution_count": null,
   "id": "e49a6992",
   "metadata": {},
   "outputs": [],
   "source": []
  },
  {
   "cell_type": "code",
   "execution_count": 11,
   "id": "365bac0f",
   "metadata": {},
   "outputs": [],
   "source": [
    "final=[threading.Thread(target=makefile, args=(urls[i],files[i]))for i in range(len(urls))]"
   ]
  },
  {
   "cell_type": "code",
   "execution_count": 15,
   "id": "7aa031e6",
   "metadata": {},
   "outputs": [
    {
     "data": {
      "text/plain": [
       "[<Thread(Thread-5, stopped 21428)>,\n",
       " <Thread(Thread-6, stopped 7736)>,\n",
       " <Thread(Thread-7, stopped 19544)>]"
      ]
     },
     "execution_count": 15,
     "metadata": {},
     "output_type": "execute_result"
    }
   ],
   "source": [
    "final"
   ]
  },
  {
   "cell_type": "code",
   "execution_count": null,
   "id": "24ee26c6",
   "metadata": {},
   "outputs": [],
   "source": []
  },
  {
   "cell_type": "code",
   "execution_count": 12,
   "id": "99cbcaed",
   "metadata": {},
   "outputs": [],
   "source": [
    "for i in final:\n",
    "    i.start()"
   ]
  },
  {
   "cell_type": "code",
   "execution_count": null,
   "id": "4dbb88be",
   "metadata": {},
   "outputs": [],
   "source": []
  },
  {
   "cell_type": "code",
   "execution_count": null,
   "id": "eb254a01",
   "metadata": {},
   "outputs": [],
   "source": []
  },
  {
   "cell_type": "code",
   "execution_count": null,
   "id": "b2a37e64",
   "metadata": {},
   "outputs": [],
   "source": []
  },
  {
   "cell_type": "code",
   "execution_count": null,
   "id": "10d3a4d3",
   "metadata": {},
   "outputs": [],
   "source": []
  },
  {
   "cell_type": "code",
   "execution_count": 39,
   "id": "2abb4d16",
   "metadata": {},
   "outputs": [],
   "source": [
    "import time"
   ]
  },
  {
   "cell_type": "code",
   "execution_count": 40,
   "id": "2d39d248",
   "metadata": {},
   "outputs": [],
   "source": [
    "def test(id):\n",
    "    for i in range(10):\n",
    "        print(\"test %d printing %d\" %(id,i))\n",
    "        time.sleep(1)\n",
    "        "
   ]
  },
  {
   "cell_type": "code",
   "execution_count": 41,
   "id": "c0aa305d",
   "metadata": {},
   "outputs": [
    {
     "name": "stdout",
     "output_type": "stream",
     "text": [
      "test 1 printing 0\n",
      "test 1 printing 1\n",
      "test 1 printing 2\n",
      "test 1 printing 3\n",
      "test 1 printing 4\n",
      "test 1 printing 5\n",
      "test 1 printing 6\n",
      "test 1 printing 7\n",
      "test 1 printing 8\n",
      "test 1 printing 9\n",
      "None\n"
     ]
    }
   ],
   "source": [
    "print(test(1))"
   ]
  },
  {
   "cell_type": "code",
   "execution_count": null,
   "id": "e2d60139",
   "metadata": {},
   "outputs": [],
   "source": []
  },
  {
   "cell_type": "code",
   "execution_count": 42,
   "id": "b0ee40ee",
   "metadata": {},
   "outputs": [],
   "source": [
    "final=[threading.Thread(target=test,args=(i,))for i in range(3)]"
   ]
  },
  {
   "cell_type": "code",
   "execution_count": 43,
   "id": "f654ecce",
   "metadata": {},
   "outputs": [
    {
     "name": "stdout",
     "output_type": "stream",
     "text": [
      "test 0 printing 0\n",
      "test 1 printing 0\n",
      "test 2 printing 0\n",
      "test 0 printing 1\n",
      "test 2 printing 1\n",
      "test 1 printing 1\n",
      "test 2 printing 2\n",
      "test 1 printing 2\n",
      "test 0 printing 2\n",
      "test 1 printing 3\n",
      "test 0 printing 3\n",
      "test 2 printing 3\n",
      "test 0 printing 4test 2 printing 4\n",
      "test 1 printing 4\n",
      "\n",
      "test 0 printing 5test 1 printing 5\n",
      "test 2 printing 5\n",
      "\n",
      "test 2 printing 6\n",
      "test 0 printing 6\n",
      "test 1 printing 6\n",
      "test 1 printing 7test 0 printing 7\n",
      "test 2 printing 7\n",
      "\n",
      "test 1 printing 8test 2 printing 8\n",
      "test 0 printing 8\n",
      "\n",
      "test 2 printing 9test 0 printing 9\n",
      "test 1 printing 9\n",
      "\n"
     ]
    }
   ],
   "source": [
    "for i in final:\n",
    "    i.start()"
   ]
  },
  {
   "cell_type": "code",
   "execution_count": null,
   "id": "fd32e7d7",
   "metadata": {},
   "outputs": [],
   "source": []
  },
  {
   "cell_type": "code",
   "execution_count": 56,
   "id": "79bf0c96",
   "metadata": {},
   "outputs": [],
   "source": [
    "import time\n",
    "import threading"
   ]
  },
  {
   "cell_type": "code",
   "execution_count": 68,
   "id": "795fd3bf",
   "metadata": {},
   "outputs": [
    {
     "name": "stdout",
     "output_type": "stream",
     "text": [
      "square 4\n",
      "cube 8\n",
      "cubesquare 9\n",
      " 27\n",
      "squarecube 64\n",
      " 16\n",
      "cube 125\n",
      "square 25\n",
      "successfully printed in 0.8428654670715332 seconds\n"
     ]
    }
   ],
   "source": [
    "arr=[2,3,4,5]\n",
    "\n",
    "def square(n):\n",
    "    for i in n:\n",
    "        time.sleep(0.2)\n",
    "        print('square',i*i)\n",
    "    \n",
    "def cube(n):\n",
    "    for i in n:\n",
    "        time.sleep(0.2)\n",
    "        print('cube',i*i*i)\n",
    "    \n",
    "\n",
    "\n",
    "\n",
    "t1=threading.Thread(target=square,args=(arr,))\n",
    "t2=threading.Thread(target=cube,args=(arr,))\n",
    "\n",
    "t=time.time()\n",
    "\n",
    "\n",
    "t1.start()\n",
    "t2.start()\n",
    "\n",
    "t1.join()\n",
    "t2.join()\n",
    "\n",
    "print(f\"successfully printed in {time.time()-t} seconds\")\n",
    "\n",
    "    "
   ]
  },
  {
   "cell_type": "code",
   "execution_count": null,
   "id": "8910c47b",
   "metadata": {},
   "outputs": [],
   "source": []
  },
  {
   "cell_type": "code",
   "execution_count": 69,
   "id": "d53acf8e",
   "metadata": {},
   "outputs": [
    {
     "name": "stdout",
     "output_type": "stream",
     "text": [
      "square 4\n",
      "square 9\n",
      "square 16\n",
      "square 25\n",
      "cube 8\n",
      "cube 27\n",
      "cube 64\n",
      "cube 125\n",
      "successfully printed in 1.642639398574829 seconds\n"
     ]
    }
   ],
   "source": [
    "arr=[2,3,4,5]\n",
    "\n",
    "def square(n):\n",
    "    for i in n:\n",
    "        time.sleep(0.2)\n",
    "        print('square',i*i)\n",
    "    \n",
    "def cube(n):\n",
    "    for i in n:\n",
    "        time.sleep(0.2)\n",
    "        print('cube',i*i*i)\n",
    "        \n",
    "        \n",
    "t=time.time()\n",
    "\n",
    "a=square(arr)\n",
    "b=cube(arr)\n",
    "\n",
    "print(f\"successfully printed in {time.time()-t} seconds\")"
   ]
  },
  {
   "cell_type": "code",
   "execution_count": null,
   "id": "7c85b9db",
   "metadata": {},
   "outputs": [],
   "source": []
  },
  {
   "cell_type": "code",
   "execution_count": null,
   "id": "e3d0a32e",
   "metadata": {},
   "outputs": [],
   "source": []
  },
  {
   "cell_type": "markdown",
   "id": "82b791d9",
   "metadata": {},
   "source": [
    "# methods in threading"
   ]
  },
  {
   "cell_type": "code",
   "execution_count": 74,
   "id": "c38b0d27",
   "metadata": {},
   "outputs": [],
   "source": [
    "from threading import*\n",
    "import time"
   ]
  },
  {
   "cell_type": "code",
   "execution_count": 85,
   "id": "a59025fc",
   "metadata": {},
   "outputs": [],
   "source": [
    "# knowing about current thread and getting and setting name of current thread"
   ]
  },
  {
   "cell_type": "code",
   "execution_count": 78,
   "id": "c3aeee0b",
   "metadata": {
    "scrolled": true
   },
   "outputs": [
    {
     "data": {
      "text/plain": [
       "<_MainThread(MainThread, started 13648)>"
      ]
     },
     "execution_count": 78,
     "metadata": {},
     "output_type": "execute_result"
    }
   ],
   "source": [
    "current_thread()"
   ]
  },
  {
   "cell_type": "code",
   "execution_count": 80,
   "id": "a39171a6",
   "metadata": {},
   "outputs": [
    {
     "name": "stdout",
     "output_type": "stream",
     "text": [
      "MainThread\n"
     ]
    }
   ],
   "source": [
    "print(current_thread().getName())"
   ]
  },
  {
   "cell_type": "code",
   "execution_count": 81,
   "id": "88c33c1b",
   "metadata": {},
   "outputs": [],
   "source": [
    "current_thread().setName('ashish')"
   ]
  },
  {
   "cell_type": "code",
   "execution_count": 83,
   "id": "5f446257",
   "metadata": {},
   "outputs": [
    {
     "data": {
      "text/plain": [
       "<_MainThread(ashish, started 13648)>"
      ]
     },
     "execution_count": 83,
     "metadata": {},
     "output_type": "execute_result"
    }
   ],
   "source": [
    "current_thread()"
   ]
  },
  {
   "cell_type": "code",
   "execution_count": 84,
   "id": "45edb8e8",
   "metadata": {},
   "outputs": [
    {
     "data": {
      "text/plain": [
       "'ashish'"
      ]
     },
     "execution_count": 84,
     "metadata": {},
     "output_type": "execute_result"
    }
   ],
   "source": [
    "current_thread().getName()"
   ]
  },
  {
   "cell_type": "code",
   "execution_count": null,
   "id": "76fe38d0",
   "metadata": {},
   "outputs": [],
   "source": []
  },
  {
   "cell_type": "code",
   "execution_count": 86,
   "id": "12709a0b",
   "metadata": {},
   "outputs": [],
   "source": [
    "# identification number in thread"
   ]
  },
  {
   "cell_type": "code",
   "execution_count": 87,
   "id": "bb1cefb6",
   "metadata": {},
   "outputs": [
    {
     "data": {
      "text/plain": [
       "13648"
      ]
     },
     "execution_count": 87,
     "metadata": {},
     "output_type": "execute_result"
    }
   ],
   "source": [
    "current_thread().ident"
   ]
  },
  {
   "cell_type": "code",
   "execution_count": 90,
   "id": "f0adc460",
   "metadata": {},
   "outputs": [
    {
     "name": "stdout",
     "output_type": "stream",
     "text": [
      "hello\n",
      "10644\n"
     ]
    }
   ],
   "source": [
    "def test():\n",
    "    print(\"hello\")\n",
    "    \n",
    "t=Thread(target=test)\n",
    "t.start() # ----> this will print call test and 'hello'\n",
    "\n",
    "print(t.ident) "
   ]
  },
  {
   "cell_type": "code",
   "execution_count": null,
   "id": "072a57ef",
   "metadata": {},
   "outputs": [],
   "source": []
  },
  {
   "cell_type": "code",
   "execution_count": null,
   "id": "32f6755f",
   "metadata": {},
   "outputs": [],
   "source": [
    "# active_count() --> no. of threads active during the execution of program"
   ]
  },
  {
   "cell_type": "code",
   "execution_count": null,
   "id": "cfe778fd",
   "metadata": {},
   "outputs": [],
   "source": []
  },
  {
   "cell_type": "code",
   "execution_count": null,
   "id": "fdd0794b",
   "metadata": {},
   "outputs": [],
   "source": []
  },
  {
   "cell_type": "code",
   "execution_count": null,
   "id": "96324c6b",
   "metadata": {},
   "outputs": [],
   "source": [
    "\n",
    "\n",
    "    \n"
   ]
  },
  {
   "cell_type": "code",
   "execution_count": null,
   "id": "eed276d5",
   "metadata": {},
   "outputs": [],
   "source": []
  },
  {
   "cell_type": "code",
   "execution_count": null,
   "id": "96db3fe2",
   "metadata": {},
   "outputs": [],
   "source": []
  },
  {
   "cell_type": "code",
   "execution_count": null,
   "id": "8a6545fc",
   "metadata": {},
   "outputs": [],
   "source": []
  },
  {
   "cell_type": "code",
   "execution_count": null,
   "id": "ca55c5ac",
   "metadata": {},
   "outputs": [],
   "source": []
  },
  {
   "cell_type": "code",
   "execution_count": null,
   "id": "1ab3dcf0",
   "metadata": {},
   "outputs": [],
   "source": []
  },
  {
   "cell_type": "code",
   "execution_count": null,
   "id": "bb76e3c3",
   "metadata": {},
   "outputs": [],
   "source": []
  },
  {
   "cell_type": "code",
   "execution_count": null,
   "id": "dfc888ae",
   "metadata": {},
   "outputs": [],
   "source": []
  },
  {
   "cell_type": "code",
   "execution_count": null,
   "id": "143476f7",
   "metadata": {},
   "outputs": [],
   "source": []
  },
  {
   "cell_type": "code",
   "execution_count": null,
   "id": "a8973026",
   "metadata": {},
   "outputs": [],
   "source": []
  },
  {
   "cell_type": "code",
   "execution_count": null,
   "id": "d4d2457a",
   "metadata": {},
   "outputs": [],
   "source": []
  },
  {
   "cell_type": "code",
   "execution_count": null,
   "id": "c2f3f666",
   "metadata": {},
   "outputs": [],
   "source": []
  },
  {
   "cell_type": "code",
   "execution_count": null,
   "id": "93ac310b",
   "metadata": {},
   "outputs": [],
   "source": []
  },
  {
   "cell_type": "code",
   "execution_count": null,
   "id": "128de344",
   "metadata": {},
   "outputs": [],
   "source": []
  },
  {
   "cell_type": "code",
   "execution_count": null,
   "id": "4352e9af",
   "metadata": {},
   "outputs": [],
   "source": []
  },
  {
   "cell_type": "code",
   "execution_count": null,
   "id": "569548bc",
   "metadata": {},
   "outputs": [],
   "source": []
  },
  {
   "cell_type": "code",
   "execution_count": null,
   "id": "629565d1",
   "metadata": {},
   "outputs": [],
   "source": []
  },
  {
   "cell_type": "code",
   "execution_count": null,
   "id": "31b3e44f",
   "metadata": {},
   "outputs": [],
   "source": []
  },
  {
   "cell_type": "code",
   "execution_count": null,
   "id": "0231a622",
   "metadata": {},
   "outputs": [],
   "source": []
  },
  {
   "cell_type": "code",
   "execution_count": null,
   "id": "82c0ba87",
   "metadata": {},
   "outputs": [],
   "source": []
  },
  {
   "cell_type": "code",
   "execution_count": null,
   "id": "33b53eaa",
   "metadata": {},
   "outputs": [],
   "source": []
  },
  {
   "cell_type": "code",
   "execution_count": null,
   "id": "a3ddbb81",
   "metadata": {},
   "outputs": [],
   "source": []
  },
  {
   "cell_type": "code",
   "execution_count": null,
   "id": "81a4a3ef",
   "metadata": {},
   "outputs": [],
   "source": []
  },
  {
   "cell_type": "code",
   "execution_count": null,
   "id": "1ea81056",
   "metadata": {},
   "outputs": [],
   "source": []
  },
  {
   "cell_type": "code",
   "execution_count": null,
   "id": "354e2733",
   "metadata": {},
   "outputs": [],
   "source": []
  },
  {
   "cell_type": "code",
   "execution_count": null,
   "id": "49d4617a",
   "metadata": {},
   "outputs": [],
   "source": []
  },
  {
   "cell_type": "code",
   "execution_count": null,
   "id": "28e49a37",
   "metadata": {},
   "outputs": [],
   "source": []
  },
  {
   "cell_type": "code",
   "execution_count": null,
   "id": "7ccc52a9",
   "metadata": {},
   "outputs": [],
   "source": []
  },
  {
   "cell_type": "code",
   "execution_count": null,
   "id": "559d1479",
   "metadata": {},
   "outputs": [],
   "source": []
  },
  {
   "cell_type": "code",
   "execution_count": null,
   "id": "84ec1a36",
   "metadata": {},
   "outputs": [],
   "source": []
  },
  {
   "cell_type": "code",
   "execution_count": null,
   "id": "1165b8d0",
   "metadata": {},
   "outputs": [],
   "source": []
  },
  {
   "cell_type": "code",
   "execution_count": null,
   "id": "a4e2e5a2",
   "metadata": {},
   "outputs": [],
   "source": []
  },
  {
   "cell_type": "code",
   "execution_count": null,
   "id": "69292b5e",
   "metadata": {},
   "outputs": [],
   "source": []
  },
  {
   "cell_type": "code",
   "execution_count": null,
   "id": "0cd3ea34",
   "metadata": {},
   "outputs": [],
   "source": []
  },
  {
   "cell_type": "code",
   "execution_count": null,
   "id": "b86a399a",
   "metadata": {},
   "outputs": [],
   "source": []
  },
  {
   "cell_type": "code",
   "execution_count": null,
   "id": "b6b30c51",
   "metadata": {},
   "outputs": [],
   "source": []
  },
  {
   "cell_type": "code",
   "execution_count": null,
   "id": "e11c8c7e",
   "metadata": {},
   "outputs": [],
   "source": []
  },
  {
   "cell_type": "code",
   "execution_count": null,
   "id": "925405ba",
   "metadata": {},
   "outputs": [],
   "source": []
  },
  {
   "cell_type": "code",
   "execution_count": null,
   "id": "364268c8",
   "metadata": {},
   "outputs": [],
   "source": []
  },
  {
   "cell_type": "code",
   "execution_count": null,
   "id": "9b474ecb",
   "metadata": {},
   "outputs": [],
   "source": []
  },
  {
   "cell_type": "code",
   "execution_count": null,
   "id": "5acb0947",
   "metadata": {},
   "outputs": [],
   "source": []
  },
  {
   "cell_type": "code",
   "execution_count": null,
   "id": "78e750ec",
   "metadata": {},
   "outputs": [],
   "source": []
  },
  {
   "cell_type": "code",
   "execution_count": null,
   "id": "1580ecf4",
   "metadata": {},
   "outputs": [],
   "source": []
  },
  {
   "cell_type": "code",
   "execution_count": null,
   "id": "b6bada42",
   "metadata": {},
   "outputs": [],
   "source": []
  },
  {
   "cell_type": "code",
   "execution_count": null,
   "id": "f04147dc",
   "metadata": {},
   "outputs": [],
   "source": []
  },
  {
   "cell_type": "code",
   "execution_count": null,
   "id": "a33170b2",
   "metadata": {},
   "outputs": [],
   "source": []
  },
  {
   "cell_type": "code",
   "execution_count": null,
   "id": "3c82f89a",
   "metadata": {},
   "outputs": [],
   "source": []
  },
  {
   "cell_type": "code",
   "execution_count": null,
   "id": "8649f461",
   "metadata": {},
   "outputs": [],
   "source": []
  }
 ],
 "metadata": {
  "kernelspec": {
   "display_name": "Python 3 (ipykernel)",
   "language": "python",
   "name": "python3"
  },
  "language_info": {
   "codemirror_mode": {
    "name": "ipython",
    "version": 3
   },
   "file_extension": ".py",
   "mimetype": "text/x-python",
   "name": "python",
   "nbconvert_exporter": "python",
   "pygments_lexer": "ipython3",
   "version": "3.8.10"
  }
 },
 "nbformat": 4,
 "nbformat_minor": 5
}
