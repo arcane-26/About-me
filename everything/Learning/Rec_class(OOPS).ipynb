{
 "cells": [
  {
   "cell_type": "code",
   "execution_count": 1,
   "id": "1f851596",
   "metadata": {},
   "outputs": [],
   "source": [
    "a=1"
   ]
  },
  {
   "cell_type": "code",
   "execution_count": 2,
   "id": "07e5223e",
   "metadata": {},
   "outputs": [
    {
     "name": "stdout",
     "output_type": "stream",
     "text": [
      "<class 'int'>\n"
     ]
    }
   ],
   "source": [
    "print(type(a))"
   ]
  },
  {
   "cell_type": "code",
   "execution_count": 3,
   "id": "029e1acb",
   "metadata": {},
   "outputs": [
    {
     "name": "stdout",
     "output_type": "stream",
     "text": [
      "<class 'str'>\n"
     ]
    }
   ],
   "source": [
    "print(type(\"pwskills\"))"
   ]
  },
  {
   "cell_type": "code",
   "execution_count": 5,
   "id": "9b54db48",
   "metadata": {},
   "outputs": [
    {
     "ename": "SyntaxError",
     "evalue": "unexpected EOF while parsing (1236307212.py, line 2)",
     "output_type": "error",
     "traceback": [
      "\u001b[1;36m  Cell \u001b[1;32mIn[5], line 2\u001b[1;36m\u001b[0m\n\u001b[1;33m    \u001b[0m\n\u001b[1;37m    ^\u001b[0m\n\u001b[1;31mSyntaxError\u001b[0m\u001b[1;31m:\u001b[0m unexpected EOF while parsing\n"
     ]
    }
   ],
   "source": [
    "class test:\n",
    "    "
   ]
  },
  {
   "cell_type": "code",
   "execution_count": 6,
   "id": "e12394ce",
   "metadata": {},
   "outputs": [],
   "source": [
    "class test:\n",
    "    pass"
   ]
  },
  {
   "cell_type": "code",
   "execution_count": null,
   "id": "9cdeea82",
   "metadata": {},
   "outputs": [],
   "source": [
    "# above a blank class is created"
   ]
  },
  {
   "cell_type": "code",
   "execution_count": 7,
   "id": "a78b29ed",
   "metadata": {},
   "outputs": [],
   "source": [
    "a=test()"
   ]
  },
  {
   "cell_type": "code",
   "execution_count": 8,
   "id": "a8b5be79",
   "metadata": {},
   "outputs": [
    {
     "data": {
      "text/plain": [
       "__main__.test"
      ]
     },
     "execution_count": 8,
     "metadata": {},
     "output_type": "execute_result"
    }
   ],
   "source": [
    "type(a)"
   ]
  },
  {
   "cell_type": "code",
   "execution_count": 9,
   "id": "a7cb33a7",
   "metadata": {},
   "outputs": [
    {
     "name": "stdout",
     "output_type": "stream",
     "text": [
      "<class '__main__.test'>\n"
     ]
    }
   ],
   "source": [
    "print(type(a))"
   ]
  },
  {
   "cell_type": "code",
   "execution_count": null,
   "id": "96aeea99",
   "metadata": {},
   "outputs": [],
   "source": []
  },
  {
   "cell_type": "code",
   "execution_count": null,
   "id": "8e15b6a3",
   "metadata": {},
   "outputs": [],
   "source": []
  },
  {
   "cell_type": "code",
   "execution_count": 40,
   "id": "52ee6093",
   "metadata": {},
   "outputs": [],
   "source": [
    "class pwskills:\n",
    "    \n",
    "    def welcome():\n",
    "        print(\"welcome to pwskills\")"
   ]
  },
  {
   "cell_type": "code",
   "execution_count": 41,
   "id": "eff23bdd",
   "metadata": {},
   "outputs": [],
   "source": [
    "rohan=pwskills()"
   ]
  },
  {
   "cell_type": "code",
   "execution_count": 42,
   "id": "0d1f4238",
   "metadata": {},
   "outputs": [
    {
     "name": "stdout",
     "output_type": "stream",
     "text": [
      "<class '__main__.pwskills'>\n"
     ]
    }
   ],
   "source": [
    "print(type(rohan))"
   ]
  },
  {
   "cell_type": "code",
   "execution_count": 43,
   "id": "4bd31bab",
   "metadata": {},
   "outputs": [
    {
     "ename": "TypeError",
     "evalue": "welcome() takes 0 positional arguments but 1 was given",
     "output_type": "error",
     "traceback": [
      "\u001b[1;31m---------------------------------------------------------------------------\u001b[0m",
      "\u001b[1;31mTypeError\u001b[0m                                 Traceback (most recent call last)",
      "Cell \u001b[1;32mIn[43], line 1\u001b[0m\n\u001b[1;32m----> 1\u001b[0m \u001b[43mrohan\u001b[49m\u001b[38;5;241;43m.\u001b[39;49m\u001b[43mwelcome\u001b[49m\u001b[43m(\u001b[49m\u001b[43m)\u001b[49m\n",
      "\u001b[1;31mTypeError\u001b[0m: welcome() takes 0 positional arguments but 1 was given"
     ]
    }
   ],
   "source": [
    "rohan.welcome()"
   ]
  },
  {
   "cell_type": "code",
   "execution_count": null,
   "id": "24e0feb1",
   "metadata": {},
   "outputs": [],
   "source": []
  },
  {
   "cell_type": "code",
   "execution_count": null,
   "id": "846f4439",
   "metadata": {},
   "outputs": [],
   "source": [
    "# we can see nothing was passed as argument in rohan.welcomemsg() but still we got Type error that 1 positional argument was\n",
    "# given\n",
    "\n",
    "\n",
    "# to avoid this error we have bind welcomemsg() function with its class\n",
    "# in order to do that we can simply pass paramenter \"self\" "
   ]
  },
  {
   "cell_type": "code",
   "execution_count": 31,
   "id": "f6bb673b",
   "metadata": {},
   "outputs": [],
   "source": [
    "class pwskills:\n",
    "    \n",
    "    def welcome(self):\n",
    "        print(\"welcome to pwskills\")"
   ]
  },
  {
   "cell_type": "code",
   "execution_count": 32,
   "id": "fdf8b60b",
   "metadata": {},
   "outputs": [],
   "source": [
    "a=pwskills()"
   ]
  },
  {
   "cell_type": "code",
   "execution_count": 33,
   "id": "a4e33755",
   "metadata": {},
   "outputs": [
    {
     "name": "stdout",
     "output_type": "stream",
     "text": [
      "<class '__main__.pwskills'>\n"
     ]
    }
   ],
   "source": [
    "print(type(a))"
   ]
  },
  {
   "cell_type": "code",
   "execution_count": 36,
   "id": "34084d92",
   "metadata": {},
   "outputs": [
    {
     "name": "stdout",
     "output_type": "stream",
     "text": [
      "welcome to pwskills\n"
     ]
    }
   ],
   "source": [
    "a.welcome()"
   ]
  },
  {
   "cell_type": "code",
   "execution_count": 37,
   "id": "7a1116cf",
   "metadata": {},
   "outputs": [],
   "source": [
    "# now we can see that no error is shown"
   ]
  },
  {
   "cell_type": "code",
   "execution_count": null,
   "id": "28b575f3",
   "metadata": {},
   "outputs": [],
   "source": []
  },
  {
   "cell_type": "code",
   "execution_count": 38,
   "id": "afbda8c3",
   "metadata": {},
   "outputs": [],
   "source": [
    "gaurav=pwskills()"
   ]
  },
  {
   "cell_type": "code",
   "execution_count": 39,
   "id": "82bb47e6",
   "metadata": {},
   "outputs": [
    {
     "name": "stdout",
     "output_type": "stream",
     "text": [
      "welcome to pwskills\n"
     ]
    }
   ],
   "source": [
    "gaurav.welcome()"
   ]
  },
  {
   "cell_type": "code",
   "execution_count": null,
   "id": "67e81cb1",
   "metadata": {},
   "outputs": [],
   "source": []
  },
  {
   "cell_type": "code",
   "execution_count": null,
   "id": "b7e180dd",
   "metadata": {},
   "outputs": [],
   "source": []
  },
  {
   "cell_type": "code",
   "execution_count": 44,
   "id": "3c926815",
   "metadata": {},
   "outputs": [],
   "source": [
    "class pwskills1:\n",
    "    def __init__(self,phone_num, email_id,student_id):\n",
    "        self.phone_num=phone_num\n",
    "        self.email_id=email_id\n",
    "        self.student_id=student_id\n",
    "        \n",
    "    def return_student_details(self):\n",
    "        return self.student_id,self.phone_num,self.email_id"
   ]
  },
  {
   "cell_type": "code",
   "execution_count": 45,
   "id": "c5dba114",
   "metadata": {},
   "outputs": [
    {
     "ename": "TypeError",
     "evalue": "__init__() missing 3 required positional arguments: 'phone_num', 'email_id', and 'student_id'",
     "output_type": "error",
     "traceback": [
      "\u001b[1;31m---------------------------------------------------------------------------\u001b[0m",
      "\u001b[1;31mTypeError\u001b[0m                                 Traceback (most recent call last)",
      "Cell \u001b[1;32mIn[45], line 1\u001b[0m\n\u001b[1;32m----> 1\u001b[0m ashish\u001b[38;5;241m=\u001b[39m\u001b[43mpwskills1\u001b[49m\u001b[43m(\u001b[49m\u001b[43m)\u001b[49m\n",
      "\u001b[1;31mTypeError\u001b[0m: __init__() missing 3 required positional arguments: 'phone_num', 'email_id', and 'student_id'"
     ]
    }
   ],
   "source": [
    "ashish=pwskills1()"
   ]
  },
  {
   "cell_type": "code",
   "execution_count": null,
   "id": "c2af76b5",
   "metadata": {},
   "outputs": [],
   "source": []
  },
  {
   "cell_type": "code",
   "execution_count": 48,
   "id": "a4505e37",
   "metadata": {},
   "outputs": [],
   "source": [
    "ashish=pwskills1(9370766492,\"ak8382780@gmail.com\",19154006)"
   ]
  },
  {
   "cell_type": "code",
   "execution_count": 49,
   "id": "ac7a19b9",
   "metadata": {},
   "outputs": [
    {
     "data": {
      "text/plain": [
       "(19154006, 9370766492, 'ak8382780@gmail.com')"
      ]
     },
     "execution_count": 49,
     "metadata": {},
     "output_type": "execute_result"
    }
   ],
   "source": [
    "ashish.return_student_details()"
   ]
  },
  {
   "cell_type": "code",
   "execution_count": null,
   "id": "6d63ec0d",
   "metadata": {},
   "outputs": [],
   "source": []
  },
  {
   "cell_type": "code",
   "execution_count": 50,
   "id": "f77b7e61",
   "metadata": {},
   "outputs": [],
   "source": [
    "pabitra=pwskills1(8803107892,\"pabit8280@gmail.com\",19154030)"
   ]
  },
  {
   "cell_type": "code",
   "execution_count": 51,
   "id": "51a8b016",
   "metadata": {},
   "outputs": [
    {
     "data": {
      "text/plain": [
       "(19154030, 8803107892, 'pabit8280@gmail.com')"
      ]
     },
     "execution_count": 51,
     "metadata": {},
     "output_type": "execute_result"
    }
   ],
   "source": [
    "pabitra.return_student_details()"
   ]
  },
  {
   "cell_type": "code",
   "execution_count": 52,
   "id": "7e1389b3",
   "metadata": {},
   "outputs": [
    {
     "data": {
      "text/plain": [
       "8803107892"
      ]
     },
     "execution_count": 52,
     "metadata": {},
     "output_type": "execute_result"
    }
   ],
   "source": [
    "pabitra.phone_num"
   ]
  },
  {
   "cell_type": "code",
   "execution_count": null,
   "id": "75841e2b",
   "metadata": {},
   "outputs": [],
   "source": []
  },
  {
   "cell_type": "code",
   "execution_count": null,
   "id": "cc574787",
   "metadata": {},
   "outputs": [],
   "source": []
  },
  {
   "cell_type": "code",
   "execution_count": null,
   "id": "a31bf6b7",
   "metadata": {},
   "outputs": [],
   "source": []
  },
  {
   "cell_type": "code",
   "execution_count": null,
   "id": "98fbf15b",
   "metadata": {},
   "outputs": [],
   "source": []
  },
  {
   "cell_type": "code",
   "execution_count": null,
   "id": "15ba1d58",
   "metadata": {},
   "outputs": [],
   "source": []
  },
  {
   "cell_type": "code",
   "execution_count": null,
   "id": "95fb95f0",
   "metadata": {},
   "outputs": [],
   "source": []
  },
  {
   "cell_type": "code",
   "execution_count": null,
   "id": "9a625dad",
   "metadata": {},
   "outputs": [],
   "source": []
  }
 ],
 "metadata": {
  "kernelspec": {
   "display_name": "Python 3 (ipykernel)",
   "language": "python",
   "name": "python3"
  },
  "language_info": {
   "codemirror_mode": {
    "name": "ipython",
    "version": 3
   },
   "file_extension": ".py",
   "mimetype": "text/x-python",
   "name": "python",
   "nbconvert_exporter": "python",
   "pygments_lexer": "ipython3",
   "version": "3.8.10"
  }
 },
 "nbformat": 4,
 "nbformat_minor": 5
}
