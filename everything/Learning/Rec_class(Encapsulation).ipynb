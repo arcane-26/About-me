{
 "cells": [
  {
   "cell_type": "code",
   "execution_count": 17,
   "id": "d21c3bcf",
   "metadata": {},
   "outputs": [],
   "source": [
    "class test:\n",
    "    def __init__(self,a,b):\n",
    "        self.a=a\n",
    "        self.b=b\n",
    "        \n",
    "        \n",
    "    \n",
    "        "
   ]
  },
  {
   "cell_type": "code",
   "execution_count": 18,
   "id": "742ceffa",
   "metadata": {},
   "outputs": [],
   "source": [
    "data=test(23,45)"
   ]
  },
  {
   "cell_type": "code",
   "execution_count": 19,
   "id": "b1762d47",
   "metadata": {},
   "outputs": [
    {
     "data": {
      "text/plain": [
       "23"
      ]
     },
     "execution_count": 19,
     "metadata": {},
     "output_type": "execute_result"
    }
   ],
   "source": [
    "data.a"
   ]
  },
  {
   "cell_type": "code",
   "execution_count": 20,
   "id": "68b6a468",
   "metadata": {},
   "outputs": [
    {
     "data": {
      "text/plain": [
       "45"
      ]
     },
     "execution_count": 20,
     "metadata": {},
     "output_type": "execute_result"
    }
   ],
   "source": [
    "data.b"
   ]
  },
  {
   "cell_type": "code",
   "execution_count": 21,
   "id": "5b884897",
   "metadata": {},
   "outputs": [],
   "source": [
    "data.a=4453"
   ]
  },
  {
   "cell_type": "code",
   "execution_count": 22,
   "id": "bab0c94c",
   "metadata": {},
   "outputs": [
    {
     "data": {
      "text/plain": [
       "4453"
      ]
     },
     "execution_count": 22,
     "metadata": {},
     "output_type": "execute_result"
    }
   ],
   "source": [
    "data.a"
   ]
  },
  {
   "cell_type": "code",
   "execution_count": null,
   "id": "28b610c4",
   "metadata": {},
   "outputs": [],
   "source": []
  },
  {
   "cell_type": "code",
   "execution_count": null,
   "id": "06f4a6be",
   "metadata": {},
   "outputs": [],
   "source": []
  },
  {
   "cell_type": "code",
   "execution_count": 53,
   "id": "c12d6d1c",
   "metadata": {},
   "outputs": [],
   "source": [
    "class car:\n",
    "    def __init__(self,model,avg):\n",
    "        self.__model=model\n",
    "        self.avg=avg\n",
    "        \n",
    "    def set_model(self,data):\n",
    "        self.__model=data if type(data)==str else print(\"no you cant change\")\n",
    "    def get_model(self):\n",
    "        return self.__model"
   ]
  },
  {
   "cell_type": "code",
   "execution_count": null,
   "id": "692ac7a7",
   "metadata": {},
   "outputs": [],
   "source": []
  },
  {
   "cell_type": "code",
   "execution_count": 54,
   "id": "d7fa9370",
   "metadata": {},
   "outputs": [],
   "source": [
    "d=car('innova',54)"
   ]
  },
  {
   "cell_type": "code",
   "execution_count": 55,
   "id": "48d0e07a",
   "metadata": {},
   "outputs": [
    {
     "data": {
      "text/plain": [
       "'innova'"
      ]
     },
     "execution_count": 55,
     "metadata": {},
     "output_type": "execute_result"
    }
   ],
   "source": [
    "d.get_model()"
   ]
  },
  {
   "cell_type": "code",
   "execution_count": 56,
   "id": "5eb5d9e9",
   "metadata": {},
   "outputs": [
    {
     "name": "stdout",
     "output_type": "stream",
     "text": [
      "no you cant change\n"
     ]
    }
   ],
   "source": [
    "d.set_model(10101)"
   ]
  },
  {
   "cell_type": "code",
   "execution_count": 52,
   "id": "bebbea7f",
   "metadata": {},
   "outputs": [
    {
     "data": {
      "text/plain": [
       "'innova'"
      ]
     },
     "execution_count": 52,
     "metadata": {},
     "output_type": "execute_result"
    }
   ],
   "source": [
    "d._car__model"
   ]
  },
  {
   "cell_type": "code",
   "execution_count": null,
   "id": "06906fde",
   "metadata": {},
   "outputs": [],
   "source": []
  },
  {
   "cell_type": "code",
   "execution_count": null,
   "id": "f5dc635c",
   "metadata": {},
   "outputs": [],
   "source": []
  },
  {
   "cell_type": "code",
   "execution_count": 74,
   "id": "8efe8bf8",
   "metadata": {},
   "outputs": [],
   "source": [
    "class bank:\n",
    "    \n",
    "    def __init__(self,balance):\n",
    "        self.__balance=balance\n",
    "        self.__num=23\n",
    "    \n",
    "    \n",
    "    def deposit(self,amount):\n",
    "        self.__balance+=amount\n",
    "        \n",
    "    def withdraw(self,amount):\n",
    "        if self.__balance>=amount:\n",
    "            self.__balance-=amount\n",
    "            return True\n",
    "        else:\n",
    "            return False\n",
    "    def check_balance(self):\n",
    "        return self.__balance"
   ]
  },
  {
   "cell_type": "code",
   "execution_count": 75,
   "id": "f1a51a0a",
   "metadata": {},
   "outputs": [],
   "source": [
    "s=bank(1200)"
   ]
  },
  {
   "cell_type": "code",
   "execution_count": 76,
   "id": "a31d45df",
   "metadata": {},
   "outputs": [],
   "source": [
    "s.deposit(400)"
   ]
  },
  {
   "cell_type": "code",
   "execution_count": 77,
   "id": "285c3b76",
   "metadata": {},
   "outputs": [
    {
     "data": {
      "text/plain": [
       "1600"
      ]
     },
     "execution_count": 77,
     "metadata": {},
     "output_type": "execute_result"
    }
   ],
   "source": [
    "s.check_balance()"
   ]
  },
  {
   "cell_type": "code",
   "execution_count": 78,
   "id": "24d75274",
   "metadata": {},
   "outputs": [
    {
     "data": {
      "text/plain": [
       "True"
      ]
     },
     "execution_count": 78,
     "metadata": {},
     "output_type": "execute_result"
    }
   ],
   "source": [
    "s.withdraw(1239)"
   ]
  },
  {
   "cell_type": "code",
   "execution_count": 81,
   "id": "89aa3c8f",
   "metadata": {},
   "outputs": [],
   "source": [
    "s._bank__num=34"
   ]
  },
  {
   "cell_type": "code",
   "execution_count": 87,
   "id": "aa1fbc6a",
   "metadata": {},
   "outputs": [
    {
     "data": {
      "text/plain": [
       "34"
      ]
     },
     "execution_count": 87,
     "metadata": {},
     "output_type": "execute_result"
    }
   ],
   "source": [
    "s._bank__num"
   ]
  },
  {
   "cell_type": "code",
   "execution_count": 83,
   "id": "bf64645a",
   "metadata": {},
   "outputs": [],
   "source": [
    "t=bank(2300)"
   ]
  },
  {
   "cell_type": "code",
   "execution_count": 85,
   "id": "7dd0c693",
   "metadata": {},
   "outputs": [
    {
     "data": {
      "text/plain": [
       "23"
      ]
     },
     "execution_count": 85,
     "metadata": {},
     "output_type": "execute_result"
    }
   ],
   "source": [
    "t._bank__num"
   ]
  },
  {
   "cell_type": "code",
   "execution_count": null,
   "id": "db6b94eb",
   "metadata": {},
   "outputs": [],
   "source": []
  }
 ],
 "metadata": {
  "kernelspec": {
   "display_name": "Python 3 (ipykernel)",
   "language": "python",
   "name": "python3"
  },
  "language_info": {
   "codemirror_mode": {
    "name": "ipython",
    "version": 3
   },
   "file_extension": ".py",
   "mimetype": "text/x-python",
   "name": "python",
   "nbconvert_exporter": "python",
   "pygments_lexer": "ipython3",
   "version": "3.8.10"
  }
 },
 "nbformat": 4,
 "nbformat_minor": 5
}
