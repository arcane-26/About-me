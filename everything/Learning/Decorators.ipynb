{
 "cells": [
  {
   "cell_type": "markdown",
   "id": "14dea4e6",
   "metadata": {},
   "source": [
    "# decorator"
   ]
  },
  {
   "cell_type": "markdown",
   "id": "de10cd54",
   "metadata": {},
   "source": [
    "Decorator is a function which recieves another function as an input and add some extra functionallity(decoration) to it and returns it\n",
    "\n",
    "The only reason decorators works in python because python functions are **first class citizen**"
   ]
  },
  {
   "cell_type": "markdown",
   "id": "94d4289b",
   "metadata": {},
   "source": [
    "python function are firstclass citizens --- this means that \n",
    "\n",
    " fuction in python can be treated like any other object \n",
    " * it can be assigned to a variable\n",
    " * it can be stored in list,tuples,variable....etc\n",
    " * it can be returned as result from another function\n",
    " * it can be passed as an argument to another function"
   ]
  },
  {
   "cell_type": "code",
   "execution_count": 3,
   "id": "ad8bcee7",
   "metadata": {},
   "outputs": [],
   "source": [
    "# example displaying python function as first class citzen"
   ]
  },
  {
   "cell_type": "code",
   "execution_count": 8,
   "id": "cc7c511b",
   "metadata": {},
   "outputs": [],
   "source": [
    "#example 1\n",
    "\n",
    "def modify(fun,n):\n",
    "    return fun(n)\n",
    "\n",
    "def square(num):\n",
    "    return num**2\n",
    "\n",
    "\n",
    "a=modify(square,5)"
   ]
  },
  {
   "cell_type": "code",
   "execution_count": 9,
   "id": "92a5f890",
   "metadata": {},
   "outputs": [
    {
     "data": {
      "text/plain": [
       "25"
      ]
     },
     "execution_count": 9,
     "metadata": {},
     "output_type": "execute_result"
    }
   ],
   "source": [
    "a"
   ]
  },
  {
   "cell_type": "code",
   "execution_count": null,
   "id": "43554fb4",
   "metadata": {},
   "outputs": [],
   "source": []
  },
  {
   "cell_type": "code",
   "execution_count": 10,
   "id": "7c63af3d",
   "metadata": {},
   "outputs": [
    {
     "data": {
      "text/plain": [
       "2"
      ]
     },
     "execution_count": 10,
     "metadata": {},
     "output_type": "execute_result"
    }
   ],
   "source": [
    "#example 2\n",
    "\n",
    "def func():\n",
    "    return 2\n",
    "\n",
    "a=func\n",
    "a()"
   ]
  },
  {
   "cell_type": "code",
   "execution_count": null,
   "id": "8bca28dd",
   "metadata": {},
   "outputs": [],
   "source": []
  },
  {
   "cell_type": "code",
   "execution_count": null,
   "id": "b6f4721c",
   "metadata": {},
   "outputs": [],
   "source": []
  },
  {
   "cell_type": "code",
   "execution_count": null,
   "id": "3b54682a",
   "metadata": {},
   "outputs": [],
   "source": []
  },
  {
   "cell_type": "code",
   "execution_count": null,
   "id": "abe3e8cc",
   "metadata": {},
   "outputs": [],
   "source": []
  },
  {
   "cell_type": "markdown",
   "id": "c596aaad",
   "metadata": {},
   "source": [
    " decorators name starts with '@' symbol\n",
    " \n",
    " There are two type of decorators \n",
    " * Builtin decorators         ----->ex -  @staticmethod , @abstractclass , @abstractmethod , @property....etc\n",
    " * user defined decorators "
   ]
  },
  {
   "cell_type": "code",
   "execution_count": null,
   "id": "d3bf5198",
   "metadata": {},
   "outputs": [],
   "source": []
  },
  {
   "cell_type": "code",
   "execution_count": 11,
   "id": "a79b2a3f",
   "metadata": {},
   "outputs": [],
   "source": [
    "# example of decorator"
   ]
  },
  {
   "cell_type": "code",
   "execution_count": 12,
   "id": "24309864",
   "metadata": {},
   "outputs": [
    {
     "name": "stdout",
     "output_type": "stream",
     "text": [
      "_____________\n",
      "hello\n",
      "_____________\n"
     ]
    }
   ],
   "source": [
    "def decorator(func):\n",
    "    def wrapper():\n",
    "        print(\"_____________\")\n",
    "        func()\n",
    "        print(\"_____________\")\n",
    "        \n",
    "    return wrapper\n",
    "\n",
    "\n",
    "def display():\n",
    "    print(\"hello\")\n",
    "    \n",
    "a=decorator(display)\n",
    "a()"
   ]
  },
  {
   "cell_type": "code",
   "execution_count": null,
   "id": "762c207c",
   "metadata": {},
   "outputs": [],
   "source": []
  },
  {
   "cell_type": "markdown",
   "id": "1dd1a29b",
   "metadata": {},
   "source": [
    "Basically decorator is based on the concept of CLOSURE in python , which says even if the outer fuction has done its work and got erased from the memory still its parameters can be accessed by inner function"
   ]
  },
  {
   "cell_type": "code",
   "execution_count": null,
   "id": "abef262d",
   "metadata": {},
   "outputs": [],
   "source": []
  },
  {
   "attachments": {
    "image.png": {
     "image/png": "[encoded data removed]"
    }
   },
   "cell_type": "markdown",
   "id": "af7d2fbe",
   "metadata": {},
   "source": [
    "![image.png](attachment:image.png)"
   ]
  },
  {
   "cell_type": "code",
   "execution_count": 14,
   "id": "bb140a76",
   "metadata": {},
   "outputs": [],
   "source": [
    "#above we can see that we are writing too much of code and this is causing inconvienence, we can avodi this "
   ]
  },
  {
   "cell_type": "code",
   "execution_count": null,
   "id": "b85d7a4b",
   "metadata": {},
   "outputs": [],
   "source": []
  },
  {
   "cell_type": "code",
   "execution_count": 23,
   "id": "aafb4c3d",
   "metadata": {},
   "outputs": [
    {
     "name": "stdout",
     "output_type": "stream",
     "text": [
      "_________\n",
      "hello\n",
      "_________\n"
     ]
    }
   ],
   "source": [
    "def decorator(func):\n",
    "    def wrapper():\n",
    "        print(\"_________\")\n",
    "        func()\n",
    "        print(\"_________\")\n",
    "    return wrapper\n",
    "\n",
    "@decorator\n",
    "def display():\n",
    "    print(\"hello\")\n",
    "    \n",
    " b \n",
    "   \n",
    "display()\n"
   ]
  },
  {
   "cell_type": "code",
   "execution_count": null,
   "id": "ab1b8cf2",
   "metadata": {},
   "outputs": [],
   "source": []
  },
  {
   "cell_type": "code",
   "execution_count": null,
   "id": "db5fbd51",
   "metadata": {},
   "outputs": [],
   "source": []
  },
  {
   "cell_type": "code",
   "execution_count": 30,
   "id": "d1527c3c",
   "metadata": {},
   "outputs": [
    {
     "ename": "TypeError",
     "evalue": "wrapper() takes 0 positional arguments but 1 was given",
     "output_type": "error",
     "traceback": [
      "\u001b[1;31m---------------------------------------------------------------------------\u001b[0m",
      "\u001b[1;31mTypeError\u001b[0m                                 Traceback (most recent call last)",
      "Cell \u001b[1;32mIn[30], line 13\u001b[0m\n\u001b[0;32m      8\u001b[0m \u001b[38;5;129m@something\u001b[39m\n\u001b[0;32m      9\u001b[0m \u001b[38;5;28;01mdef\u001b[39;00m \u001b[38;5;21msq\u001b[39m(num):\n\u001b[0;32m     10\u001b[0m     \u001b[38;5;28mprint\u001b[39m(num\u001b[38;5;241m*\u001b[39m\u001b[38;5;241m*\u001b[39m\u001b[38;5;241m2\u001b[39m)\n\u001b[1;32m---> 13\u001b[0m \u001b[43msq\u001b[49m\u001b[43m(\u001b[49m\u001b[38;5;241;43m2\u001b[39;49m\u001b[43m)\u001b[49m\n",
      "\u001b[1;31mTypeError\u001b[0m: wrapper() takes 0 positional arguments but 1 was given"
     ]
    }
   ],
   "source": [
    "def something(func):\n",
    "    def wrapper():\n",
    "        print(\"::::::::::\")\n",
    "        func()\n",
    "        print(\"::::::::::\")\n",
    "    return wrapper\n",
    "\n",
    "@something\n",
    "def sq(num):\n",
    "    print(num**2)\n",
    "    \n",
    "\n",
    "sq(2)\n"
   ]
  },
  {
   "cell_type": "markdown",
   "id": "3ce5ea7e",
   "metadata": {},
   "source": [
    "when we apply the decorator to the \"sq fun\" we can se that this func. has input,  so when we pass this fun to the something\n",
    "decorator and inside it we define another function we have to pass *args to inside fuction so that it should consider the \n",
    "\"sq fun\" input parameter. This is the only way something decorator will work or else it will fail "
   ]
  },
  {
   "cell_type": "code",
   "execution_count": null,
   "id": "51384c10",
   "metadata": {},
   "outputs": [],
   "source": []
  },
  {
   "cell_type": "code",
   "execution_count": 27,
   "id": "67f382da",
   "metadata": {},
   "outputs": [
    {
     "name": "stdout",
     "output_type": "stream",
     "text": [
      "::::::::::::::\n",
      "4\n",
      "::::::::::::::\n"
     ]
    }
   ],
   "source": [
    "def something(func):\n",
    "    def wrapper(*args):\n",
    "        print(\"::::::::::::::\")\n",
    "        func(*args)\n",
    "        print(\"::::::::::::::\")\n",
    "        \n",
    "    return wrapper\n",
    "\n",
    "@something\n",
    "def sq(num):\n",
    "    print (num**2)\n",
    "    \n",
    "\n",
    "sq(2)"
   ]
  },
  {
   "cell_type": "code",
   "execution_count": null,
   "id": "10a37ab7",
   "metadata": {},
   "outputs": [],
   "source": []
  },
  {
   "cell_type": "code",
   "execution_count": 33,
   "id": "64bd8bf7",
   "metadata": {},
   "outputs": [],
   "source": [
    "#providing input to decorator"
   ]
  },
  {
   "cell_type": "code",
   "execution_count": 38,
   "id": "24214233",
   "metadata": {},
   "outputs": [
    {
     "name": "stdout",
     "output_type": "stream",
     "text": [
      "4\n",
      "ashash\n"
     ]
    }
   ],
   "source": [
    "def check(d_type):\n",
    "    def parse(func):\n",
    "        def wrapper(*args):\n",
    "            if type(*args)==d_type:\n",
    "                func(*args)\n",
    "            else:\n",
    "                raise TypeError('invalid')\n",
    "        return wrapper\n",
    "    return parse\n",
    "\n",
    "\n",
    "@check(int)\n",
    "def sq(num):\n",
    "    print(num**2)\n",
    "    \n",
    "@check(str)\n",
    "def concat(d):\n",
    "    print(d+d)\n",
    "\n",
    "sq(2)\n",
    "concat(\"ash\")"
   ]
  },
  {
   "cell_type": "code",
   "execution_count": null,
   "id": "19cbb732",
   "metadata": {},
   "outputs": [],
   "source": []
  },
  {
   "cell_type": "code",
   "execution_count": null,
   "id": "68c2f313",
   "metadata": {},
   "outputs": [],
   "source": []
  },
  {
   "cell_type": "code",
   "execution_count": 23,
   "id": "78102952",
   "metadata": {},
   "outputs": [
    {
     "name": "stdout",
     "output_type": "stream",
     "text": [
      "16\n",
      "executed in  0.0  seconds\n"
     ]
    }
   ],
   "source": [
    "import time\n",
    "\n",
    "def something(fun):\n",
    "    def inside(*args):\n",
    "        start=time.time()\n",
    "        fun(*args)\n",
    "        end=time.time()\n",
    "        print(\"executed in \",end-start,\" seconds\")\n",
    "        \n",
    "    return inside\n",
    "\n",
    "@something\n",
    "def square(n):\n",
    "    print(n**2)\n",
    "    \n",
    "    \n",
    "square(4)"
   ]
  },
  {
   "cell_type": "code",
   "execution_count": null,
   "id": "7a8cad4e",
   "metadata": {},
   "outputs": [],
   "source": []
  },
  {
   "cell_type": "code",
   "execution_count": null,
   "id": "3a6e8a4f",
   "metadata": {},
   "outputs": [],
   "source": [
    "@something\n",
    "def display():\n",
    "    for i in range(1000000000000):\n",
    "        pass\n",
    "        \n",
    "display()"
   ]
  },
  {
   "cell_type": "code",
   "execution_count": null,
   "id": "caabf60c",
   "metadata": {},
   "outputs": [],
   "source": []
  }
 ],
 "metadata": {
  "kernelspec": {
   "display_name": "Python 3 (ipykernel)",
   "language": "python",
   "name": "python3"
  },
  "language_info": {
   "codemirror_mode": {
    "name": "ipython",
    "version": 3
   },
   "file_extension": ".py",
   "mimetype": "text/x-python",
   "name": "python",
   "nbconvert_exporter": "python",
   "pygments_lexer": "ipython3",
   "version": "3.8.10"
  }
 },
 "nbformat": 4,
 "nbformat_minor": 5
}
