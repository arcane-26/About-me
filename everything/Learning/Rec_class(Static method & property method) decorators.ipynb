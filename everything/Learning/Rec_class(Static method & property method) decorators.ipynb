{
 "cells": [
  {
   "cell_type": "markdown",
   "id": "bc463e94",
   "metadata": {},
   "source": [
    "static methods are those methods which don't require instance of object to call.\n",
    "\n",
    "we use static methods as utilites because we dont want to create various instances of object to call a particular method the class\n"
   ]
  },
  {
   "cell_type": "code",
   "execution_count": null,
   "id": "14c8df4d",
   "metadata": {},
   "outputs": [],
   "source": []
  },
  {
   "cell_type": "code",
   "execution_count": 48,
   "id": "8d83a9bc",
   "metadata": {},
   "outputs": [],
   "source": [
    "class human:\n",
    "    def __init__(self,name,age):\n",
    "        self.name=name\n",
    "        self.age=age\n",
    "    \n",
    "    def details_of_human(self):\n",
    "        print(self.name,self.age)\n",
    "        \n",
    "    @staticmethod  \n",
    "    def name(n):\n",
    "        print(\"name is\",n)"
   ]
  },
  {
   "cell_type": "code",
   "execution_count": null,
   "id": "ff97d199",
   "metadata": {},
   "outputs": [],
   "source": []
  },
  {
   "cell_type": "code",
   "execution_count": 49,
   "id": "7f2c4b6c",
   "metadata": {},
   "outputs": [],
   "source": [
    "h=human(\"ashish\",23)"
   ]
  },
  {
   "cell_type": "code",
   "execution_count": 50,
   "id": "5e07cc3f",
   "metadata": {},
   "outputs": [
    {
     "name": "stdout",
     "output_type": "stream",
     "text": [
      "ashish 23\n"
     ]
    }
   ],
   "source": [
    "h.details_of_human()"
   ]
  },
  {
   "cell_type": "code",
   "execution_count": 51,
   "id": "ac6d462a",
   "metadata": {},
   "outputs": [],
   "source": [
    "# while observing code inside human class we can see that the weight method does't contain \"self\" as parameter but we can\n",
    "# still able to print it with the help of object created from the class , this is because we used decorator @staticmethod we \n",
    "# made weigth method generic and we dont need to pass the instance of the object, we can use with object in any way we want"
   ]
  },
  {
   "cell_type": "code",
   "execution_count": 52,
   "id": "de466e46",
   "metadata": {},
   "outputs": [
    {
     "name": "stdout",
     "output_type": "stream",
     "text": [
      "name is ashish\n"
     ]
    }
   ],
   "source": [
    "human.name(\"ashish\")"
   ]
  },
  {
   "cell_type": "code",
   "execution_count": 53,
   "id": "d1fc9b1a",
   "metadata": {},
   "outputs": [],
   "source": [
    "# we can also access it using class name"
   ]
  },
  {
   "cell_type": "code",
   "execution_count": null,
   "id": "0ebdb079",
   "metadata": {},
   "outputs": [],
   "source": []
  },
  {
   "cell_type": "code",
   "execution_count": 54,
   "id": "4a2ce13e",
   "metadata": {},
   "outputs": [],
   "source": [
    "# the main point to notice is that if we create 'n' number of the object of the class it will initate 'n' times its instance\n",
    "# method and the constructor of the class so,we want to avoid this in order to save memory, so we use static methods\n",
    "\n",
    "\n",
    "# class human:\n",
    "#     def __init__(self,name,age):\n",
    "#         self.name=name\n",
    "#         self.age=age\n",
    "    \n",
    "#     def details_of_human(self):\n",
    "#         print(self.name,self.age)\n",
    "        \n",
    "#     @staticmethod  \n",
    "#     def name(n):\n",
    "#         print(\"name is\" ,n)\n",
    "\n",
    "\n",
    "\n",
    "\n",
    "# a=human()\n",
    "# b=human()\n",
    "# c=human()\n",
    "# .\n",
    "# .\n",
    "# .\n",
    "# .\n",
    "# .\n",
    "# .\n",
    "# etc"
   ]
  },
  {
   "cell_type": "code",
   "execution_count": 55,
   "id": "148f61dc",
   "metadata": {},
   "outputs": [],
   "source": [
    "# here comes the use of static method -----> we dont have to create various object "
   ]
  },
  {
   "cell_type": "code",
   "execution_count": 56,
   "id": "f2534c13",
   "metadata": {},
   "outputs": [
    {
     "name": "stdout",
     "output_type": "stream",
     "text": [
      "name is samir\n",
      "name is vishal\n",
      "name is vivek\n",
      "name is santosh\n"
     ]
    }
   ],
   "source": [
    "human.name(\"samir\")\n",
    "human.name(\"vishal\")\n",
    "human.name(\"vivek\")\n",
    "human.name(\"santosh\")"
   ]
  },
  {
   "cell_type": "code",
   "execution_count": null,
   "id": "55122295",
   "metadata": {},
   "outputs": [],
   "source": []
  },
  {
   "cell_type": "code",
   "execution_count": null,
   "id": "8ec52bc5",
   "metadata": {},
   "outputs": [],
   "source": []
  },
  {
   "cell_type": "code",
   "execution_count": null,
   "id": "5527f529",
   "metadata": {},
   "outputs": [],
   "source": []
  },
  {
   "cell_type": "code",
   "execution_count": null,
   "id": "8fe3c606",
   "metadata": {},
   "outputs": [],
   "source": []
  },
  {
   "cell_type": "code",
   "execution_count": null,
   "id": "57aba810",
   "metadata": {},
   "outputs": [],
   "source": []
  },
  {
   "cell_type": "markdown",
   "id": "9931d16d",
   "metadata": {},
   "source": [
    "# property method decorator"
   ]
  },
  {
   "cell_type": "code",
   "execution_count": 57,
   "id": "c2e5ee1d",
   "metadata": {},
   "outputs": [],
   "source": [
    "# property method decorator use to get and set the private and protected attributes of the class"
   ]
  },
  {
   "cell_type": "code",
   "execution_count": null,
   "id": "28e4ac09",
   "metadata": {},
   "outputs": [],
   "source": []
  },
  {
   "cell_type": "code",
   "execution_count": null,
   "id": "d3e98735",
   "metadata": {},
   "outputs": [],
   "source": []
  },
  {
   "cell_type": "code",
   "execution_count": 68,
   "id": "87f8acae",
   "metadata": {},
   "outputs": [
    {
     "data": {
      "text/plain": [
       "3500"
      ]
     },
     "execution_count": 68,
     "metadata": {},
     "output_type": "execute_result"
    }
   ],
   "source": [
    "class course:\n",
    "    def __init__(self,course_price,name):\n",
    "        self.__price=course_price\n",
    "        self.name=name\n",
    "        \n",
    "    @property    \n",
    "    def course_price(self):\n",
    "        return self.__price\n",
    "    \n",
    "    @course_price.setter\n",
    "    def set_course_price(self,new_price):\n",
    "        if new_price<self.__price:\n",
    "            print(\"invalid\")\n",
    "        else:\n",
    "            self.__price=new_price\n",
    "            \n",
    "    @course_price.deleter        \n",
    "    def delete_price(self):\n",
    "        del self.__price\n",
    "        \n",
    "a=course(3500,'ashish')\n",
    "a.course_price\n"
   ]
  },
  {
   "cell_type": "code",
   "execution_count": null,
   "id": "79595a05",
   "metadata": {},
   "outputs": [],
   "source": []
  },
  {
   "cell_type": "code",
   "execution_count": null,
   "id": "e3842801",
   "metadata": {},
   "outputs": [],
   "source": []
  },
  {
   "cell_type": "code",
   "execution_count": null,
   "id": "ec6f0ad8",
   "metadata": {},
   "outputs": [],
   "source": []
  },
  {
   "cell_type": "code",
   "execution_count": null,
   "id": "cc0f8785",
   "metadata": {},
   "outputs": [],
   "source": []
  },
  {
   "cell_type": "code",
   "execution_count": null,
   "id": "d0f788af",
   "metadata": {},
   "outputs": [],
   "source": []
  },
  {
   "cell_type": "code",
   "execution_count": null,
   "id": "97333b4b",
   "metadata": {},
   "outputs": [],
   "source": []
  },
  {
   "cell_type": "code",
   "execution_count": null,
   "id": "643cd59b",
   "metadata": {},
   "outputs": [],
   "source": []
  },
  {
   "cell_type": "code",
   "execution_count": null,
   "id": "db1810fb",
   "metadata": {},
   "outputs": [],
   "source": []
  },
  {
   "cell_type": "code",
   "execution_count": null,
   "id": "ec78c7f8",
   "metadata": {},
   "outputs": [],
   "source": []
  },
  {
   "cell_type": "code",
   "execution_count": null,
   "id": "005fbb1f",
   "metadata": {},
   "outputs": [],
   "source": []
  },
  {
   "cell_type": "code",
   "execution_count": null,
   "id": "625a2243",
   "metadata": {},
   "outputs": [],
   "source": []
  },
  {
   "cell_type": "code",
   "execution_count": null,
   "id": "28e39450",
   "metadata": {},
   "outputs": [],
   "source": []
  },
  {
   "cell_type": "code",
   "execution_count": null,
   "id": "fd7c9e8f",
   "metadata": {},
   "outputs": [],
   "source": []
  },
  {
   "cell_type": "code",
   "execution_count": null,
   "id": "13387fcc",
   "metadata": {},
   "outputs": [],
   "source": []
  },
  {
   "cell_type": "code",
   "execution_count": null,
   "id": "b7e1b529",
   "metadata": {},
   "outputs": [],
   "source": []
  },
  {
   "cell_type": "code",
   "execution_count": null,
   "id": "14fef23a",
   "metadata": {},
   "outputs": [],
   "source": []
  },
  {
   "cell_type": "code",
   "execution_count": null,
   "id": "2fd68a7b",
   "metadata": {},
   "outputs": [],
   "source": []
  },
  {
   "cell_type": "code",
   "execution_count": null,
   "id": "0398b12e",
   "metadata": {},
   "outputs": [],
   "source": []
  },
  {
   "cell_type": "code",
   "execution_count": null,
   "id": "572e6de0",
   "metadata": {},
   "outputs": [],
   "source": []
  },
  {
   "cell_type": "code",
   "execution_count": null,
   "id": "e068cc35",
   "metadata": {},
   "outputs": [],
   "source": []
  },
  {
   "cell_type": "code",
   "execution_count": null,
   "id": "ea6ae6da",
   "metadata": {},
   "outputs": [],
   "source": []
  },
  {
   "cell_type": "code",
   "execution_count": null,
   "id": "70f9e4f3",
   "metadata": {},
   "outputs": [],
   "source": []
  },
  {
   "cell_type": "code",
   "execution_count": null,
   "id": "3194c39d",
   "metadata": {},
   "outputs": [],
   "source": []
  },
  {
   "cell_type": "code",
   "execution_count": null,
   "id": "99735410",
   "metadata": {},
   "outputs": [],
   "source": []
  },
  {
   "cell_type": "code",
   "execution_count": null,
   "id": "c1fa192d",
   "metadata": {},
   "outputs": [],
   "source": []
  },
  {
   "cell_type": "code",
   "execution_count": null,
   "id": "62a53cb3",
   "metadata": {},
   "outputs": [],
   "source": []
  },
  {
   "cell_type": "code",
   "execution_count": null,
   "id": "2903a698",
   "metadata": {},
   "outputs": [],
   "source": []
  },
  {
   "cell_type": "code",
   "execution_count": null,
   "id": "839b28a2",
   "metadata": {},
   "outputs": [],
   "source": []
  },
  {
   "cell_type": "code",
   "execution_count": null,
   "id": "7d4ccf9c",
   "metadata": {},
   "outputs": [],
   "source": []
  },
  {
   "cell_type": "code",
   "execution_count": null,
   "id": "25bd35be",
   "metadata": {},
   "outputs": [],
   "source": []
  },
  {
   "cell_type": "code",
   "execution_count": null,
   "id": "811b5e4f",
   "metadata": {},
   "outputs": [],
   "source": []
  },
  {
   "cell_type": "code",
   "execution_count": null,
   "id": "c73db404",
   "metadata": {},
   "outputs": [],
   "source": []
  },
  {
   "cell_type": "code",
   "execution_count": null,
   "id": "8088ccfa",
   "metadata": {},
   "outputs": [],
   "source": []
  },
  {
   "cell_type": "code",
   "execution_count": null,
   "id": "24202676",
   "metadata": {},
   "outputs": [],
   "source": []
  }
 ],
 "metadata": {
  "kernelspec": {
   "display_name": "Python 3 (ipykernel)",
   "language": "python",
   "name": "python3"
  },
  "language_info": {
   "codemirror_mode": {
    "name": "ipython",
    "version": 3
   },
   "file_extension": ".py",
   "mimetype": "text/x-python",
   "name": "python",
   "nbconvert_exporter": "python",
   "pygments_lexer": "ipython3",
   "version": "3.8.10"
  }
 },
 "nbformat": 4,
 "nbformat_minor": 5
}
