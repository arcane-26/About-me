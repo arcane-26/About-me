{
 "cells": [
  {
   "cell_type": "code",
   "execution_count": 30,
   "id": "f68c1b99",
   "metadata": {},
   "outputs": [],
   "source": [
    "import threading\n",
    "import time"
   ]
  },
  {
   "cell_type": "code",
   "execution_count": null,
   "id": "e39fa4cf",
   "metadata": {},
   "outputs": [],
   "source": []
  },
  {
   "cell_type": "code",
   "execution_count": 31,
   "id": "4e069f94",
   "metadata": {},
   "outputs": [],
   "source": [
    "def test(a):\n",
    "    print(\"the is test class\",a)"
   ]
  },
  {
   "cell_type": "code",
   "execution_count": null,
   "id": "c6c1716c",
   "metadata": {},
   "outputs": [],
   "source": []
  },
  {
   "cell_type": "code",
   "execution_count": 32,
   "id": "1e458c13",
   "metadata": {},
   "outputs": [],
   "source": [
    "thread=[threading.Thread(target=test, args=(i,)) for i in range(10)]"
   ]
  },
  {
   "cell_type": "code",
   "execution_count": 33,
   "id": "0b98fb85",
   "metadata": {},
   "outputs": [
    {
     "name": "stdout",
     "output_type": "stream",
     "text": [
      "the is test class 0\n",
      "the is test class 1\n",
      "the is test class 2\n",
      "the is test class 3\n",
      "the is test class 4\n",
      "the is test class 5\n",
      "the is test class 6\n",
      "the is test class 7\n",
      "the is test class 8\n",
      "the is test class 9\n"
     ]
    }
   ],
   "source": [
    "for i in thread:\n",
    "    i.start()\n",
    "    "
   ]
  },
  {
   "cell_type": "code",
   "execution_count": null,
   "id": "ea39ef29",
   "metadata": {},
   "outputs": [],
   "source": []
  },
  {
   "cell_type": "code",
   "execution_count": null,
   "id": "2aafd3a3",
   "metadata": {},
   "outputs": [],
   "source": []
  },
  {
   "cell_type": "code",
   "execution_count": 34,
   "id": "223ffdc9",
   "metadata": {},
   "outputs": [],
   "source": [
    "def data(roll):\n",
    "    print('your roll no. is: ',roll)"
   ]
  },
  {
   "cell_type": "code",
   "execution_count": 35,
   "id": "9c48dfdb",
   "metadata": {},
   "outputs": [],
   "source": [
    "thread2=[threading.Thread(target=data,args=(i,))for i in range(19155001,19155115)]"
   ]
  },
  {
   "cell_type": "code",
   "execution_count": 36,
   "id": "4518acc9",
   "metadata": {},
   "outputs": [
    {
     "name": "stdout",
     "output_type": "stream",
     "text": [
      "your roll no. is:  19155001\n",
      "your roll no. is:  19155002\n",
      "your roll no. is:  19155003\n",
      "your roll no. is:  19155004\n",
      "your roll no. is:  19155005\n",
      "your roll no. is:  19155006\n",
      "your roll no. is:  19155007\n",
      "your roll no. is:  19155008\n",
      "your roll no. is:  19155009\n",
      "your roll no. is:  19155010\n",
      "your roll no. is:  19155011\n",
      "your roll no. is:  19155012\n",
      "your roll no. is:  19155013\n",
      "your roll no. is:  19155014\n",
      "your roll no. is:  19155015\n",
      "your roll no. is:  19155016\n",
      "your roll no. is:  19155017\n",
      "your roll no. is:  19155018\n",
      "your roll no. is:  19155019\n",
      "your roll no. is:  19155020\n",
      "your roll no. is:  19155021\n",
      "your roll no. is:  19155022\n",
      "your roll no. is:  19155023\n",
      "your roll no. is:  19155024\n",
      "your roll no. is:  19155025\n",
      "your roll no. is:  19155026\n",
      "your roll no. is:  19155027\n",
      "your roll no. is:  19155028\n",
      "your roll no. is:  19155029\n",
      "your roll no. is:  19155030\n",
      "your roll no. is:  19155031\n",
      "your roll no. is:  19155032\n",
      "your roll no. is:  19155033\n",
      "your roll no. is:  19155034\n",
      "your roll no. is:  19155035\n",
      "your roll no. is:  19155036\n",
      "your roll no. is:  19155037\n",
      "your roll no. is:  19155038\n",
      "your roll no. is:  19155039\n",
      "your roll no. is:  19155040\n",
      "your roll no. is:  19155041\n",
      "your roll no. is:  19155042\n",
      "your roll no. is:  19155043\n",
      "your roll no. is:  19155044\n",
      "your roll no. is:  19155045\n",
      "your roll no. is:  19155046\n",
      "your roll no. is:  19155047\n",
      "your roll no. is:  19155048\n",
      "your roll no. is:  19155049\n",
      "your roll no. is:  19155050\n",
      "your roll no. is:  19155051\n",
      "your roll no. is:  19155052\n",
      "your roll no. is:  19155053\n",
      "your roll no. is:  19155054\n",
      "your roll no. is:  19155055\n",
      "your roll no. is:  19155056\n",
      "your roll no. is:  19155057\n",
      "your roll no. is:  19155058\n",
      "your roll no. is:  19155059\n",
      "your roll no. is:  19155060\n",
      "your roll no. is:  19155061\n",
      "your roll no. is:  19155062\n",
      "your roll no. is:  19155063\n",
      "your roll no. is:  19155064\n",
      "your roll no. is:  19155065\n",
      "your roll no. is:  19155066\n",
      "your roll no. is:  19155067\n",
      "your roll no. is:  19155068\n",
      "your roll no. is:  19155069\n",
      "your roll no. is:  19155070\n",
      "your roll no. is:  19155071\n",
      "your roll no. is:  19155072\n",
      "your roll no. is:  19155073\n",
      "your roll no. is:  19155074\n",
      "your roll no. is:  19155075\n",
      "your roll no. is:  19155076\n",
      "your roll no. is:  19155077\n",
      "your roll no. is:  19155078\n",
      "your roll no. is:  19155079\n",
      "your roll no. is:  19155080\n",
      "your roll no. is:  19155081\n",
      "your roll no. is:  19155082\n",
      "your roll no. is:  19155083\n",
      "your roll no. is:  19155084\n",
      "your roll no. is:  19155085\n",
      "your roll no. is:  19155086\n",
      "your roll no. is:  19155087\n",
      "your roll no. is:  19155088\n",
      "your roll no. is:  19155089\n",
      "your roll no. is:  19155090\n",
      "your roll no. is:  19155091\n",
      "your roll no. is:  19155092\n",
      "your roll no. is:  19155093\n",
      "your roll no. is:  19155094\n",
      "your roll no. is:  19155095\n",
      "your roll no. is:  19155096\n",
      "your roll no. is:  19155097\n",
      "your roll no. is:  19155098\n",
      "your roll no. is:  19155099\n",
      "your roll no. is:  19155100\n",
      "your roll no. is:  19155101\n",
      "your roll no. is:  19155102\n",
      "your roll no. is:  19155103\n",
      "your roll no. is:  19155104\n",
      "your roll no. is:  19155105\n",
      "your roll no. is:  19155106\n",
      "your roll no. is:  19155107\n",
      "your roll no. is:  19155108\n",
      "your roll no. is:  19155109\n",
      "your roll no. is:  19155110\n",
      "your roll no. is:  19155111\n",
      "your roll no. is:  19155112\n",
      "your roll no. is:  19155113\n",
      "your roll no. is:  19155114\n"
     ]
    }
   ],
   "source": [
    "for i in thread2:\n",
    "    i.start()"
   ]
  },
  {
   "cell_type": "code",
   "execution_count": null,
   "id": "c01273dd",
   "metadata": {},
   "outputs": [],
   "source": []
  },
  {
   "cell_type": "code",
   "execution_count": 37,
   "id": "efee4723",
   "metadata": {},
   "outputs": [
    {
     "name": "stdout",
     "output_type": "stream",
     "text": [
      "1\n",
      "2\n",
      "3\n",
      "4\n",
      "5\n",
      "6\n",
      "7\n",
      "8\n",
      "9\n"
     ]
    }
   ],
   "source": [
    "#printing 100 natural numbers\n",
    "\n",
    "def natural_nums(n):\n",
    "    print(n)\n",
    "    \n",
    "num=[threading.Thread(target=natural_nums,args=(i,))for i in range(1,10)]\n",
    "for i in num:\n",
    "    i.start()\n",
    "    time.sleep(1)"
   ]
  },
  {
   "cell_type": "code",
   "execution_count": null,
   "id": "87f0b597",
   "metadata": {},
   "outputs": [],
   "source": []
  },
  {
   "cell_type": "code",
   "execution_count": null,
   "id": "e9e56317",
   "metadata": {},
   "outputs": [],
   "source": []
  },
  {
   "cell_type": "code",
   "execution_count": null,
   "id": "59017903",
   "metadata": {},
   "outputs": [],
   "source": []
  },
  {
   "cell_type": "code",
   "execution_count": null,
   "id": "f39d76e8",
   "metadata": {},
   "outputs": [],
   "source": []
  },
  {
   "cell_type": "code",
   "execution_count": null,
   "id": "ba6b51d1",
   "metadata": {},
   "outputs": [],
   "source": []
  },
  {
   "cell_type": "code",
   "execution_count": 1,
   "id": "39c8ab60",
   "metadata": {},
   "outputs": [],
   "source": [
    "from threading import*"
   ]
  },
  {
   "cell_type": "code",
   "execution_count": 2,
   "id": "980bc2b3",
   "metadata": {},
   "outputs": [],
   "source": [
    "import time"
   ]
  },
  {
   "cell_type": "code",
   "execution_count": 4,
   "id": "81f2ee47",
   "metadata": {},
   "outputs": [],
   "source": [
    "def test(n):\n",
    "    time.sleep(1)\n",
    "    print(\"value of %d is \"%(n))"
   ]
  },
  {
   "cell_type": "code",
   "execution_count": 9,
   "id": "b2b5377d",
   "metadata": {},
   "outputs": [
    {
     "name": "stdout",
     "output_type": "stream",
     "text": [
      "value of 0 is \n",
      "value of 1 is \n",
      "value of 2 is \n",
      "value of 3 is \n",
      "value of 4 is \n",
      "value of 5 is \n",
      "value of 6 is \n",
      "value of 7 is \n",
      "value of 8 is \n",
      "value of 9 is \n"
     ]
    }
   ],
   "source": [
    "final=[Thread(target=test,args=(i,))for i in range(10)]\n",
    "for i in final:\n",
    "    i.start()\n",
    "    time.sleep(0.2)"
   ]
  },
  {
   "cell_type": "code",
   "execution_count": 13,
   "id": "d488ceb1",
   "metadata": {},
   "outputs": [
    {
     "ename": "AttributeError",
     "evalue": "'_MainThread' object has no attribute 'active_thread'",
     "output_type": "error",
     "traceback": [
      "\u001b[1;31m---------------------------------------------------------------------------\u001b[0m",
      "\u001b[1;31mAttributeError\u001b[0m                            Traceback (most recent call last)",
      "Cell \u001b[1;32mIn[13], line 1\u001b[0m\n\u001b[1;32m----> 1\u001b[0m \u001b[43mcurrent_thread\u001b[49m\u001b[43m(\u001b[49m\u001b[43m)\u001b[49m\u001b[38;5;241;43m.\u001b[39;49m\u001b[43mactive_thread\u001b[49m()\n",
      "\u001b[1;31mAttributeError\u001b[0m: '_MainThread' object has no attribute 'active_thread'"
     ]
    }
   ],
   "source": [
    "current_thread()."
   ]
  },
  {
   "cell_type": "code",
   "execution_count": null,
   "id": "5e87a42b",
   "metadata": {},
   "outputs": [],
   "source": []
  }
 ],
 "metadata": {
  "kernelspec": {
   "display_name": "Python 3 (ipykernel)",
   "language": "python",
   "name": "python3"
  },
  "language_info": {
   "codemirror_mode": {
    "name": "ipython",
    "version": 3
   },
   "file_extension": ".py",
   "mimetype": "text/x-python",
   "name": "python",
   "nbconvert_exporter": "python",
   "pygments_lexer": "ipython3",
   "version": "3.8.10"
  }
 },
 "nbformat": 4,
 "nbformat_minor": 5
}
