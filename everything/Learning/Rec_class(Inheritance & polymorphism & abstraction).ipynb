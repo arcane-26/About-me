{
 "cells": [
  {
   "cell_type": "code",
   "execution_count": 1,
   "id": "6fd378fe",
   "metadata": {},
   "outputs": [],
   "source": [
    "class test:\n",
    "    def __init__(self):\n",
    "        self.data=22\n",
    "    \n",
    "    def display(self):\n",
    "        print(\"this is level 1\")"
   ]
  },
  {
   "cell_type": "code",
   "execution_count": 2,
   "id": "450035f1",
   "metadata": {},
   "outputs": [],
   "source": [
    "class different(test):\n",
    "    pass\n",
    "            "
   ]
  },
  {
   "cell_type": "code",
   "execution_count": 3,
   "id": "39894d03",
   "metadata": {},
   "outputs": [],
   "source": [
    "d=different()"
   ]
  },
  {
   "cell_type": "code",
   "execution_count": 4,
   "id": "26455998",
   "metadata": {},
   "outputs": [
    {
     "data": {
      "text/plain": [
       "22"
      ]
     },
     "execution_count": 4,
     "metadata": {},
     "output_type": "execute_result"
    }
   ],
   "source": [
    "d.data"
   ]
  },
  {
   "cell_type": "code",
   "execution_count": 5,
   "id": "fe227904",
   "metadata": {},
   "outputs": [
    {
     "name": "stdout",
     "output_type": "stream",
     "text": [
      "this is level 1\n"
     ]
    }
   ],
   "source": [
    "d.display()"
   ]
  },
  {
   "cell_type": "code",
   "execution_count": 7,
   "id": "7495a9c8",
   "metadata": {},
   "outputs": [],
   "source": [
    "# we are inheriting the properties of 'test class' in 'different class' so all the the attributes and methods of the \n",
    "# 'test class' is\n",
    "# accessible by the 'different class'"
   ]
  },
  {
   "cell_type": "code",
   "execution_count": null,
   "id": "acd8a152",
   "metadata": {},
   "outputs": [],
   "source": []
  },
  {
   "cell_type": "code",
   "execution_count": null,
   "id": "4eb685b7",
   "metadata": {},
   "outputs": [],
   "source": []
  },
  {
   "cell_type": "code",
   "execution_count": null,
   "id": "6d2bee1b",
   "metadata": {},
   "outputs": [],
   "source": []
  },
  {
   "cell_type": "markdown",
   "id": "96e5d018",
   "metadata": {},
   "source": [
    "# multilevel inheritance"
   ]
  },
  {
   "cell_type": "code",
   "execution_count": null,
   "id": "7d359832",
   "metadata": {},
   "outputs": [],
   "source": []
  },
  {
   "cell_type": "code",
   "execution_count": 68,
   "id": "049d300e",
   "metadata": {},
   "outputs": [],
   "source": [
    "class level1:\n",
    "    def __init__(self):\n",
    "        self.data=101\n",
    "    def display_data(self):\n",
    "        print(\"hii! friends\")\n",
    "        \n",
    "\n",
    "class level2(level1):\n",
    "    def hii(self):\n",
    "        print(\"this is level 2\")\n",
    "    \n",
    "class level3(level2):\n",
    "    pass"
   ]
  },
  {
   "cell_type": "code",
   "execution_count": null,
   "id": "c2c66f4a",
   "metadata": {},
   "outputs": [],
   "source": []
  },
  {
   "cell_type": "code",
   "execution_count": 23,
   "id": "546769c5",
   "metadata": {},
   "outputs": [],
   "source": [
    "a=level3()"
   ]
  },
  {
   "cell_type": "code",
   "execution_count": 24,
   "id": "5ddfbbe6",
   "metadata": {},
   "outputs": [
    {
     "name": "stdout",
     "output_type": "stream",
     "text": [
      "hii! friends\n"
     ]
    }
   ],
   "source": [
    "a.display_data()"
   ]
  },
  {
   "cell_type": "code",
   "execution_count": null,
   "id": "f04ebe30",
   "metadata": {},
   "outputs": [],
   "source": []
  },
  {
   "cell_type": "code",
   "execution_count": 25,
   "id": "0e717f2b",
   "metadata": {},
   "outputs": [],
   "source": [
    "v=level2()"
   ]
  },
  {
   "cell_type": "code",
   "execution_count": 26,
   "id": "6caabbcb",
   "metadata": {},
   "outputs": [
    {
     "name": "stdout",
     "output_type": "stream",
     "text": [
      "hii! friends\n"
     ]
    }
   ],
   "source": [
    "v.display_data()"
   ]
  },
  {
   "cell_type": "code",
   "execution_count": null,
   "id": "f4d823a3",
   "metadata": {},
   "outputs": [],
   "source": []
  },
  {
   "cell_type": "code",
   "execution_count": null,
   "id": "91c7d4b2",
   "metadata": {},
   "outputs": [],
   "source": []
  },
  {
   "cell_type": "markdown",
   "id": "f0e05a72",
   "metadata": {},
   "source": [
    "# multiple Inheritance"
   ]
  },
  {
   "cell_type": "code",
   "execution_count": null,
   "id": "bce83813",
   "metadata": {},
   "outputs": [],
   "source": []
  },
  {
   "cell_type": "code",
   "execution_count": null,
   "id": "811fadb9",
   "metadata": {},
   "outputs": [],
   "source": []
  },
  {
   "cell_type": "code",
   "execution_count": 27,
   "id": "e675c03e",
   "metadata": {},
   "outputs": [],
   "source": [
    "class papa:\n",
    "    \n",
    "    def knowledge(self):\n",
    "        return \"got knowledge from papa\"\n",
    "    \n",
    "class mummy:\n",
    "    def beauty(self):\n",
    "        return \"got beauty from mummy\"\n",
    "    \n",
    "class me(papa,mummy):\n",
    "    pass"
   ]
  },
  {
   "cell_type": "code",
   "execution_count": null,
   "id": "86f0ecb4",
   "metadata": {},
   "outputs": [],
   "source": []
  },
  {
   "cell_type": "code",
   "execution_count": 28,
   "id": "157f0b97",
   "metadata": {},
   "outputs": [],
   "source": [
    "ashish=me()"
   ]
  },
  {
   "cell_type": "code",
   "execution_count": 30,
   "id": "1073e004",
   "metadata": {},
   "outputs": [
    {
     "data": {
      "text/plain": [
       "'got knowledge from papa'"
      ]
     },
     "execution_count": 30,
     "metadata": {},
     "output_type": "execute_result"
    }
   ],
   "source": [
    "ashish.knowledge()"
   ]
  },
  {
   "cell_type": "code",
   "execution_count": 31,
   "id": "fb260a87",
   "metadata": {},
   "outputs": [
    {
     "data": {
      "text/plain": [
       "'got beauty from mummy'"
      ]
     },
     "execution_count": 31,
     "metadata": {},
     "output_type": "execute_result"
    }
   ],
   "source": [
    "ashish.beauty()"
   ]
  },
  {
   "cell_type": "code",
   "execution_count": null,
   "id": "df42e62c",
   "metadata": {},
   "outputs": [],
   "source": []
  },
  {
   "cell_type": "code",
   "execution_count": null,
   "id": "77c180a5",
   "metadata": {},
   "outputs": [],
   "source": []
  },
  {
   "cell_type": "code",
   "execution_count": null,
   "id": "e68a9fbd",
   "metadata": {},
   "outputs": [],
   "source": []
  },
  {
   "cell_type": "code",
   "execution_count": 53,
   "id": "513f3a17",
   "metadata": {},
   "outputs": [],
   "source": [
    "class base:\n",
    "    \n",
    "    counter=1   # -------> we can say that \"counter\" is a static variable which remains same for every object\n",
    "    \n",
    "    def __init__(self,num):\n",
    "        self.data=num  #-------> we can say that 'self.data' is a instance variable which changes when we create diff. object\n",
    "        \n",
    "    \n",
    "    "
   ]
  },
  {
   "cell_type": "code",
   "execution_count": 54,
   "id": "b878a983",
   "metadata": {},
   "outputs": [],
   "source": [
    "a=base(34)"
   ]
  },
  {
   "cell_type": "code",
   "execution_count": 55,
   "id": "d2155b79",
   "metadata": {},
   "outputs": [
    {
     "data": {
      "text/plain": [
       "34"
      ]
     },
     "execution_count": 55,
     "metadata": {},
     "output_type": "execute_result"
    }
   ],
   "source": [
    "a.data"
   ]
  },
  {
   "cell_type": "code",
   "execution_count": 56,
   "id": "ef14bb31",
   "metadata": {},
   "outputs": [
    {
     "data": {
      "text/plain": [
       "1"
      ]
     },
     "execution_count": 56,
     "metadata": {},
     "output_type": "execute_result"
    }
   ],
   "source": [
    "a.counter"
   ]
  },
  {
   "cell_type": "code",
   "execution_count": null,
   "id": "a4a6cae8",
   "metadata": {},
   "outputs": [],
   "source": []
  },
  {
   "cell_type": "code",
   "execution_count": 44,
   "id": "816f4dc5",
   "metadata": {},
   "outputs": [],
   "source": [
    "b=base(11)"
   ]
  },
  {
   "cell_type": "code",
   "execution_count": 45,
   "id": "e8b255c7",
   "metadata": {},
   "outputs": [
    {
     "data": {
      "text/plain": [
       "11"
      ]
     },
     "execution_count": 45,
     "metadata": {},
     "output_type": "execute_result"
    }
   ],
   "source": [
    "b.data"
   ]
  },
  {
   "cell_type": "code",
   "execution_count": 46,
   "id": "f4c43b95",
   "metadata": {},
   "outputs": [
    {
     "data": {
      "text/plain": [
       "1"
      ]
     },
     "execution_count": 46,
     "metadata": {},
     "output_type": "execute_result"
    }
   ],
   "source": [
    "b.counter"
   ]
  },
  {
   "cell_type": "code",
   "execution_count": null,
   "id": "5e14b674",
   "metadata": {},
   "outputs": [],
   "source": []
  },
  {
   "cell_type": "code",
   "execution_count": 47,
   "id": "1891105a",
   "metadata": {},
   "outputs": [],
   "source": [
    "# we use class name to call static methods"
   ]
  },
  {
   "cell_type": "code",
   "execution_count": null,
   "id": "6cfb1a8f",
   "metadata": {},
   "outputs": [],
   "source": []
  },
  {
   "cell_type": "code",
   "execution_count": 48,
   "id": "a7080b29",
   "metadata": {},
   "outputs": [],
   "source": [
    "class base:\n",
    "    counter=1\n",
    "    \n",
    "    def __init__(self):\n",
    "        self.value=base.counter\n",
    "        base.counter=base.counter+1"
   ]
  },
  {
   "cell_type": "code",
   "execution_count": 49,
   "id": "d71adbd7",
   "metadata": {},
   "outputs": [],
   "source": [
    "a=base()"
   ]
  },
  {
   "cell_type": "code",
   "execution_count": 50,
   "id": "62ebb198",
   "metadata": {},
   "outputs": [
    {
     "data": {
      "text/plain": [
       "1"
      ]
     },
     "execution_count": 50,
     "metadata": {},
     "output_type": "execute_result"
    }
   ],
   "source": [
    "a.value"
   ]
  },
  {
   "cell_type": "code",
   "execution_count": 51,
   "id": "9b1efc07",
   "metadata": {},
   "outputs": [],
   "source": [
    "b=base()"
   ]
  },
  {
   "cell_type": "code",
   "execution_count": 52,
   "id": "894e3da9",
   "metadata": {},
   "outputs": [
    {
     "data": {
      "text/plain": [
       "2"
      ]
     },
     "execution_count": 52,
     "metadata": {},
     "output_type": "execute_result"
    }
   ],
   "source": [
    "b.value"
   ]
  },
  {
   "cell_type": "code",
   "execution_count": null,
   "id": "05ee47ec",
   "metadata": {},
   "outputs": [],
   "source": []
  },
  {
   "cell_type": "code",
   "execution_count": 57,
   "id": "535f6ca5",
   "metadata": {},
   "outputs": [
    {
     "data": {
      "text/plain": [
       "3"
      ]
     },
     "execution_count": 57,
     "metadata": {},
     "output_type": "execute_result"
    }
   ],
   "source": [
    "b.counter"
   ]
  },
  {
   "cell_type": "code",
   "execution_count": null,
   "id": "fc26c41f",
   "metadata": {},
   "outputs": [],
   "source": []
  },
  {
   "cell_type": "code",
   "execution_count": null,
   "id": "23a8585b",
   "metadata": {},
   "outputs": [],
   "source": []
  },
  {
   "cell_type": "markdown",
   "id": "d908b9ee",
   "metadata": {},
   "source": [
    "# inheritance and ploymorphism(campusx class)"
   ]
  },
  {
   "cell_type": "code",
   "execution_count": null,
   "id": "f1c2cf49",
   "metadata": {},
   "outputs": [],
   "source": []
  },
  {
   "cell_type": "code",
   "execution_count": null,
   "id": "23e7806f",
   "metadata": {},
   "outputs": [],
   "source": []
  },
  {
   "cell_type": "markdown",
   "id": "8372f730",
   "metadata": {},
   "source": [
    "# class relationships\n",
    "* Aggregation\n",
    "* Inheritance\n",
    "\n"
   ]
  },
  {
   "cell_type": "code",
   "execution_count": null,
   "id": "d2ef9889",
   "metadata": {},
   "outputs": [],
   "source": []
  },
  {
   "cell_type": "code",
   "execution_count": null,
   "id": "02bc00e1",
   "metadata": {},
   "outputs": [],
   "source": []
  },
  {
   "cell_type": "code",
   "execution_count": null,
   "id": "bc032179",
   "metadata": {},
   "outputs": [],
   "source": []
  },
  {
   "cell_type": "markdown",
   "id": "a2c227e6",
   "metadata": {},
   "source": [
    "# aggregation"
   ]
  },
  {
   "cell_type": "code",
   "execution_count": null,
   "id": "93a33d61",
   "metadata": {},
   "outputs": [],
   "source": [
    "# Aggregation is a \"has a\" type of relationship which simply means for example \n",
    "# class A has a class B"
   ]
  },
  {
   "cell_type": "code",
   "execution_count": null,
   "id": "57682144",
   "metadata": {},
   "outputs": [],
   "source": []
  },
  {
   "cell_type": "code",
   "execution_count": 82,
   "id": "43413204",
   "metadata": {},
   "outputs": [],
   "source": [
    "class student:\n",
    "    def __init__(self,name,roll,age,address):\n",
    "        self.name=name\n",
    "        self.roll=roll\n",
    "        self.age=age\n",
    "        self.address= address\n",
    "        \n",
    "        \n",
    "    def display_address(self):\n",
    "        print(self.address.getcity(),self.address.state,self.address.pin)\n",
    "        \n",
    "    def edit_details(self,new_name,new_city,new_state,new_pin):\n",
    "        self.name=new_name\n",
    "        self.address.changeadd(new_city,new_state,new_pin)\n",
    "        \n",
    "        \n",
    "        \n",
    "        \n",
    "class address:\n",
    "    def __init__(self,city,state,pin):\n",
    "        self.__city=city\n",
    "        self.state=state\n",
    "        self.pin=pin\n",
    "        \n",
    "    def getcity(self):\n",
    "        return self.__city\n",
    "    \n",
    "    def changeadd(self,new_city,new_state,new_pin):\n",
    "        self.__city=new_city\n",
    "        self.state=new_state\n",
    "        self.pin=new_pin\n",
    "        \n"
   ]
  },
  {
   "cell_type": "code",
   "execution_count": 83,
   "id": "ddb146fc",
   "metadata": {},
   "outputs": [],
   "source": [
    "add1=address(\"Nagpur\",\"Maharashtra\",440015)"
   ]
  },
  {
   "cell_type": "code",
   "execution_count": 84,
   "id": "3bd79b3e",
   "metadata": {},
   "outputs": [],
   "source": [
    "stud=student(\"ashish\",19154006,22,add1)"
   ]
  },
  {
   "cell_type": "code",
   "execution_count": 85,
   "id": "715c77b0",
   "metadata": {},
   "outputs": [
    {
     "name": "stdout",
     "output_type": "stream",
     "text": [
      "Nagpur Maharashtra 440015\n"
     ]
    }
   ],
   "source": [
    "stud.display_address()"
   ]
  },
  {
   "cell_type": "code",
   "execution_count": null,
   "id": "3b6085f5",
   "metadata": {},
   "outputs": [],
   "source": []
  },
  {
   "cell_type": "code",
   "execution_count": 86,
   "id": "5626f3ea",
   "metadata": {},
   "outputs": [],
   "source": [
    "stud.edit_details(\"pabitra\",\"Bhubneshwar\",\"Odisha\",\"221005\")"
   ]
  },
  {
   "cell_type": "code",
   "execution_count": 87,
   "id": "d2a7e0b2",
   "metadata": {},
   "outputs": [
    {
     "name": "stdout",
     "output_type": "stream",
     "text": [
      "Bhubneshwar Odisha 221005\n"
     ]
    }
   ],
   "source": [
    "stud.display_address()"
   ]
  },
  {
   "cell_type": "code",
   "execution_count": null,
   "id": "9d32162e",
   "metadata": {},
   "outputs": [],
   "source": []
  },
  {
   "cell_type": "code",
   "execution_count": null,
   "id": "6efe1a99",
   "metadata": {},
   "outputs": [],
   "source": []
  },
  {
   "cell_type": "code",
   "execution_count": null,
   "id": "e550b211",
   "metadata": {},
   "outputs": [],
   "source": []
  },
  {
   "cell_type": "code",
   "execution_count": null,
   "id": "9e00a5cc",
   "metadata": {},
   "outputs": [],
   "source": []
  },
  {
   "cell_type": "code",
   "execution_count": null,
   "id": "5847517c",
   "metadata": {},
   "outputs": [],
   "source": []
  },
  {
   "cell_type": "code",
   "execution_count": null,
   "id": "07d40066",
   "metadata": {},
   "outputs": [],
   "source": [
    "# we pass \"add1\" which was object of address class inside the \"stud\" which was object of student class\n",
    "\n",
    "# this means that student class  \"has a\" address class\n",
    "\n",
    "# this establishes aggregation relationship between classes"
   ]
  },
  {
   "cell_type": "code",
   "execution_count": null,
   "id": "a6d8fc2e",
   "metadata": {},
   "outputs": [],
   "source": []
  },
  {
   "cell_type": "code",
   "execution_count": null,
   "id": "d13a2262",
   "metadata": {},
   "outputs": [],
   "source": []
  },
  {
   "cell_type": "code",
   "execution_count": null,
   "id": "27acb44d",
   "metadata": {},
   "outputs": [],
   "source": []
  },
  {
   "cell_type": "code",
   "execution_count": null,
   "id": "8b88356c",
   "metadata": {},
   "outputs": [],
   "source": []
  },
  {
   "cell_type": "markdown",
   "id": "8c35c0f4",
   "metadata": {},
   "source": [
    "# inheritance"
   ]
  },
  {
   "cell_type": "code",
   "execution_count": null,
   "id": "f8144437",
   "metadata": {},
   "outputs": [],
   "source": []
  },
  {
   "cell_type": "code",
   "execution_count": null,
   "id": "22183b72",
   "metadata": {},
   "outputs": [],
   "source": []
  },
  {
   "cell_type": "markdown",
   "id": "8a56b113",
   "metadata": {},
   "source": [
    " Things of parent class inherited in child class\n",
    " * constructor\n",
    " * non private attributes\n",
    " * non private methods"
   ]
  },
  {
   "cell_type": "code",
   "execution_count": null,
   "id": "8501eb04",
   "metadata": {},
   "outputs": [],
   "source": []
  },
  {
   "cell_type": "code",
   "execution_count": null,
   "id": "20decba6",
   "metadata": {},
   "outputs": [],
   "source": []
  },
  {
   "cell_type": "code",
   "execution_count": null,
   "id": "0064fb36",
   "metadata": {},
   "outputs": [],
   "source": []
  },
  {
   "cell_type": "code",
   "execution_count": 1,
   "id": "a0c294d3",
   "metadata": {},
   "outputs": [],
   "source": [
    "class user:\n",
    "    def __init__(self):\n",
    "        self.name=\"ashish\"\n",
    "    def login(self):\n",
    "        return \"login\"\n",
    "    \n",
    "    \n",
    "class student(user):\n",
    "    def __init__(self):\n",
    "        self.roll=100\n",
    "        \n",
    "    def enroll(self):\n",
    "        return \"enroll in course\""
   ]
  },
  {
   "cell_type": "code",
   "execution_count": 2,
   "id": "2cb17e48",
   "metadata": {},
   "outputs": [],
   "source": [
    "a=student()"
   ]
  },
  {
   "cell_type": "code",
   "execution_count": 6,
   "id": "19dcff88",
   "metadata": {},
   "outputs": [
    {
     "ename": "AttributeError",
     "evalue": "'student' object has no attribute 'name'",
     "output_type": "error",
     "traceback": [
      "\u001b[1;31m---------------------------------------------------------------------------\u001b[0m",
      "\u001b[1;31mAttributeError\u001b[0m                            Traceback (most recent call last)",
      "Cell \u001b[1;32mIn[6], line 1\u001b[0m\n\u001b[1;32m----> 1\u001b[0m \u001b[43ma\u001b[49m\u001b[38;5;241;43m.\u001b[39;49m\u001b[43mname\u001b[49m()\n",
      "\u001b[1;31mAttributeError\u001b[0m: 'student' object has no attribute 'name'"
     ]
    }
   ],
   "source": [
    "a.name()"
   ]
  },
  {
   "cell_type": "code",
   "execution_count": 7,
   "id": "fbaa6242",
   "metadata": {},
   "outputs": [],
   "source": [
    "# question may arise that we are inheriting the attribute and method of the 'user' class in the 'student' class, but when\n",
    "# we try to access the attributes of 'user' class from the object which is created from 'student' class \n",
    "# like in above code we are trying to get the 'a.name'; according to inheritance it should be print \"ashish\" but it gave error\n",
    "\n",
    "\n",
    "# the error we got because since we have created 'a' object from 'student'(child) , so, a.name() will first go inside\n",
    "# student class and there in the presence of constructor , a.name cant go to the 'user'(parent) class to get the name attribute \n",
    "# from there.\n",
    "\n",
    "\n",
    "# hence in this case if child class want to access the attribute of parent class the constructor of child class shouldn't be\n",
    "# present\n"
   ]
  },
  {
   "cell_type": "code",
   "execution_count": null,
   "id": "94a2e419",
   "metadata": {},
   "outputs": [],
   "source": []
  },
  {
   "cell_type": "code",
   "execution_count": 11,
   "id": "dfc1e4cc",
   "metadata": {},
   "outputs": [],
   "source": [
    "class user:\n",
    "    def __init__(self):\n",
    "        self.name='ashish'\n",
    "        \n",
    "    def display(self):\n",
    "        print(\"hello\")\n",
    "        \n",
    "        \n",
    "class student(user):\n",
    "    \n",
    "    def child(self):\n",
    "        print(\"this is child class\")"
   ]
  },
  {
   "cell_type": "code",
   "execution_count": null,
   "id": "796e5b37",
   "metadata": {},
   "outputs": [],
   "source": []
  },
  {
   "cell_type": "code",
   "execution_count": 12,
   "id": "ed0501ff",
   "metadata": {},
   "outputs": [],
   "source": [
    "a=student()"
   ]
  },
  {
   "cell_type": "code",
   "execution_count": 13,
   "id": "e70541af",
   "metadata": {},
   "outputs": [
    {
     "data": {
      "text/plain": [
       "'ashish'"
      ]
     },
     "execution_count": 13,
     "metadata": {},
     "output_type": "execute_result"
    }
   ],
   "source": [
    "a.name"
   ]
  },
  {
   "cell_type": "code",
   "execution_count": null,
   "id": "bc121f4f",
   "metadata": {},
   "outputs": [],
   "source": []
  },
  {
   "cell_type": "code",
   "execution_count": null,
   "id": "7cbf0fc9",
   "metadata": {},
   "outputs": [],
   "source": []
  },
  {
   "cell_type": "code",
   "execution_count": null,
   "id": "79f699b7",
   "metadata": {},
   "outputs": [],
   "source": []
  },
  {
   "cell_type": "code",
   "execution_count": null,
   "id": "ef41cb18",
   "metadata": {},
   "outputs": [],
   "source": [
    "# if the child class don't have its constructor then the constructor of the parent class is executed, and if child class has\n",
    "# its constructor then it will execute its own constructor and will not go to the parent class ka costructor\n",
    "# and hence it will cause the \n",
    "# situation that the attribute of the parent class will not be accessible by child class"
   ]
  },
  {
   "cell_type": "code",
   "execution_count": null,
   "id": "2e1d6db5",
   "metadata": {},
   "outputs": [],
   "source": []
  },
  {
   "cell_type": "code",
   "execution_count": 16,
   "id": "015112d7",
   "metadata": {},
   "outputs": [],
   "source": [
    "class Phone:\n",
    "    def __init__(self,price,brand,camera):\n",
    "        print(\"we are inside parent class constructor because i dont have my own constructor\")\n",
    "        self.price=price\n",
    "        self.camera=camera\n",
    "        self.brand=brand\n",
    "        \n",
    "    def display(self):\n",
    "        print(\"buying this phone\")\n",
    "        \n",
    "        \n",
    "class smartphone(Phone):\n",
    "    pass"
   ]
  },
  {
   "cell_type": "code",
   "execution_count": null,
   "id": "9ee58da6",
   "metadata": {},
   "outputs": [],
   "source": []
  },
  {
   "cell_type": "code",
   "execution_count": 18,
   "id": "0ce038f3",
   "metadata": {},
   "outputs": [
    {
     "name": "stdout",
     "output_type": "stream",
     "text": [
      "we are inside parent class constructor because i dont have my own constructor\n"
     ]
    }
   ],
   "source": [
    "m=smartphone(1000,\"samsung\",'57mp')"
   ]
  },
  {
   "cell_type": "code",
   "execution_count": 19,
   "id": "d76cdced",
   "metadata": {},
   "outputs": [
    {
     "name": "stdout",
     "output_type": "stream",
     "text": [
      "buying this phone\n"
     ]
    }
   ],
   "source": [
    "m.display()"
   ]
  },
  {
   "cell_type": "code",
   "execution_count": null,
   "id": "5799d78d",
   "metadata": {},
   "outputs": [],
   "source": []
  },
  {
   "cell_type": "code",
   "execution_count": null,
   "id": "d740b29d",
   "metadata": {},
   "outputs": [],
   "source": []
  },
  {
   "cell_type": "code",
   "execution_count": 20,
   "id": "e169c216",
   "metadata": {},
   "outputs": [],
   "source": [
    "class Phone:\n",
    "    def __init__(self,brand,price,camera):\n",
    "        self.__brand=brand\n",
    "        self.price=price\n",
    "        self.camera=camera\n",
    "    def show(self):\n",
    "        print(self.__brand)\n",
    "        \n",
    "        \n",
    "class samsung(Phone):\n",
    "    \n",
    "    def display(self):\n",
    "        print(\"This is child class\")"
   ]
  },
  {
   "cell_type": "code",
   "execution_count": null,
   "id": "5b21cd09",
   "metadata": {},
   "outputs": [],
   "source": []
  },
  {
   "cell_type": "code",
   "execution_count": 25,
   "id": "d6f4c95b",
   "metadata": {},
   "outputs": [],
   "source": [
    "p=samsung(\"a30s\",12000,'48mp')"
   ]
  },
  {
   "cell_type": "code",
   "execution_count": null,
   "id": "b801ec6c",
   "metadata": {},
   "outputs": [],
   "source": []
  },
  {
   "cell_type": "code",
   "execution_count": null,
   "id": "0d6a733a",
   "metadata": {},
   "outputs": [],
   "source": []
  },
  {
   "cell_type": "code",
   "execution_count": 28,
   "id": "806d10a4",
   "metadata": {},
   "outputs": [],
   "source": [
    "# accessing the private method of parent --- error because it is not inherited"
   ]
  },
  {
   "cell_type": "code",
   "execution_count": 29,
   "id": "a576cd69",
   "metadata": {},
   "outputs": [
    {
     "ename": "AttributeError",
     "evalue": "'samsung' object has no attribute '__brand'",
     "output_type": "error",
     "traceback": [
      "\u001b[1;31m---------------------------------------------------------------------------\u001b[0m",
      "\u001b[1;31mAttributeError\u001b[0m                            Traceback (most recent call last)",
      "Cell \u001b[1;32mIn[29], line 1\u001b[0m\n\u001b[1;32m----> 1\u001b[0m \u001b[43mp\u001b[49m\u001b[38;5;241;43m.\u001b[39;49m\u001b[43m__brand\u001b[49m\n",
      "\u001b[1;31mAttributeError\u001b[0m: 'samsung' object has no attribute '__brand'"
     ]
    }
   ],
   "source": [
    "p.__brand"
   ]
  },
  {
   "cell_type": "code",
   "execution_count": 30,
   "id": "a01ef960",
   "metadata": {},
   "outputs": [],
   "source": [
    "# accessing the non private method --- successful"
   ]
  },
  {
   "cell_type": "code",
   "execution_count": 31,
   "id": "96fe804f",
   "metadata": {},
   "outputs": [
    {
     "name": "stdout",
     "output_type": "stream",
     "text": [
      "a30s\n"
     ]
    }
   ],
   "source": [
    "p.show()    "
   ]
  },
  {
   "cell_type": "code",
   "execution_count": null,
   "id": "46448eb8",
   "metadata": {},
   "outputs": [],
   "source": []
  },
  {
   "cell_type": "code",
   "execution_count": 50,
   "id": "0fe242c4",
   "metadata": {},
   "outputs": [],
   "source": [
    "class A:\n",
    "    def __init__(self,var1):\n",
    "        self.var1=var1\n",
    "        \n",
    "    def display(self):\n",
    "        print(\"i am parent\")\n",
    "        \n",
    "class B(A):\n",
    "    \n",
    "    def display(self):\n",
    "        print(\"i am child\")"
   ]
  },
  {
   "cell_type": "code",
   "execution_count": null,
   "id": "da912b39",
   "metadata": {},
   "outputs": [],
   "source": []
  },
  {
   "cell_type": "code",
   "execution_count": 51,
   "id": "c5feecf8",
   "metadata": {},
   "outputs": [],
   "source": [
    "data=B(200)"
   ]
  },
  {
   "cell_type": "code",
   "execution_count": 52,
   "id": "3d06f5eb",
   "metadata": {},
   "outputs": [
    {
     "name": "stdout",
     "output_type": "stream",
     "text": [
      "i am child\n"
     ]
    }
   ],
   "source": [
    "data.display()"
   ]
  },
  {
   "cell_type": "code",
   "execution_count": null,
   "id": "f1fabdaa",
   "metadata": {},
   "outputs": [],
   "source": []
  },
  {
   "cell_type": "code",
   "execution_count": null,
   "id": "086abb95",
   "metadata": {},
   "outputs": [],
   "source": []
  },
  {
   "cell_type": "markdown",
   "id": "c0f40267",
   "metadata": {},
   "source": [
    "# super keyword"
   ]
  },
  {
   "cell_type": "code",
   "execution_count": 53,
   "id": "1e6f48a4",
   "metadata": {},
   "outputs": [],
   "source": [
    "# super keyword is use to call the method of parent class\n",
    "# we can call the constructor of parent class even if child class has its constructor with the help of super keyword"
   ]
  },
  {
   "cell_type": "code",
   "execution_count": null,
   "id": "60b77ae8",
   "metadata": {},
   "outputs": [],
   "source": []
  },
  {
   "cell_type": "code",
   "execution_count": 64,
   "id": "babf313e",
   "metadata": {},
   "outputs": [],
   "source": [
    "class parent:\n",
    "    def __init__(self,name):\n",
    "        self.name=name\n",
    "        self.money=1000\n",
    "        \n",
    "    def display(self):\n",
    "        print(\"this money is for my child\",self.name)\n",
    "        \n",
    "class child(parent):\n",
    "    def __init__(self,name,age):\n",
    "        super().__init__(name)\n",
    "        self.age=age\n",
    "        \n",
    "    def givedata(self):\n",
    "        print('this is child')"
   ]
  },
  {
   "cell_type": "code",
   "execution_count": null,
   "id": "6f3eec08",
   "metadata": {},
   "outputs": [],
   "source": []
  },
  {
   "cell_type": "code",
   "execution_count": 65,
   "id": "e828f9f0",
   "metadata": {},
   "outputs": [],
   "source": [
    "b=child('ashish',22)"
   ]
  },
  {
   "cell_type": "code",
   "execution_count": 66,
   "id": "639674db",
   "metadata": {},
   "outputs": [
    {
     "data": {
      "text/plain": [
       "'ashish'"
      ]
     },
     "execution_count": 66,
     "metadata": {},
     "output_type": "execute_result"
    }
   ],
   "source": [
    "b.name"
   ]
  },
  {
   "cell_type": "code",
   "execution_count": 67,
   "id": "41a231a5",
   "metadata": {},
   "outputs": [
    {
     "data": {
      "text/plain": [
       "22"
      ]
     },
     "execution_count": 67,
     "metadata": {},
     "output_type": "execute_result"
    }
   ],
   "source": [
    "b.age"
   ]
  },
  {
   "cell_type": "code",
   "execution_count": 68,
   "id": "bf9354fa",
   "metadata": {},
   "outputs": [
    {
     "data": {
      "text/plain": [
       "1000"
      ]
     },
     "execution_count": 68,
     "metadata": {},
     "output_type": "execute_result"
    }
   ],
   "source": [
    "b.money"
   ]
  },
  {
   "cell_type": "code",
   "execution_count": 70,
   "id": "c3404960",
   "metadata": {},
   "outputs": [
    {
     "name": "stdout",
     "output_type": "stream",
     "text": [
      "this money is for my child ashish\n"
     ]
    }
   ],
   "source": [
    "b.display()"
   ]
  },
  {
   "cell_type": "markdown",
   "id": "19fd59c5",
   "metadata": {},
   "source": [
    "# important points to remember while using super() keyword\n",
    "\n",
    "* super cannot be used ouside class\n",
    "* super should  be used always inside child class\n",
    "* super is used to access the methods of parent class, attributes of parent class cannot be accessed using super keyword"
   ]
  },
  {
   "cell_type": "code",
   "execution_count": null,
   "id": "8f3c2554",
   "metadata": {},
   "outputs": [],
   "source": []
  },
  {
   "cell_type": "code",
   "execution_count": null,
   "id": "c64d0bae",
   "metadata": {},
   "outputs": [],
   "source": []
  },
  {
   "cell_type": "code",
   "execution_count": null,
   "id": "ca9d963f",
   "metadata": {},
   "outputs": [],
   "source": []
  },
  {
   "cell_type": "code",
   "execution_count": null,
   "id": "e7e2df9c",
   "metadata": {},
   "outputs": [],
   "source": []
  },
  {
   "cell_type": "markdown",
   "id": "59b0b81b",
   "metadata": {},
   "source": [
    "# POLYMORPHISM\n",
    "\n",
    "* METHOD OVERRIDING\n",
    "* METHOD OVERLOADING\n",
    "* OPERATOR OVERLOADING"
   ]
  },
  {
   "cell_type": "code",
   "execution_count": null,
   "id": "1329fd59",
   "metadata": {},
   "outputs": [],
   "source": []
  },
  {
   "cell_type": "markdown",
   "id": "6e08ff7f",
   "metadata": {},
   "source": [
    "method overriding"
   ]
  },
  {
   "cell_type": "code",
   "execution_count": null,
   "id": "d94951e5",
   "metadata": {},
   "outputs": [],
   "source": [
    "# when the object of the child class calls a method with a name which is present in both child and parent class, then in \n",
    "# in this case parent class's method is overrided and the child class's method is called "
   ]
  },
  {
   "cell_type": "code",
   "execution_count": 31,
   "id": "7527469d",
   "metadata": {},
   "outputs": [],
   "source": [
    "# we have seen the examples of method overriding above"
   ]
  },
  {
   "cell_type": "code",
   "execution_count": null,
   "id": "b11c99ca",
   "metadata": {},
   "outputs": [],
   "source": []
  },
  {
   "cell_type": "markdown",
   "id": "9513a54b",
   "metadata": {},
   "source": [
    "method overloading    (methid overloading dosen't work in python)"
   ]
  },
  {
   "cell_type": "code",
   "execution_count": 24,
   "id": "20a61b02",
   "metadata": {},
   "outputs": [],
   "source": [
    "# two or more methods have same name and and its functioning depends on the no. of inputs\n",
    "# method oveloading dosen't work in python, the main advantage of operator overloading is to keep your code clean\n",
    "\n"
   ]
  },
  {
   "cell_type": "code",
   "execution_count": 19,
   "id": "6a173640",
   "metadata": {},
   "outputs": [],
   "source": [
    "class Shape:\n",
    "    \n",
    "    def display(self,radius):\n",
    "        return 3.14*radius*radius\n",
    "    \n",
    "    def display(self,l,b):\n",
    "        return l*b"
   ]
  },
  {
   "cell_type": "code",
   "execution_count": null,
   "id": "6f7fcf40",
   "metadata": {},
   "outputs": [],
   "source": []
  },
  {
   "cell_type": "code",
   "execution_count": 21,
   "id": "5495d7e2",
   "metadata": {},
   "outputs": [],
   "source": [
    "data=Shape()"
   ]
  },
  {
   "cell_type": "code",
   "execution_count": 23,
   "id": "f979b2a6",
   "metadata": {},
   "outputs": [
    {
     "ename": "TypeError",
     "evalue": "display() missing 1 required positional argument: 'b'",
     "output_type": "error",
     "traceback": [
      "\u001b[1;31m---------------------------------------------------------------------------\u001b[0m",
      "\u001b[1;31mTypeError\u001b[0m                                 Traceback (most recent call last)",
      "Cell \u001b[1;32mIn[23], line 1\u001b[0m\n\u001b[1;32m----> 1\u001b[0m \u001b[43mdata\u001b[49m\u001b[38;5;241;43m.\u001b[39;49m\u001b[43mdisplay\u001b[49m\u001b[43m(\u001b[49m\u001b[38;5;241;43m4\u001b[39;49m\u001b[43m)\u001b[49m\n",
      "\u001b[1;31mTypeError\u001b[0m: display() missing 1 required positional argument: 'b'"
     ]
    }
   ],
   "source": [
    "data.display(4)"
   ]
  },
  {
   "cell_type": "code",
   "execution_count": null,
   "id": "24c399cb",
   "metadata": {},
   "outputs": [],
   "source": []
  },
  {
   "cell_type": "code",
   "execution_count": 25,
   "id": "a5586b92",
   "metadata": {},
   "outputs": [],
   "source": [
    "# there is different method to apply method overloading in python, to apply operator overloading we pass default parameters"
   ]
  },
  {
   "cell_type": "code",
   "execution_count": null,
   "id": "3ce5a2bb",
   "metadata": {},
   "outputs": [],
   "source": []
  },
  {
   "cell_type": "code",
   "execution_count": 27,
   "id": "e71ed432",
   "metadata": {},
   "outputs": [],
   "source": [
    "class shape:\n",
    "    \n",
    "    def area(self, a, b=0):\n",
    "        if b==0:\n",
    "            return 3.14 * a * a\n",
    "        else:\n",
    "            return a*b\n"
   ]
  },
  {
   "cell_type": "code",
   "execution_count": 28,
   "id": "c4b8941c",
   "metadata": {},
   "outputs": [],
   "source": [
    "a=shape()"
   ]
  },
  {
   "cell_type": "code",
   "execution_count": 29,
   "id": "6deb6feb",
   "metadata": {},
   "outputs": [
    {
     "data": {
      "text/plain": [
       "113.03999999999999"
      ]
     },
     "execution_count": 29,
     "metadata": {},
     "output_type": "execute_result"
    }
   ],
   "source": [
    "a.area(6)"
   ]
  },
  {
   "cell_type": "code",
   "execution_count": 30,
   "id": "b52eedcb",
   "metadata": {},
   "outputs": [
    {
     "data": {
      "text/plain": [
       "20"
      ]
     },
     "execution_count": 30,
     "metadata": {},
     "output_type": "execute_result"
    }
   ],
   "source": [
    "a.area(4,5)"
   ]
  },
  {
   "cell_type": "code",
   "execution_count": null,
   "id": "552291db",
   "metadata": {},
   "outputs": [],
   "source": []
  },
  {
   "cell_type": "markdown",
   "id": "4f6b86cf",
   "metadata": {},
   "source": [
    " operator overloading"
   ]
  },
  {
   "cell_type": "code",
   "execution_count": 33,
   "id": "04263eb2",
   "metadata": {},
   "outputs": [],
   "source": [
    "# we a operator behave differently for differnt types of data types inputs then we can say that operator overloading is occuring\n",
    "\n",
    "# one of the best example of operator overloading is with '+' operator\n",
    "# it works with integers as well as string datatyps"
   ]
  },
  {
   "cell_type": "code",
   "execution_count": null,
   "id": "4a3395f9",
   "metadata": {},
   "outputs": [],
   "source": []
  },
  {
   "cell_type": "code",
   "execution_count": 34,
   "id": "c11a4265",
   "metadata": {},
   "outputs": [],
   "source": [
    "class operation:\n",
    "    \n",
    "    def compute(self,a,b):\n",
    "        return a+b"
   ]
  },
  {
   "cell_type": "code",
   "execution_count": 35,
   "id": "4389e6b2",
   "metadata": {},
   "outputs": [],
   "source": [
    "d=operation()"
   ]
  },
  {
   "cell_type": "code",
   "execution_count": 37,
   "id": "6eef3f35",
   "metadata": {},
   "outputs": [
    {
     "name": "stdout",
     "output_type": "stream",
     "text": [
      "102\n",
      "ashish kumar\n"
     ]
    }
   ],
   "source": [
    "print(d.compute(35,67))\n",
    "print(d.compute(\"ashish \",\"kumar\"))"
   ]
  },
  {
   "cell_type": "code",
   "execution_count": 38,
   "id": "a2c56004",
   "metadata": {},
   "outputs": [],
   "source": [
    "# we can see that we give different data types as input to the 'compute()' fuction but we got the oputput this is because of \n",
    "# operator overloading which is done by '+'"
   ]
  },
  {
   "cell_type": "code",
   "execution_count": null,
   "id": "eb23cb30",
   "metadata": {},
   "outputs": [],
   "source": []
  },
  {
   "cell_type": "code",
   "execution_count": null,
   "id": "913a61e7",
   "metadata": {},
   "outputs": [],
   "source": []
  },
  {
   "cell_type": "markdown",
   "id": "4089d321",
   "metadata": {},
   "source": [
    "# ABSTRACTION"
   ]
  },
  {
   "cell_type": "code",
   "execution_count": null,
   "id": "1e561291",
   "metadata": {},
   "outputs": [],
   "source": []
  },
  {
   "cell_type": "markdown",
   "id": "09ad444d",
   "metadata": {},
   "source": [
    "Abstraction is the concept which say that\n",
    "If a child class want to inherit the parent class, then the child class have to meet certain conditions set by parent class\n",
    "we can understand this by a simple example"
   ]
  },
  {
   "cell_type": "markdown",
   "id": "aade8d0a",
   "metadata": {},
   "source": [
    "we will uses <b>abstract class</b> which use <b>abstract method</b> "
   ]
  },
  {
   "cell_type": "markdown",
   "id": "40913e2a",
   "metadata": {},
   "source": [
    "important point about abstract class\n",
    "* a class is said to be abstract class when it contains at least one abstract method\n",
    "* we cannot make objects of abstrct class"
   ]
  },
  {
   "cell_type": "markdown",
   "id": "890da25e",
   "metadata": {},
   "source": [
    "There are two types of methods\n",
    "* abstract methods  ----> no code is present inside it; it is hidden\n",
    "* concrete methods  -----> code is written inside it"
   ]
  },
  {
   "cell_type": "code",
   "execution_count": null,
   "id": "b8020e6d",
   "metadata": {},
   "outputs": [],
   "source": []
  },
  {
   "cell_type": "code",
   "execution_count": 42,
   "id": "4bfa1d4d",
   "metadata": {},
   "outputs": [],
   "source": [
    "from abc import ABC,abstractmethod\n",
    "\n",
    "class bank(ABC):\n",
    "    def database(self):\n",
    "        print(\"access to databse\")\n",
    "        \n",
    "    @abstractmethod  \n",
    "    def security(self):\n",
    "        pass\n",
    "    \n",
    "    \n",
    "class mobileapp(bank):\n",
    "    \n",
    "    def display(self):\n",
    "        print(\"login into mobile\")"
   ]
  },
  {
   "cell_type": "code",
   "execution_count": 43,
   "id": "a055a7f3",
   "metadata": {},
   "outputs": [
    {
     "ename": "TypeError",
     "evalue": "Can't instantiate abstract class mobileapp with abstract methods security",
     "output_type": "error",
     "traceback": [
      "\u001b[1;31m---------------------------------------------------------------------------\u001b[0m",
      "\u001b[1;31mTypeError\u001b[0m                                 Traceback (most recent call last)",
      "Cell \u001b[1;32mIn[43], line 1\u001b[0m\n\u001b[1;32m----> 1\u001b[0m mob\u001b[38;5;241m=\u001b[39m\u001b[43mmobileapp\u001b[49m\u001b[43m(\u001b[49m\u001b[43m)\u001b[49m\n",
      "\u001b[1;31mTypeError\u001b[0m: Can't instantiate abstract class mobileapp with abstract methods security"
     ]
    }
   ],
   "source": [
    "mob=mobileapp()"
   ]
  },
  {
   "cell_type": "code",
   "execution_count": 44,
   "id": "3fd3843a",
   "metadata": {},
   "outputs": [],
   "source": [
    "# In  simple term by seeing the above error we can say that we can't inherit the bank class untill we add a security method \n",
    "# inside our mobileapp(child) class"
   ]
  },
  {
   "cell_type": "code",
   "execution_count": 61,
   "id": "2340edd4",
   "metadata": {},
   "outputs": [],
   "source": [
    "# parent class hide the logic that is present inside the security(abstracted method). it only shows the empty abstracted method\n",
    "# It only give msg to child class that \"if you want to inherit me, then you also have to include security inside your class\""
   ]
  },
  {
   "cell_type": "code",
   "execution_count": 53,
   "id": "08647157",
   "metadata": {},
   "outputs": [],
   "source": [
    "# as soon as we wrote the security method inside the our child class we can see parent class allowed to inherit the itself to \n",
    "# child class"
   ]
  },
  {
   "cell_type": "code",
   "execution_count": 58,
   "id": "aa87b76b",
   "metadata": {},
   "outputs": [],
   "source": [
    "class mobile(ABC):\n",
    "    \n",
    "    def database(self):\n",
    "        print(\"into the database\")\n",
    "        \n",
    "    @abstractmethod\n",
    "    def security(self):\n",
    "        pass\n",
    "        \n",
    "class samsung(mobile):\n",
    "    \n",
    "    def show(self):\n",
    "        print(\"login\")\n",
    "        \n",
    "    def security(self):\n",
    "        print(\"secured\")"
   ]
  },
  {
   "cell_type": "code",
   "execution_count": 59,
   "id": "fb3c2555",
   "metadata": {},
   "outputs": [],
   "source": [
    "d=samsung()"
   ]
  },
  {
   "cell_type": "code",
   "execution_count": 60,
   "id": "8d7b3f40",
   "metadata": {},
   "outputs": [
    {
     "name": "stdout",
     "output_type": "stream",
     "text": [
      "into the database\n",
      "None\n",
      "secured\n",
      "None\n",
      "login\n",
      "None\n"
     ]
    }
   ],
   "source": [
    "print(d.database())\n",
    "print(d.security())\n",
    "print(d.show())"
   ]
  },
  {
   "cell_type": "code",
   "execution_count": null,
   "id": "afaba4ea",
   "metadata": {},
   "outputs": [],
   "source": []
  },
  {
   "cell_type": "code",
   "execution_count": null,
   "id": "01922b91",
   "metadata": {},
   "outputs": [],
   "source": []
  },
  {
   "cell_type": "code",
   "execution_count": null,
   "id": "be465b67",
   "metadata": {},
   "outputs": [],
   "source": []
  },
  {
   "cell_type": "code",
   "execution_count": null,
   "id": "ab33ceb5",
   "metadata": {},
   "outputs": [],
   "source": []
  },
  {
   "cell_type": "code",
   "execution_count": null,
   "id": "6b7b7994",
   "metadata": {},
   "outputs": [],
   "source": []
  },
  {
   "cell_type": "code",
   "execution_count": null,
   "id": "8e4c966e",
   "metadata": {},
   "outputs": [],
   "source": []
  },
  {
   "cell_type": "code",
   "execution_count": null,
   "id": "e68fa07d",
   "metadata": {},
   "outputs": [],
   "source": []
  },
  {
   "cell_type": "code",
   "execution_count": null,
   "id": "a4c4281b",
   "metadata": {},
   "outputs": [],
   "source": []
  },
  {
   "cell_type": "code",
   "execution_count": null,
   "id": "077adf95",
   "metadata": {},
   "outputs": [],
   "source": []
  }
 ],
 "metadata": {
  "kernelspec": {
   "display_name": "Python 3 (ipykernel)",
   "language": "python",
   "name": "python3"
  },
  "language_info": {
   "codemirror_mode": {
    "name": "ipython",
    "version": 3
   },
   "file_extension": ".py",
   "mimetype": "text/x-python",
   "name": "python",
   "nbconvert_exporter": "python",
   "pygments_lexer": "ipython3",
   "version": "3.8.10"
  }
 },
 "nbformat": 4,
 "nbformat_minor": 5
}
