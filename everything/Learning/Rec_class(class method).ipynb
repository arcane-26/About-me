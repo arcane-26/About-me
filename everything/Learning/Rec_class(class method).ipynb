{
 "cells": [
  {
   "cell_type": "code",
   "execution_count": 4,
   "id": "de622a12",
   "metadata": {},
   "outputs": [],
   "source": [
    "class pwskills:\n",
    "    def __init__(self,name,email):\n",
    "        self.name=name\n",
    "        self.email=email\n",
    "        \n",
    "    def student_details(self):\n",
    "        print(self.name,self.email)"
   ]
  },
  {
   "cell_type": "code",
   "execution_count": 5,
   "id": "f6b295b9",
   "metadata": {},
   "outputs": [],
   "source": [
    "a=pwskills('ashish','ashish@gmail.com')"
   ]
  },
  {
   "cell_type": "code",
   "execution_count": 6,
   "id": "33c7f5cd",
   "metadata": {},
   "outputs": [
    {
     "name": "stdout",
     "output_type": "stream",
     "text": [
      "ashish ashish@gmail.com\n"
     ]
    }
   ],
   "source": [
    "a.student_details()"
   ]
  },
  {
   "cell_type": "code",
   "execution_count": null,
   "id": "29275b83",
   "metadata": {},
   "outputs": [],
   "source": []
  },
  {
   "cell_type": "code",
   "execution_count": null,
   "id": "5a578167",
   "metadata": {},
   "outputs": [],
   "source": []
  },
  {
   "cell_type": "code",
   "execution_count": 8,
   "id": "5e8cf3b6",
   "metadata": {},
   "outputs": [],
   "source": [
    "class avenger:\n",
    "    def __init__(self,name,power):\n",
    "        self.name=name\n",
    "        self.power=power\n",
    "        \n",
    "    @classmethod   \n",
    "    def details(cls,name,power):\n",
    "        return cls(name,power)\n",
    "    \n",
    "    def show(self):\n",
    "        print(self.name,self.power)\n",
    "        "
   ]
  },
  {
   "cell_type": "code",
   "execution_count": 10,
   "id": "1208bb70",
   "metadata": {},
   "outputs": [],
   "source": [
    "pw=avenger.details(\"iron man\",\"technology\")"
   ]
  },
  {
   "cell_type": "code",
   "execution_count": 12,
   "id": "9c4f06c2",
   "metadata": {},
   "outputs": [
    {
     "name": "stdout",
     "output_type": "stream",
     "text": [
      "iron man technology\n"
     ]
    }
   ],
   "source": [
    "pw.show()"
   ]
  },
  {
   "cell_type": "code",
   "execution_count": null,
   "id": "0272d3cc",
   "metadata": {},
   "outputs": [],
   "source": []
  },
  {
   "cell_type": "code",
   "execution_count": null,
   "id": "a038073f",
   "metadata": {},
   "outputs": [],
   "source": []
  },
  {
   "cell_type": "code",
   "execution_count": 29,
   "id": "6ce66cf9",
   "metadata": {},
   "outputs": [],
   "source": [
    "class info:\n",
    "    \n",
    "    mobile_no=9370766492\n",
    "    \n",
    "    def __init__(self,name,age):\n",
    "        self.name=name\n",
    "        self.age=age\n",
    "     \n",
    "    @classmethod\n",
    "    def change_no(cls,mob):\n",
    "        cls.mobile_no=mob\n",
    "        \n",
    "    @classmethod\n",
    "    def details(cls,name,age):\n",
    "        return cls(name,age)\n",
    "    \n",
    "    def data(self):\n",
    "        print(self.name,self.age,info.mobile_no)\n",
    "        \n",
    "        "
   ]
  },
  {
   "cell_type": "code",
   "execution_count": 35,
   "id": "67467932",
   "metadata": {},
   "outputs": [],
   "source": [
    "# we were creating class object and then using that object"
   ]
  },
  {
   "cell_type": "code",
   "execution_count": 39,
   "id": "d9307d09",
   "metadata": {},
   "outputs": [],
   "source": [
    "a=info(\"ash\",22)"
   ]
  },
  {
   "cell_type": "code",
   "execution_count": 40,
   "id": "3a43e310",
   "metadata": {},
   "outputs": [
    {
     "data": {
      "text/plain": [
       "22"
      ]
     },
     "execution_count": 40,
     "metadata": {},
     "output_type": "execute_result"
    }
   ],
   "source": [
    "a.age"
   ]
  },
  {
   "cell_type": "code",
   "execution_count": null,
   "id": "5748be86",
   "metadata": {},
   "outputs": [],
   "source": [
    "# we can also use decorator class method "
   ]
  },
  {
   "cell_type": "code",
   "execution_count": 45,
   "id": "15d7f8d7",
   "metadata": {},
   "outputs": [],
   "source": [
    "b=info.details(\"rahul\",18)"
   ]
  },
  {
   "cell_type": "code",
   "execution_count": 52,
   "id": "03f99720",
   "metadata": {},
   "outputs": [],
   "source": [
    "b.change_no(1234)"
   ]
  },
  {
   "cell_type": "code",
   "execution_count": 53,
   "id": "0925919a",
   "metadata": {},
   "outputs": [
    {
     "name": "stdout",
     "output_type": "stream",
     "text": [
      "rahul 18 1234\n"
     ]
    }
   ],
   "source": [
    "b.data()"
   ]
  },
  {
   "cell_type": "code",
   "execution_count": null,
   "id": "c78197cc",
   "metadata": {},
   "outputs": [],
   "source": []
  },
  {
   "cell_type": "code",
   "execution_count": null,
   "id": "cac776c0",
   "metadata": {},
   "outputs": [],
   "source": []
  },
  {
   "cell_type": "markdown",
   "id": "2d8e0e05",
   "metadata": {},
   "source": [
    "ADDING   A  EXTERNAL FUNCTION INSIDE A CLASS"
   ]
  },
  {
   "cell_type": "code",
   "execution_count": null,
   "id": "759445dc",
   "metadata": {},
   "outputs": [],
   "source": []
  },
  {
   "cell_type": "code",
   "execution_count": 63,
   "id": "80f54533",
   "metadata": {},
   "outputs": [],
   "source": [
    "class country:\n",
    "    \n",
    "    pm=\"Narendra modi\"\n",
    "    \n",
    "    def __init__(self,state,cm):\n",
    "        self.state=state\n",
    "        self.cm=cm\n",
    "        \n",
    "    @classmethod  \n",
    "    def information(cls,state,cm):\n",
    "        return cls(state,cm)\n",
    "    \n",
    "    def showinfo(self):\n",
    "        print(self.state,self.cm,country.pm)"
   ]
  },
  {
   "cell_type": "code",
   "execution_count": 77,
   "id": "c1360d91",
   "metadata": {},
   "outputs": [],
   "source": [
    "def party(cls,group):\n",
    "    print(group)\n",
    "    "
   ]
  },
  {
   "cell_type": "code",
   "execution_count": 78,
   "id": "acb1337a",
   "metadata": {},
   "outputs": [],
   "source": [
    "country.party=classmethod(party)"
   ]
  },
  {
   "cell_type": "code",
   "execution_count": 82,
   "id": "7fc8cb3e",
   "metadata": {},
   "outputs": [],
   "source": [
    "def ministers(cls,list_of_minister):\n",
    "    print(list_of_minister)"
   ]
  },
  {
   "cell_type": "code",
   "execution_count": 85,
   "id": "228029a7",
   "metadata": {},
   "outputs": [],
   "source": [
    "country.min=classmethod(ministers)"
   ]
  },
  {
   "cell_type": "code",
   "execution_count": null,
   "id": "1ffc27a8",
   "metadata": {},
   "outputs": [],
   "source": []
  },
  {
   "cell_type": "code",
   "execution_count": null,
   "id": "414ca274",
   "metadata": {},
   "outputs": [],
   "source": []
  },
  {
   "attachments": {
    "image.png": {
     "image/png": "[encoded data removed]"
    }
   },
   "cell_type": "markdown",
   "id": "5bf7cd01",
   "metadata": {},
   "source": [
    "![image.png](attachment:image.png)"
   ]
  },
  {
   "cell_type": "code",
   "execution_count": 97,
   "id": "947b676b",
   "metadata": {},
   "outputs": [],
   "source": [
    "# this error may occur so to avoid this we have a  parameter inside seat fun."
   ]
  },
  {
   "cell_type": "code",
   "execution_count": 94,
   "id": "0e06da41",
   "metadata": {},
   "outputs": [],
   "source": [
    "def seats(cls,data):\n",
    "    print(data)"
   ]
  },
  {
   "cell_type": "code",
   "execution_count": 95,
   "id": "00b93564",
   "metadata": {},
   "outputs": [],
   "source": [
    "country.assembly_seats=classmethod(seats)"
   ]
  },
  {
   "cell_type": "code",
   "execution_count": 96,
   "id": "ec595aa2",
   "metadata": {},
   "outputs": [
    {
     "name": "stdout",
     "output_type": "stream",
     "text": [
      "354\n"
     ]
    }
   ],
   "source": [
    "country.assembly_seats(354)"
   ]
  },
  {
   "cell_type": "code",
   "execution_count": null,
   "id": "9a426d8b",
   "metadata": {},
   "outputs": [],
   "source": []
  },
  {
   "cell_type": "code",
   "execution_count": null,
   "id": "cdae6bea",
   "metadata": {},
   "outputs": [],
   "source": []
  },
  {
   "cell_type": "code",
   "execution_count": null,
   "id": "86568af6",
   "metadata": {},
   "outputs": [],
   "source": []
  },
  {
   "cell_type": "code",
   "execution_count": null,
   "id": "c40fa7cc",
   "metadata": {},
   "outputs": [],
   "source": []
  },
  {
   "cell_type": "code",
   "execution_count": null,
   "id": "1b26be39",
   "metadata": {},
   "outputs": [],
   "source": []
  },
  {
   "cell_type": "code",
   "execution_count": 88,
   "id": "b8b86d45",
   "metadata": {},
   "outputs": [
    {
     "name": "stdout",
     "output_type": "stream",
     "text": [
      "['amit shah', 'rajnath singh']\n"
     ]
    }
   ],
   "source": [
    "country.min([\"amit shah\",\"rajnath singh\"])"
   ]
  },
  {
   "cell_type": "code",
   "execution_count": null,
   "id": "5b028da1",
   "metadata": {},
   "outputs": [],
   "source": []
  },
  {
   "cell_type": "code",
   "execution_count": 79,
   "id": "6e06b2ef",
   "metadata": {},
   "outputs": [],
   "source": [
    "india = country(\"maharashtra\",\"eknath shinde\")"
   ]
  },
  {
   "cell_type": "code",
   "execution_count": 80,
   "id": "238b4eae",
   "metadata": {},
   "outputs": [
    {
     "name": "stdout",
     "output_type": "stream",
     "text": [
      "maharashtra eknath shinde Narendra modi\n"
     ]
    }
   ],
   "source": [
    "india.showinfo()"
   ]
  },
  {
   "cell_type": "code",
   "execution_count": 81,
   "id": "6b9970ee",
   "metadata": {},
   "outputs": [
    {
     "name": "stdout",
     "output_type": "stream",
     "text": [
      "bjp\n"
     ]
    }
   ],
   "source": [
    "india.party('bjp')"
   ]
  },
  {
   "cell_type": "code",
   "execution_count": null,
   "id": "3c9e52a0",
   "metadata": {},
   "outputs": [],
   "source": []
  },
  {
   "cell_type": "code",
   "execution_count": null,
   "id": "ffd6aa62",
   "metadata": {},
   "outputs": [],
   "source": []
  },
  {
   "cell_type": "markdown",
   "id": "d7922bca",
   "metadata": {},
   "source": [
    " DELETING A METHOD OR ATTRIBUTE PRESENT INSIDE CLASS\n",
    " \n",
    " we can delete by two ways\n",
    " * using 'del' keyword followed by class_name.class_method\n",
    " * using 'delattr()'  =====>  delattr(class_name,\"method/attribute we want to delete in string\")"
   ]
  },
  {
   "cell_type": "code",
   "execution_count": null,
   "id": "12a22237",
   "metadata": {},
   "outputs": [],
   "source": []
  },
  {
   "attachments": {
    "image.png": {
     "image/png": "[encoded data removed]"
    }
   },
   "cell_type": "markdown",
   "id": "71496985",
   "metadata": {},
   "source": [
    "![image.png](attachment:image.png)"
   ]
  },
  {
   "cell_type": "code",
   "execution_count": null,
   "id": "419dba96",
   "metadata": {},
   "outputs": [],
   "source": []
  },
  {
   "cell_type": "code",
   "execution_count": 98,
   "id": "a8a2fdf6",
   "metadata": {},
   "outputs": [],
   "source": [
    "# we can see that we have assembly class method and we want to delete it"
   ]
  },
  {
   "cell_type": "code",
   "execution_count": 100,
   "id": "d247e802",
   "metadata": {},
   "outputs": [],
   "source": [
    "del country.assembly"
   ]
  },
  {
   "attachments": {
    "image.png": {
     "image/png": "[encoded data removed]"
    }
   },
   "cell_type": "markdown",
   "id": "e304c24e",
   "metadata": {},
   "source": [
    "![image.png](attachment:image.png)"
   ]
  },
  {
   "cell_type": "code",
   "execution_count": 101,
   "id": "5dda5905",
   "metadata": {},
   "outputs": [],
   "source": [
    "# now we can see that assembly class method is deleted"
   ]
  },
  {
   "cell_type": "code",
   "execution_count": null,
   "id": "111f4f66",
   "metadata": {},
   "outputs": [],
   "source": []
  },
  {
   "cell_type": "code",
   "execution_count": null,
   "id": "4fcd0974",
   "metadata": {},
   "outputs": [],
   "source": []
  },
  {
   "cell_type": "code",
   "execution_count": 102,
   "id": "45816efa",
   "metadata": {},
   "outputs": [],
   "source": [
    "delattr(country,'showinfo')"
   ]
  },
  {
   "attachments": {
    "image.png": {
     "image/png": "[encoded data removed]"
    }
   },
   "cell_type": "markdown",
   "id": "730f9881",
   "metadata": {},
   "source": [
    "![image.png](attachment:image.png)"
   ]
  },
  {
   "cell_type": "code",
   "execution_count": 103,
   "id": "fde3e982",
   "metadata": {},
   "outputs": [],
   "source": [
    "# we have deleted one more method using delattr()"
   ]
  },
  {
   "cell_type": "code",
   "execution_count": 106,
   "id": "ec6b02a1",
   "metadata": {},
   "outputs": [],
   "source": [
    "# we have deleted static variable pm"
   ]
  },
  {
   "cell_type": "code",
   "execution_count": 105,
   "id": "933270d4",
   "metadata": {},
   "outputs": [],
   "source": [
    "delattr(country,'pm')"
   ]
  },
  {
   "attachments": {
    "image.png": {
     "image/png": "[encoded data removed]"
    }
   },
   "cell_type": "markdown",
   "id": "f4c1c07d",
   "metadata": {},
   "source": [
    "![image.png](attachment:image.png)"
   ]
  },
  {
   "cell_type": "code",
   "execution_count": null,
   "id": "6c9cc4ef",
   "metadata": {},
   "outputs": [],
   "source": []
  }
 ],
 "metadata": {
  "kernelspec": {
   "display_name": "Python 3 (ipykernel)",
   "language": "python",
   "name": "python3"
  },
  "language_info": {
   "codemirror_mode": {
    "name": "ipython",
    "version": 3
   },
   "file_extension": ".py",
   "mimetype": "text/x-python",
   "name": "python",
   "nbconvert_exporter": "python",
   "pygments_lexer": "ipython3",
   "version": "3.8.10"
  }
 },
 "nbformat": 4,
 "nbformat_minor": 5
}
