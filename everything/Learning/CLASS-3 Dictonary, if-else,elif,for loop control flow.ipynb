{
 "cells": [
  {
   "cell_type": "code",
   "execution_count": 1,
   "id": "cff5385a",
   "metadata": {},
   "outputs": [],
   "source": [
    "# Dictonary"
   ]
  },
  {
   "cell_type": "code",
   "execution_count": 2,
   "id": "3e1bfe57",
   "metadata": {},
   "outputs": [],
   "source": [
    "d={}"
   ]
  },
  {
   "cell_type": "code",
   "execution_count": 3,
   "id": "c6188aee",
   "metadata": {},
   "outputs": [
    {
     "data": {
      "text/plain": [
       "dict"
      ]
     },
     "execution_count": 3,
     "metadata": {},
     "output_type": "execute_result"
    }
   ],
   "source": [
    "type(d)"
   ]
  },
  {
   "cell_type": "code",
   "execution_count": 4,
   "id": "9a8c8eb4",
   "metadata": {},
   "outputs": [],
   "source": [
    "d1={'key':'sudh'}"
   ]
  },
  {
   "cell_type": "code",
   "execution_count": 5,
   "id": "ec6fc1ee",
   "metadata": {},
   "outputs": [
    {
     "data": {
      "text/plain": [
       "{'key': 'sudh'}"
      ]
     },
     "execution_count": 5,
     "metadata": {},
     "output_type": "execute_result"
    }
   ],
   "source": [
    "d1"
   ]
  },
  {
   "cell_type": "code",
   "execution_count": 6,
   "id": "9deb1420",
   "metadata": {},
   "outputs": [],
   "source": [
    "d2={'name':'sudhanshu','email':'ss@gmail.com','number':334534}"
   ]
  },
  {
   "cell_type": "code",
   "execution_count": 7,
   "id": "b253d3fe",
   "metadata": {},
   "outputs": [
    {
     "data": {
      "text/plain": [
       "{'name': 'sudhanshu', 'email': 'ss@gmail.com', 'number': 334534}"
      ]
     },
     "execution_count": 7,
     "metadata": {},
     "output_type": "execute_result"
    }
   ],
   "source": [
    "d2"
   ]
  },
  {
   "cell_type": "code",
   "execution_count": 8,
   "id": "eedf1ccc",
   "metadata": {},
   "outputs": [],
   "source": [
    "d3={234:'sudh', \"@wer\":\"kumar\", True:2324}"
   ]
  },
  {
   "cell_type": "code",
   "execution_count": 9,
   "id": "d0b8c347",
   "metadata": {},
   "outputs": [],
   "source": [
    "# we can't take special case characters as a key or we can do one thing the whatever special charater we want to take\n",
    "# we have to enclose it in single or double quotes\n",
    "\n",
    "# @wer : 22  => not allowed\n",
    "# '@wer': 22 => allowed\n",
    "# True : 22  => allowed  --- bool values ar allowed as a key"
   ]
  },
  {
   "cell_type": "code",
   "execution_count": null,
   "id": "e1e183dd",
   "metadata": {},
   "outputs": [],
   "source": []
  },
  {
   "cell_type": "code",
   "execution_count": null,
   "id": "b1d8587b",
   "metadata": {},
   "outputs": [],
   "source": []
  },
  {
   "cell_type": "code",
   "execution_count": 10,
   "id": "5ce0ca30",
   "metadata": {},
   "outputs": [
    {
     "data": {
      "text/plain": [
       "{234: 'sudh', '@wer': 'kumar', True: 2324}"
      ]
     },
     "execution_count": 10,
     "metadata": {},
     "output_type": "execute_result"
    }
   ],
   "source": [
    "d3"
   ]
  },
  {
   "cell_type": "code",
   "execution_count": 11,
   "id": "0f64d5b6",
   "metadata": {},
   "outputs": [
    {
     "data": {
      "text/plain": [
       "'sudh'"
      ]
     },
     "execution_count": 11,
     "metadata": {},
     "output_type": "execute_result"
    }
   ],
   "source": [
    "d3[234]"
   ]
  },
  {
   "cell_type": "code",
   "execution_count": 12,
   "id": "0935758c",
   "metadata": {},
   "outputs": [
    {
     "data": {
      "text/plain": [
       "2324"
      ]
     },
     "execution_count": 12,
     "metadata": {},
     "output_type": "execute_result"
    }
   ],
   "source": [
    "d3[1]    # Internally True is saved as 1 "
   ]
  },
  {
   "cell_type": "code",
   "execution_count": 13,
   "id": "1892bd5a",
   "metadata": {},
   "outputs": [],
   "source": [
    "d4={'name':'sudh','mail_id':'ss@gmail.com','name':'sudhansh'}"
   ]
  },
  {
   "cell_type": "code",
   "execution_count": 14,
   "id": "88b6a401",
   "metadata": {},
   "outputs": [
    {
     "data": {
      "text/plain": [
       "{'name': 'sudhansh', 'mail_id': 'ss@gmail.com'}"
      ]
     },
     "execution_count": 14,
     "metadata": {},
     "output_type": "execute_result"
    }
   ],
   "source": [
    "d4"
   ]
  },
  {
   "cell_type": "code",
   "execution_count": 15,
   "id": "64242924",
   "metadata": {},
   "outputs": [
    {
     "data": {
      "text/plain": [
       "'sudhansh'"
      ]
     },
     "execution_count": 15,
     "metadata": {},
     "output_type": "execute_result"
    }
   ],
   "source": [
    "d4['name']"
   ]
  },
  {
   "cell_type": "code",
   "execution_count": 16,
   "id": "5bbc8d40",
   "metadata": {},
   "outputs": [],
   "source": [
    "# latest 'name' key:value is considered and previous 'name' key:value pair is overwritten "
   ]
  },
  {
   "cell_type": "code",
   "execution_count": null,
   "id": "9ee9b2ed",
   "metadata": {},
   "outputs": [],
   "source": []
  },
  {
   "cell_type": "code",
   "execution_count": null,
   "id": "9ad3e818",
   "metadata": {},
   "outputs": [],
   "source": []
  },
  {
   "cell_type": "code",
   "execution_count": 17,
   "id": "4dcfda88",
   "metadata": {},
   "outputs": [],
   "source": [
    "d5={'company':'pwskills','courses':['wevdev','data science','java with dsa and system design']}"
   ]
  },
  {
   "cell_type": "code",
   "execution_count": 18,
   "id": "b5ca782b",
   "metadata": {},
   "outputs": [
    {
     "data": {
      "text/plain": [
       "{'company': 'pwskills',\n",
       " 'courses': ['wevdev', 'data science', 'java with dsa and system design']}"
      ]
     },
     "execution_count": 18,
     "metadata": {},
     "output_type": "execute_result"
    }
   ],
   "source": [
    "d5"
   ]
  },
  {
   "cell_type": "code",
   "execution_count": 19,
   "id": "77680f25",
   "metadata": {},
   "outputs": [
    {
     "data": {
      "text/plain": [
       "'data science'"
      ]
     },
     "execution_count": 19,
     "metadata": {},
     "output_type": "execute_result"
    }
   ],
   "source": [
    "d5['courses'][1]"
   ]
  },
  {
   "cell_type": "code",
   "execution_count": null,
   "id": "ff9decca",
   "metadata": {},
   "outputs": [],
   "source": []
  },
  {
   "cell_type": "code",
   "execution_count": null,
   "id": "1ec49580",
   "metadata": {},
   "outputs": [],
   "source": []
  },
  {
   "cell_type": "code",
   "execution_count": null,
   "id": "6c0a1d95",
   "metadata": {},
   "outputs": [],
   "source": []
  },
  {
   "cell_type": "code",
   "execution_count": 20,
   "id": "5713e418",
   "metadata": {},
   "outputs": [],
   "source": [
    "d6={'number':[2,3,4,5],  \n",
    "    'assignment':(33,45,67,87),\n",
    "    ' launch_date':{28,12,14},\n",
    "    'class_time':{\"webdev\":8,\"data_science_masters\":8,\n",
    "                  \"java with dsa and system design\":7}}"
   ]
  },
  {
   "cell_type": "code",
   "execution_count": 21,
   "id": "2165bb2d",
   "metadata": {},
   "outputs": [
    {
     "data": {
      "text/plain": [
       "{'number': [2, 3, 4, 5],\n",
       " 'assignment': (33, 45, 67, 87),\n",
       " ' launch_date': {12, 14, 28},\n",
       " 'class_time': {'webdev': 8,\n",
       "  'data_science_masters': 8,\n",
       "  'java with dsa and system design': 7}}"
      ]
     },
     "execution_count": 21,
     "metadata": {},
     "output_type": "execute_result"
    }
   ],
   "source": [
    "d6"
   ]
  },
  {
   "cell_type": "code",
   "execution_count": 22,
   "id": "c1041771",
   "metadata": {},
   "outputs": [
    {
     "data": {
      "text/plain": [
       "7"
      ]
     },
     "execution_count": 22,
     "metadata": {},
     "output_type": "execute_result"
    }
   ],
   "source": [
    "d6['class_time']['java with dsa and system design']"
   ]
  },
  {
   "cell_type": "code",
   "execution_count": 23,
   "id": "be9e412e",
   "metadata": {},
   "outputs": [
    {
     "data": {
      "text/plain": [
       "{'number': [2, 3, 4, 5],\n",
       " 'assignment': (33, 45, 67, 87),\n",
       " ' launch_date': {12, 14, 28},\n",
       " 'class_time': {'webdev': 8,\n",
       "  'data_science_masters': 8,\n",
       "  'java with dsa and system design': 7}}"
      ]
     },
     "execution_count": 23,
     "metadata": {},
     "output_type": "execute_result"
    }
   ],
   "source": [
    "d6"
   ]
  },
  {
   "cell_type": "code",
   "execution_count": 24,
   "id": "22f95820",
   "metadata": {},
   "outputs": [],
   "source": [
    "d6['mentor']=[\"sudhanshu\",\"krish\",\"anurag\",\"haider\"]"
   ]
  },
  {
   "cell_type": "code",
   "execution_count": 25,
   "id": "77b57ede",
   "metadata": {},
   "outputs": [],
   "source": [
    "# adding a new key inside a dictonary"
   ]
  },
  {
   "cell_type": "code",
   "execution_count": null,
   "id": "70feafc7",
   "metadata": {},
   "outputs": [],
   "source": []
  },
  {
   "cell_type": "code",
   "execution_count": 26,
   "id": "3d6d46ed",
   "metadata": {},
   "outputs": [
    {
     "data": {
      "text/plain": [
       "{'number': [2, 3, 4, 5],\n",
       " 'assignment': (33, 45, 67, 87),\n",
       " ' launch_date': {12, 14, 28},\n",
       " 'class_time': {'webdev': 8,\n",
       "  'data_science_masters': 8,\n",
       "  'java with dsa and system design': 7},\n",
       " 'mentor': ['sudhanshu', 'krish', 'anurag', 'haider']}"
      ]
     },
     "execution_count": 26,
     "metadata": {},
     "output_type": "execute_result"
    }
   ],
   "source": [
    "d6"
   ]
  },
  {
   "cell_type": "code",
   "execution_count": 27,
   "id": "38517da3",
   "metadata": {},
   "outputs": [],
   "source": [
    "del d6['number']   # deleting a key value from the dictonary"
   ]
  },
  {
   "cell_type": "code",
   "execution_count": 28,
   "id": "47a8a248",
   "metadata": {},
   "outputs": [
    {
     "data": {
      "text/plain": [
       "{'assignment': (33, 45, 67, 87),\n",
       " ' launch_date': {12, 14, 28},\n",
       " 'class_time': {'webdev': 8,\n",
       "  'data_science_masters': 8,\n",
       "  'java with dsa and system design': 7},\n",
       " 'mentor': ['sudhanshu', 'krish', 'anurag', 'haider']}"
      ]
     },
     "execution_count": 28,
     "metadata": {},
     "output_type": "execute_result"
    }
   ],
   "source": [
    "d6"
   ]
  },
  {
   "cell_type": "code",
   "execution_count": null,
   "id": "df5d0018",
   "metadata": {},
   "outputs": [],
   "source": []
  },
  {
   "cell_type": "code",
   "execution_count": null,
   "id": "65bd8462",
   "metadata": {},
   "outputs": [],
   "source": []
  },
  {
   "cell_type": "code",
   "execution_count": 29,
   "id": "8db6e1ac",
   "metadata": {},
   "outputs": [
    {
     "data": {
      "text/plain": [
       "dict_keys(['assignment', ' launch_date', 'class_time', 'mentor'])"
      ]
     },
     "execution_count": 29,
     "metadata": {},
     "output_type": "execute_result"
    }
   ],
   "source": [
    "d6.keys()"
   ]
  },
  {
   "cell_type": "code",
   "execution_count": 30,
   "id": "2453ee12",
   "metadata": {},
   "outputs": [],
   "source": [
    "keys= list(d6.keys())"
   ]
  },
  {
   "cell_type": "code",
   "execution_count": 31,
   "id": "d39fd312",
   "metadata": {},
   "outputs": [
    {
     "data": {
      "text/plain": [
       "['assignment', ' launch_date', 'class_time', 'mentor']"
      ]
     },
     "execution_count": 31,
     "metadata": {},
     "output_type": "execute_result"
    }
   ],
   "source": [
    "keys"
   ]
  },
  {
   "cell_type": "code",
   "execution_count": null,
   "id": "c4b839df",
   "metadata": {},
   "outputs": [],
   "source": []
  },
  {
   "cell_type": "code",
   "execution_count": null,
   "id": "893ece76",
   "metadata": {},
   "outputs": [],
   "source": []
  },
  {
   "cell_type": "code",
   "execution_count": null,
   "id": "314e49d3",
   "metadata": {},
   "outputs": [],
   "source": []
  },
  {
   "cell_type": "code",
   "execution_count": 32,
   "id": "f8ed10d5",
   "metadata": {},
   "outputs": [
    {
     "data": {
      "text/plain": [
       "dict_values([(33, 45, 67, 87), {28, 12, 14}, {'webdev': 8, 'data_science_masters': 8, 'java with dsa and system design': 7}, ['sudhanshu', 'krish', 'anurag', 'haider']])"
      ]
     },
     "execution_count": 32,
     "metadata": {},
     "output_type": "execute_result"
    }
   ],
   "source": [
    "d6.values()"
   ]
  },
  {
   "cell_type": "code",
   "execution_count": 33,
   "id": "fbe13163",
   "metadata": {},
   "outputs": [],
   "source": [
    "val=list(d6.values())"
   ]
  },
  {
   "cell_type": "code",
   "execution_count": 34,
   "id": "b5764eeb",
   "metadata": {},
   "outputs": [
    {
     "data": {
      "text/plain": [
       "[(33, 45, 67, 87),\n",
       " {12, 14, 28},\n",
       " {'webdev': 8,\n",
       "  'data_science_masters': 8,\n",
       "  'java with dsa and system design': 7},\n",
       " ['sudhanshu', 'krish', 'anurag', 'haider']]"
      ]
     },
     "execution_count": 34,
     "metadata": {},
     "output_type": "execute_result"
    }
   ],
   "source": [
    "val"
   ]
  },
  {
   "cell_type": "code",
   "execution_count": null,
   "id": "3205a65d",
   "metadata": {},
   "outputs": [],
   "source": []
  },
  {
   "cell_type": "code",
   "execution_count": null,
   "id": "cf0ad2df",
   "metadata": {},
   "outputs": [],
   "source": []
  },
  {
   "cell_type": "code",
   "execution_count": null,
   "id": "7614380c",
   "metadata": {},
   "outputs": [],
   "source": []
  },
  {
   "cell_type": "code",
   "execution_count": 35,
   "id": "86e405e5",
   "metadata": {},
   "outputs": [
    {
     "data": {
      "text/plain": [
       "dict_items([('assignment', (33, 45, 67, 87)), (' launch_date', {28, 12, 14}), ('class_time', {'webdev': 8, 'data_science_masters': 8, 'java with dsa and system design': 7}), ('mentor', ['sudhanshu', 'krish', 'anurag', 'haider'])])"
      ]
     },
     "execution_count": 35,
     "metadata": {},
     "output_type": "execute_result"
    }
   ],
   "source": [
    "d6.items()"
   ]
  },
  {
   "cell_type": "code",
   "execution_count": 36,
   "id": "6fabd703",
   "metadata": {},
   "outputs": [],
   "source": [
    "items=list(d6.items())"
   ]
  },
  {
   "cell_type": "code",
   "execution_count": 37,
   "id": "bf5d894d",
   "metadata": {},
   "outputs": [
    {
     "data": {
      "text/plain": [
       "[('assignment', (33, 45, 67, 87)),\n",
       " (' launch_date', {12, 14, 28}),\n",
       " ('class_time',\n",
       "  {'webdev': 8,\n",
       "   'data_science_masters': 8,\n",
       "   'java with dsa and system design': 7}),\n",
       " ('mentor', ['sudhanshu', 'krish', 'anurag', 'haider'])]"
      ]
     },
     "execution_count": 37,
     "metadata": {},
     "output_type": "execute_result"
    }
   ],
   "source": [
    "items"
   ]
  },
  {
   "cell_type": "code",
   "execution_count": 38,
   "id": "7d78707e",
   "metadata": {},
   "outputs": [],
   "source": [
    "# converted key:value pair into list of tuple"
   ]
  },
  {
   "cell_type": "code",
   "execution_count": 42,
   "id": "ecaf1090",
   "metadata": {},
   "outputs": [
    {
     "data": {
      "text/plain": [
       "{'assignment': (33, 45, 67, 87),\n",
       " ' launch_date': {12, 14, 28},\n",
       " 'class_time': {'webdev': 8,\n",
       "  'data_science_masters': 8,\n",
       "  'java with dsa and system design': 7},\n",
       " 'mentor': ['sudhanshu', 'krish', 'anurag', 'haider']}"
      ]
     },
     "execution_count": 42,
     "metadata": {},
     "output_type": "execute_result"
    }
   ],
   "source": [
    "d6"
   ]
  },
  {
   "cell_type": "code",
   "execution_count": 43,
   "id": "80c815a3",
   "metadata": {},
   "outputs": [
    {
     "data": {
      "text/plain": [
       "(33, 45, 67, 87)"
      ]
     },
     "execution_count": 43,
     "metadata": {},
     "output_type": "execute_result"
    }
   ],
   "source": [
    "d6.pop('assignment')"
   ]
  },
  {
   "cell_type": "code",
   "execution_count": null,
   "id": "e13f1c6a",
   "metadata": {},
   "outputs": [],
   "source": []
  },
  {
   "cell_type": "code",
   "execution_count": 44,
   "id": "40a31cbc",
   "metadata": {},
   "outputs": [
    {
     "data": {
      "text/plain": [
       "{' launch_date': {12, 14, 28},\n",
       " 'class_time': {'webdev': 8,\n",
       "  'data_science_masters': 8,\n",
       "  'java with dsa and system design': 7},\n",
       " 'mentor': ['sudhanshu', 'krish', 'anurag', 'haider']}"
      ]
     },
     "execution_count": 44,
     "metadata": {},
     "output_type": "execute_result"
    }
   ],
   "source": [
    "d6"
   ]
  },
  {
   "cell_type": "code",
   "execution_count": null,
   "id": "19663c95",
   "metadata": {},
   "outputs": [],
   "source": []
  },
  {
   "cell_type": "code",
   "execution_count": null,
   "id": "6b4ba934",
   "metadata": {},
   "outputs": [],
   "source": []
  },
  {
   "cell_type": "code",
   "execution_count": null,
   "id": "3b9215d5",
   "metadata": {},
   "outputs": [],
   "source": []
  },
  {
   "cell_type": "code",
   "execution_count": 39,
   "id": "97b94103",
   "metadata": {},
   "outputs": [
    {
     "ename": "TypeError",
     "evalue": "pop expected at least 1 argument, got 0",
     "output_type": "error",
     "traceback": [
      "\u001b[1;31m---------------------------------------------------------------------------\u001b[0m",
      "\u001b[1;31mTypeError\u001b[0m                                 Traceback (most recent call last)",
      "Cell \u001b[1;32mIn[39], line 1\u001b[0m\n\u001b[1;32m----> 1\u001b[0m \u001b[43md6\u001b[49m\u001b[38;5;241;43m.\u001b[39;49m\u001b[43mpop\u001b[49m\u001b[43m(\u001b[49m\u001b[43m)\u001b[49m\n",
      "\u001b[1;31mTypeError\u001b[0m: pop expected at least 1 argument, got 0"
     ]
    }
   ],
   "source": [
    "d6.pop()"
   ]
  },
  {
   "cell_type": "code",
   "execution_count": null,
   "id": "35b09884",
   "metadata": {},
   "outputs": [],
   "source": []
  },
  {
   "cell_type": "code",
   "execution_count": null,
   "id": "1df3e5c7",
   "metadata": {},
   "outputs": [],
   "source": []
  },
  {
   "cell_type": "code",
   "execution_count": null,
   "id": "fa86f0ef",
   "metadata": {},
   "outputs": [],
   "source": []
  },
  {
   "cell_type": "code",
   "execution_count": 41,
   "id": "1a516143",
   "metadata": {},
   "outputs": [
    {
     "ename": "IndentationError",
     "evalue": "expected an indented block (69038896.py, line 2)",
     "output_type": "error",
     "traceback": [
      "\u001b[1;36m  Cell \u001b[1;32mIn[41], line 2\u001b[1;36m\u001b[0m\n\u001b[1;33m    print(\"you will be a part of A0 batch\")\u001b[0m\n\u001b[1;37m    ^\u001b[0m\n\u001b[1;31mIndentationError\u001b[0m\u001b[1;31m:\u001b[0m expected an indented block\n"
     ]
    }
   ],
   "source": [
    "if marks >= 80:\n",
    "print(\"you will be a part of A0 batch\")"
   ]
  },
  {
   "cell_type": "code",
   "execution_count": null,
   "id": "6fffc4b8",
   "metadata": {},
   "outputs": [],
   "source": []
  },
  {
   "cell_type": "code",
   "execution_count": null,
   "id": "6b5aa051",
   "metadata": {},
   "outputs": [],
   "source": []
  },
  {
   "cell_type": "code",
   "execution_count": null,
   "id": "f6d2ea9e",
   "metadata": {},
   "outputs": [],
   "source": []
  },
  {
   "cell_type": "code",
   "execution_count": 59,
   "id": "48ffc2cc",
   "metadata": {},
   "outputs": [
    {
     "name": "stdout",
     "output_type": "stream",
     "text": [
      "you will be part of A1 batch\n"
     ]
    }
   ],
   "source": [
    "marks=67\n",
    "\n",
    "\n",
    "if marks>=80:\n",
    "    print(\"you will be part of A0 batch\")\n",
    "elif marks>=60 and marks<80:\n",
    "    print(\"you will be part of A1 batch\")\n",
    "elif marks>=40 and marks<60:\n",
    "    print(\"you will be part of A2 batch\")\n",
    "else:\n",
    "    print(\"you will be part of A3 batch\")"
   ]
  },
  {
   "cell_type": "code",
   "execution_count": null,
   "id": "71cebc52",
   "metadata": {},
   "outputs": [],
   "source": []
  },
  {
   "cell_type": "code",
   "execution_count": null,
   "id": "67b221d4",
   "metadata": {},
   "outputs": [],
   "source": []
  },
  {
   "cell_type": "code",
   "execution_count": 65,
   "id": "2f583b1d",
   "metadata": {},
   "outputs": [
    {
     "name": "stdout",
     "output_type": "stream",
     "text": [
      "enter your marks: 32\n",
      "you will be part of A3 batch\n"
     ]
    }
   ],
   "source": [
    "marks=int(input(\"enter your marks: \"))\n",
    "\n",
    "\n",
    "\n",
    "\n",
    "if marks>=80:\n",
    "    print(\"you will be part of A0 batch\")\n",
    "elif marks>=60 and marks<80:\n",
    "    print(\"you will be part of A1 batch\")\n",
    "elif marks>=40 and marks<60:\n",
    "    print(\"you will be part of A2 batch\")\n",
    "else:\n",
    "    print(\"you will be part of A3 batch\")"
   ]
  },
  {
   "cell_type": "code",
   "execution_count": null,
   "id": "177227c3",
   "metadata": {},
   "outputs": [],
   "source": []
  },
  {
   "cell_type": "code",
   "execution_count": null,
   "id": "a3ff9548",
   "metadata": {},
   "outputs": [],
   "source": []
  },
  {
   "cell_type": "code",
   "execution_count": null,
   "id": "b22bd874",
   "metadata": {},
   "outputs": [],
   "source": []
  },
  {
   "cell_type": "code",
   "execution_count": 66,
   "id": "2a9bafc8",
   "metadata": {},
   "outputs": [
    {
     "name": "stdout",
     "output_type": "stream",
     "text": [
      "enter the price: 456\n",
      "I will purchase\n"
     ]
    }
   ],
   "source": [
    "price=int(input(\"enter the price: \"))\n",
    "\n",
    "if price>1000:\n",
    "    print(\"I will not purchase\")\n",
    "else:\n",
    "    print(\"I will purchase\")"
   ]
  },
  {
   "cell_type": "code",
   "execution_count": null,
   "id": "33b7096f",
   "metadata": {},
   "outputs": [],
   "source": []
  },
  {
   "cell_type": "code",
   "execution_count": null,
   "id": "54c8122c",
   "metadata": {},
   "outputs": [],
   "source": []
  },
  {
   "cell_type": "code",
   "execution_count": 72,
   "id": "40396a26",
   "metadata": {},
   "outputs": [
    {
     "name": "stdout",
     "output_type": "stream",
     "text": [
      "enter the price: 23\n",
      "i will purchase\n"
     ]
    }
   ],
   "source": [
    "price=int(input(\"enter the price: \"))\n",
    "\n",
    "if price>1000:\n",
    "    print(\"I will not purchase\")\n",
    "    \n",
    "    if price>5000:\n",
    "        print(\"price is too much\")\n",
    "    elif price<2000:\n",
    "        print(\"It's ok\")\n",
    "elif price<1000:\n",
    "    print(\"i will purchase\")\n",
    "else:\n",
    "    print(\"not intrested\")\n",
    "        \n"
   ]
  },
  {
   "cell_type": "code",
   "execution_count": null,
   "id": "44bd4181",
   "metadata": {},
   "outputs": [],
   "source": []
  },
  {
   "cell_type": "code",
   "execution_count": null,
   "id": "61209787",
   "metadata": {},
   "outputs": [],
   "source": []
  },
  {
   "cell_type": "code",
   "execution_count": 73,
   "id": "77454456",
   "metadata": {},
   "outputs": [],
   "source": [
    "l=[1,2,3,4,5,6,7,8]"
   ]
  },
  {
   "cell_type": "code",
   "execution_count": 74,
   "id": "05800396",
   "metadata": {},
   "outputs": [
    {
     "data": {
      "text/plain": [
       "[1, 2, 3, 4, 5, 6, 7, 8]"
      ]
     },
     "execution_count": 74,
     "metadata": {},
     "output_type": "execute_result"
    }
   ],
   "source": [
    "l"
   ]
  },
  {
   "cell_type": "code",
   "execution_count": 83,
   "id": "4745e181",
   "metadata": {},
   "outputs": [
    {
     "data": {
      "text/plain": [
       "[2, 3, 4, 5, 6, 7, 8, 9]"
      ]
     },
     "execution_count": 83,
     "metadata": {},
     "output_type": "execute_result"
    }
   ],
   "source": [
    "l=[1,2,3,4,5,6,7,8]\n",
    "l1=[]\n",
    "\n",
    "for i in l:\n",
    "    i=i+1\n",
    "    l1.append(i)\n",
    "    \n",
    "l1\n",
    "    \n"
   ]
  },
  {
   "cell_type": "code",
   "execution_count": null,
   "id": "88b90bf7",
   "metadata": {},
   "outputs": [],
   "source": []
  },
  {
   "cell_type": "code",
   "execution_count": null,
   "id": "506308fd",
   "metadata": {},
   "outputs": [],
   "source": [
    "#convert elemets in list in uppercase"
   ]
  },
  {
   "cell_type": "code",
   "execution_count": 84,
   "id": "6dad0126",
   "metadata": {},
   "outputs": [
    {
     "data": {
      "text/plain": [
       "['SUDH', 'KUMAR', 'PWSKILLS', 'COURSES']"
      ]
     },
     "execution_count": 84,
     "metadata": {},
     "output_type": "execute_result"
    }
   ],
   "source": [
    "l=['sudh','kumar','pwskills','courses']\n",
    "l1=[]\n",
    "\n",
    "for i in l:\n",
    "    l1.append(i.upper())\n",
    "    \n",
    "l1\n"
   ]
  },
  {
   "cell_type": "code",
   "execution_count": null,
   "id": "91562d61",
   "metadata": {},
   "outputs": [],
   "source": []
  },
  {
   "cell_type": "code",
   "execution_count": null,
   "id": "e14b2d0a",
   "metadata": {},
   "outputs": [],
   "source": [
    "# divide the elements of list into seperate list of numbers and strings"
   ]
  },
  {
   "cell_type": "code",
   "execution_count": 89,
   "id": "5ae7ba87",
   "metadata": {},
   "outputs": [
    {
     "name": "stdout",
     "output_type": "stream",
     "text": [
      "[1, 2, 3, 4, 12.96, 45, 34.55]\n",
      "['sudh', 'abc']\n"
     ]
    }
   ],
   "source": [
    "l=[1,2,3,4,'sudh',12.96,45,34.55,'abc']\n",
    "list_num=[]\n",
    "list_str=[]\n",
    "\n",
    "for i in l:\n",
    "    if type(i)==int or type(i)==float:\n",
    "        list_num.append(i)\n",
    "    else:\n",
    "        list_str.append(i)\n",
    "        \n",
    "    \n",
    "        \n",
    "print(list_num)\n",
    "print(list_str)\n",
    "\n",
    "        "
   ]
  },
  {
   "cell_type": "code",
   "execution_count": null,
   "id": "bd1d3f18",
   "metadata": {},
   "outputs": [],
   "source": []
  },
  {
   "cell_type": "code",
   "execution_count": null,
   "id": "555f3ab1",
   "metadata": {},
   "outputs": [],
   "source": []
  },
  {
   "cell_type": "code",
   "execution_count": null,
   "id": "2137892b",
   "metadata": {},
   "outputs": [],
   "source": []
  },
  {
   "cell_type": "code",
   "execution_count": null,
   "id": "01f39d03",
   "metadata": {},
   "outputs": [],
   "source": []
  },
  {
   "cell_type": "code",
   "execution_count": 47,
   "id": "f8ee6399",
   "metadata": {},
   "outputs": [],
   "source": [
    "a=(2,3.4,1,5,7,\"ashish\",True)"
   ]
  },
  {
   "cell_type": "code",
   "execution_count": 49,
   "id": "a45a1e6f",
   "metadata": {},
   "outputs": [
    {
     "data": {
      "text/plain": [
       "2"
      ]
     },
     "execution_count": 49,
     "metadata": {},
     "output_type": "execute_result"
    }
   ],
   "source": [
    "a.index(True)"
   ]
  },
  {
   "cell_type": "code",
   "execution_count": null,
   "id": "82a06cd5",
   "metadata": {},
   "outputs": [],
   "source": []
  }
 ],
 "metadata": {
  "kernelspec": {
   "display_name": "Python 3 (ipykernel)",
   "language": "python",
   "name": "python3"
  },
  "language_info": {
   "codemirror_mode": {
    "name": "ipython",
    "version": 3
   },
   "file_extension": ".py",
   "mimetype": "text/x-python",
   "name": "python",
   "nbconvert_exporter": "python",
   "pygments_lexer": "ipython3",
   "version": "3.8.10"
  }
 },
 "nbformat": 4,
 "nbformat_minor": 5
}
