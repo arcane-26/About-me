{
 "cells": [
  {
   "cell_type": "code",
   "execution_count": 1,
   "id": "99eef62c",
   "metadata": {},
   "outputs": [],
   "source": [
    "import time"
   ]
  },
  {
   "cell_type": "code",
   "execution_count": 4,
   "id": "3f99c741",
   "metadata": {},
   "outputs": [
    {
     "name": "stdout",
     "output_type": "stream",
     "text": [
      "calculating squares\n",
      "squares:  4\n",
      "squares:  9\n",
      "squares:  16\n",
      "squares:  25\n",
      "calculating cubes\n",
      "cubes:  8\n",
      "cubes:  27\n",
      "cubes:  64\n",
      "cubes:  125\n",
      "completed in 1.640657901763916 seconds\n"
     ]
    }
   ],
   "source": [
    "def calc_sq(numbers):\n",
    "    print(\"calculating squares\")\n",
    "    \n",
    "    for i in numbers:\n",
    "        time.sleep(0.2)\n",
    "        print('squares: ',i*i)\n",
    "        \n",
    "def calc_cub(numbers):\n",
    "    print('calculating cubes')\n",
    "    \n",
    "    for i in numbers:\n",
    "        time.sleep(0.2)\n",
    "        print('cubes: ',i*i*i)\n",
    "        \n",
    "arr=[2,3,4,5]\n",
    "start=time.time()\n",
    "calc_sq(arr)\n",
    "calc_cub(arr)\n",
    "finish=time.time()\n",
    "\n",
    "print(f\"completed in {finish-start} seconds\")\n"
   ]
  },
  {
   "cell_type": "code",
   "execution_count": null,
   "id": "3cece509",
   "metadata": {},
   "outputs": [],
   "source": []
  },
  {
   "cell_type": "code",
   "execution_count": null,
   "id": "a703e23f",
   "metadata": {},
   "outputs": [],
   "source": []
  },
  {
   "cell_type": "code",
   "execution_count": 6,
   "id": "c7fd3baf",
   "metadata": {},
   "outputs": [
    {
     "name": "stdout",
     "output_type": "stream",
     "text": [
      "calculating squares\n",
      "calculating cubes\n",
      "cubes:  8\n",
      "squares:  4\n",
      "cubes: squares:  9\n",
      " 27\n",
      "squares:  16\n",
      "cubes:  64\n",
      "squares:  25\n",
      "cubes:  125\n",
      "executed in 0.8447802066802979 seconds\n"
     ]
    }
   ],
   "source": [
    "import time\n",
    "import threading\n",
    "\n",
    "def calc_sq(numbers):\n",
    "    print(\"calculating squares\")\n",
    "    \n",
    "    for i in numbers:\n",
    "        time.sleep(0.2)\n",
    "        print('squares: ',i*i)\n",
    "        \n",
    "def calc_cub(numbers):\n",
    "    print('calculating cubes')\n",
    "    \n",
    "    for i in numbers:\n",
    "        time.sleep(0.2)\n",
    "        print('cubes: ',i*i*i)\n",
    "        \n",
    "arr=[2,3,4,5]\n",
    "\n",
    "\n",
    "s1=threading.Thread(target=calc_sq,args=(arr,))\n",
    "s2=threading.Thread(target=calc_cub,args=(arr,))\n",
    "\n",
    "starting=time.time()\n",
    "\n",
    "s1.start()\n",
    "s2.start()\n",
    "\n",
    "s1.join()\n",
    "s2.join()\n",
    "\n",
    "ending=time.time()\n",
    "\n",
    "print(f\"executed in {ending-starting} seconds\")\n",
    "\n"
   ]
  },
  {
   "cell_type": "code",
   "execution_count": null,
   "id": "863d4829",
   "metadata": {},
   "outputs": [],
   "source": []
  },
  {
   "cell_type": "code",
   "execution_count": null,
   "id": "dd4db68c",
   "metadata": {},
   "outputs": [],
   "source": []
  },
  {
   "cell_type": "code",
   "execution_count": null,
   "id": "40c6e400",
   "metadata": {},
   "outputs": [],
   "source": []
  },
  {
   "cell_type": "markdown",
   "id": "8e9d7200",
   "metadata": {},
   "source": [
    "# Multiprocessing"
   ]
  },
  {
   "cell_type": "code",
   "execution_count": 8,
   "id": "212fe60b",
   "metadata": {},
   "outputs": [],
   "source": [
    "import time\n",
    "import multiprocessing"
   ]
  },
  {
   "cell_type": "code",
   "execution_count": 15,
   "id": "b3647b3f",
   "metadata": {},
   "outputs": [
    {
     "name": "stdout",
     "output_type": "stream",
     "text": [
      "done\n"
     ]
    }
   ],
   "source": [
    "def calcsq(numbers):\n",
    "    print('printing squares')\n",
    "    for i in numbers:\n",
    "        print('square: ',i*i)\n",
    "        \n",
    "def calcub(numbers):\n",
    "    print('printing cubes')\n",
    "    for i in numbers:\n",
    "        print('cubes: ',i*i*i)\n",
    "        \n",
    "\n",
    "if __name__=='__main__':\n",
    "    arr=[4,6,7,2]\n",
    "\n",
    "\n",
    "    mp1=multiprocessing.Process(target=calcsq,args=(arr,))\n",
    "    mp2=multiprocessing.Process(target=calcub,args=(arr,))\n",
    "\n",
    "    mp1.start()\n",
    "    mp2.start()\n",
    "\n",
    "    mp1.join()\n",
    "    mp2.join()\n",
    "\n",
    "    print('done')\n"
   ]
  },
  {
   "cell_type": "code",
   "execution_count": null,
   "id": "d3d93c3c",
   "metadata": {},
   "outputs": [],
   "source": []
  },
  {
   "cell_type": "code",
   "execution_count": null,
   "id": "4f414733",
   "metadata": {},
   "outputs": [],
   "source": []
  },
  {
   "cell_type": "code",
   "execution_count": null,
   "id": "0967343d",
   "metadata": {},
   "outputs": [],
   "source": []
  },
  {
   "cell_type": "code",
   "execution_count": null,
   "id": "fda8e5a3",
   "metadata": {},
   "outputs": [],
   "source": []
  },
  {
   "cell_type": "code",
   "execution_count": null,
   "id": "8d3ab5bf",
   "metadata": {},
   "outputs": [],
   "source": []
  },
  {
   "cell_type": "code",
   "execution_count": null,
   "id": "93bd3ffd",
   "metadata": {},
   "outputs": [],
   "source": []
  },
  {
   "cell_type": "code",
   "execution_count": null,
   "id": "4df0c54a",
   "metadata": {},
   "outputs": [],
   "source": []
  },
  {
   "cell_type": "code",
   "execution_count": null,
   "id": "b5bf83fa",
   "metadata": {},
   "outputs": [],
   "source": []
  },
  {
   "cell_type": "code",
   "execution_count": null,
   "id": "3a88bc7c",
   "metadata": {},
   "outputs": [],
   "source": []
  },
  {
   "cell_type": "code",
   "execution_count": null,
   "id": "42d99f49",
   "metadata": {},
   "outputs": [],
   "source": []
  },
  {
   "cell_type": "code",
   "execution_count": null,
   "id": "63a2ba2b",
   "metadata": {},
   "outputs": [],
   "source": []
  },
  {
   "cell_type": "code",
   "execution_count": null,
   "id": "d7376aa7",
   "metadata": {},
   "outputs": [],
   "source": []
  },
  {
   "cell_type": "code",
   "execution_count": null,
   "id": "007676b6",
   "metadata": {},
   "outputs": [],
   "source": []
  },
  {
   "cell_type": "code",
   "execution_count": null,
   "id": "82b3a51f",
   "metadata": {},
   "outputs": [],
   "source": []
  },
  {
   "cell_type": "code",
   "execution_count": null,
   "id": "98c68fb7",
   "metadata": {},
   "outputs": [],
   "source": []
  },
  {
   "cell_type": "code",
   "execution_count": null,
   "id": "91933c46",
   "metadata": {},
   "outputs": [],
   "source": []
  }
 ],
 "metadata": {
  "kernelspec": {
   "display_name": "Python 3 (ipykernel)",
   "language": "python",
   "name": "python3"
  },
  "language_info": {
   "codemirror_mode": {
    "name": "ipython",
    "version": 3
   },
   "file_extension": ".py",
   "mimetype": "text/x-python",
   "name": "python",
   "nbconvert_exporter": "python",
   "pygments_lexer": "ipython3",
   "version": "3.8.10"
  }
 },
 "nbformat": 4,
 "nbformat_minor": 5
}
